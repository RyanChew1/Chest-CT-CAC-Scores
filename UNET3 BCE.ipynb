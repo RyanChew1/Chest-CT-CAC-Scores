{
 "cells": [
  {
   "attachments": {},
   "cell_type": "markdown",
   "metadata": {},
   "source": [
    "# **BASELINE - UNET**"
   ]
  },
  {
   "cell_type": "markdown",
   "metadata": {},
   "source": [
    "# Architecture\n",
    "\n",
    "Type info here"
   ]
  },
  {
   "attachments": {},
   "cell_type": "markdown",
   "metadata": {},
   "source": [
    "# Import Dependencies"
   ]
  },
  {
   "cell_type": "code",
   "execution_count": 38,
   "metadata": {},
   "outputs": [],
   "source": [
    "# File Support\n",
    "try: \n",
    "    import pydicom as dcm\n",
    "except:\n",
    "    # Use try except for Google Colab\n",
    "    !pip install pydicom\n",
    "from pydicom.data import get_testdata_files\n",
    "import xml\n",
    "import xml.etree.ElementTree as ET \n",
    "\n",
    "# Base\n",
    "import numpy as np\n",
    "import pandas as pd\n",
    "import json\n",
    "import random\n",
    "import gc\n",
    "from tqdm import tqdm\n",
    "\n",
    "# Visualization\n",
    "import matplotlib.pyplot as plt\n",
    "from matplotlib.patches import Polygon\n",
    "from matplotlib.path import Path\n",
    "from matplotlib.colors import Normalize\n",
    "from matplotlib.cm import ScalarMappable\n",
    "import seaborn as sns\n",
    "from PIL import Image\n",
    "\n",
    "# SK-learn\n",
    "import sklearn\n",
    "from sklearn.model_selection import KFold, GridSearchCV, RandomizedSearchCV\n",
    "\n",
    "# Files\n",
    "import os\n",
    "from os.path import join, split\n",
    "from glob import glob\n",
    "\n",
    "# Torch\n",
    "import torch\n",
    "from torch import nn\n",
    "from torch.nn import Conv2d, MaxPool2d, ReLU, ConvTranspose2d\n",
    "from torch.utils.data import Dataset, DataLoader\n",
    "from torch.utils.data import random_split\n",
    "import torchvision\n",
    "from torchvision.transforms import CenterCrop\n",
    "import torch.nn.functional as F\n",
    "from torch.optim import AdamW\n",
    "import torch.optim.lr_scheduler as lr_scheduler\n",
    "from torch.utils.checkpoint import checkpoint\n",
    "from torch.autograd import Variable\n",
    "\n",
    "import tempfile\n",
    "import torch.multiprocessing as mp\n",
    "import torch.distributed as dist\n",
    "from torch.nn.parallel import DistributedDataParallel as DDP\n",
    "from torch.distributed.fsdp import CPUOffload, wrap\n",
    "import bitsandbytes as bnb"
   ]
  },
  {
   "cell_type": "code",
   "execution_count": 39,
   "metadata": {},
   "outputs": [
    {
     "data": {
      "text/plain": [
       "'2.2.2+cu121'"
      ]
     },
     "execution_count": 39,
     "metadata": {},
     "output_type": "execute_result"
    }
   ],
   "source": [
    "torch.__version__"
   ]
  },
  {
   "cell_type": "code",
   "execution_count": 40,
   "metadata": {},
   "outputs": [],
   "source": [
    "os.environ[\"PYTORCH_CUDA_ALLOC_CONF\"] = \"max_split_size_mb:128\""
   ]
  },
  {
   "cell_type": "code",
   "execution_count": 41,
   "metadata": {},
   "outputs": [
    {
     "data": {
      "text/plain": [
       "True"
      ]
     },
     "execution_count": 41,
     "metadata": {},
     "output_type": "execute_result"
    }
   ],
   "source": [
    "torch.cuda.is_available()"
   ]
  },
  {
   "attachments": {},
   "cell_type": "markdown",
   "metadata": {},
   "source": [
    "# Config"
   ]
  },
  {
   "cell_type": "code",
   "execution_count": 42,
   "metadata": {},
   "outputs": [
    {
     "data": {
      "text/plain": [
       "7547"
      ]
     },
     "execution_count": 42,
     "metadata": {},
     "output_type": "execute_result"
    }
   ],
   "source": [
    "len(os.listdir(\"Numpy Dataset\\\\all\\images\"))"
   ]
  },
  {
   "cell_type": "code",
   "execution_count": 43,
   "metadata": {},
   "outputs": [],
   "source": [
    "class CFG:\n",
    "    random_seed = 42\n",
    "    gated = True\n",
    "    path = \"Coronary CT Data\\Gated_release_final\" if gated else \"Coronary CT Data/deidentified_nongated\"\n",
    "    device = \"cuda:0\" if torch.cuda.is_available() else \"cpu\"\n",
    "    train_new = True\n",
    "    model_num = len(os.listdir(\"Models\")) if train_new else len(os.listdir(\"Models\"))-1\n",
    "\n",
    "    batch_size = 8\n",
    "    nEpochs = 100\n",
    "    lr = 0.1\n"
   ]
  },
  {
   "cell_type": "code",
   "execution_count": 44,
   "metadata": {},
   "outputs": [],
   "source": [
    "import warnings\n",
    "warnings.filterwarnings(\"ignore\")"
   ]
  },
  {
   "cell_type": "code",
   "execution_count": 45,
   "metadata": {},
   "outputs": [
    {
     "data": {
      "text/plain": [
       "9057"
      ]
     },
     "execution_count": 45,
     "metadata": {},
     "output_type": "execute_result"
    }
   ],
   "source": [
    "torch.cuda.empty_cache()\n",
    "gc.collect()"
   ]
  },
  {
   "cell_type": "code",
   "execution_count": 46,
   "metadata": {},
   "outputs": [
    {
     "data": {
      "text/plain": [
       "21"
      ]
     },
     "execution_count": 46,
     "metadata": {},
     "output_type": "execute_result"
    }
   ],
   "source": [
    "torch.cuda.memory_usage()"
   ]
  },
  {
   "cell_type": "code",
   "execution_count": 47,
   "metadata": {},
   "outputs": [],
   "source": [
    "def setup(rank, world_size):\n",
    "    os.environ['MASTER_ADDR'] = 'localhost'\n",
    "    os.environ['MASTER_PORT'] = '12355'\n",
    "\n",
    "    # initialize the process group\n",
    "    dist.init_process_group(\"gloo\", rank=rank, world_size=world_size)\n",
    "\n",
    "def cleanup():\n",
    "    dist.destroy_process_group()"
   ]
  },
  {
   "attachments": {},
   "cell_type": "markdown",
   "metadata": {},
   "source": [
    "## Reproducibility"
   ]
  },
  {
   "cell_type": "code",
   "execution_count": 48,
   "metadata": {},
   "outputs": [
    {
     "name": "stdout",
     "output_type": "stream",
     "text": [
      "Seed: 42\n"
     ]
    }
   ],
   "source": [
    "def set_seed(seed=CFG.random_seed):\n",
    "    print(f\"Seed: {seed}\")\n",
    "    random.seed(seed)\n",
    "    np.random.seed(seed)\n",
    "    torch.manual_seed(seed)\n",
    "\n",
    "set_seed()"
   ]
  },
  {
   "attachments": {},
   "cell_type": "markdown",
   "metadata": {},
   "source": [
    "# Load Data"
   ]
  },
  {
   "cell_type": "code",
   "execution_count": 49,
   "metadata": {},
   "outputs": [],
   "source": [
    "def parseXML(xmlfile): \n",
    "    # create element tree object \n",
    "    tree = ET.parse(xmlfile) \n",
    "\n",
    "    all_images = []\n",
    "\n",
    "    images = tree.find(\"dict\").find(\"array\")\n",
    "    images = images.findall(\"dict\")\n",
    "\n",
    "    # Images\n",
    "    for image in images:\n",
    "        image_data = {}\n",
    "        arr = [i.text for i in image if i.tag not in [\"array\", \"dict\"]]\n",
    "        \n",
    "        for i in range(len(arr)//2):\n",
    "            image_data[arr[2*i]] = arr[2*i+1]\n",
    "\n",
    "        image_data['ROIs'] = []\n",
    "\n",
    "        # ROI\n",
    "        all_roi = image.find(\"array\").findall('dict')\n",
    "        for roi in all_roi:\n",
    "            roi_data = {}\n",
    "            arr = [i.text for i in roi if i.tag not in [\"array\", \"dict\"]]\n",
    "        \n",
    "            for i in range(len(arr)//2):\n",
    "                roi_data[arr[2*i]] = arr[2*i+1]\n",
    "\n",
    "            all_points = roi.findall('array')\n",
    "            roi_data['point_mm'] = [i.text for i in all_points[0].findall(\"string\")]\n",
    "            roi_data['point_px'] = [i.text for i in all_points[1].findall(\"string\")]\n",
    "            \n",
    "            image_data['ROIs'].append(roi_data)\n",
    "        all_images.append(image_data)\n",
    "\n",
    "    return all_images"
   ]
  },
  {
   "cell_type": "code",
   "execution_count": 50,
   "metadata": {},
   "outputs": [],
   "source": [
    "def create_segments(image_array, points):\n",
    "    polygon = Polygon(points, closed=True, edgecolor='r', facecolor='r')\n",
    "    polygon_indices = np.array(points)\n",
    "    polygon_indices[:, 0] = np.clip(polygon_indices[:, 0], 0, 511)\n",
    "    polygon_indices[:, 1] = np.clip(polygon_indices[:, 1], 0, 511)\n",
    "    image_array[polygon_indices[:, 1], polygon_indices[:, 0]] = 1\n",
    "    polygon_path = Path(polygon_indices)\n",
    "    x, y = np.meshgrid(np.arange(512), np.arange(512))\n",
    "    points = np.column_stack((x.flatten(), y.flatten()))\n",
    "    mask = polygon_path.contains_points(points).reshape(512, 512)\n",
    "    image_array[mask] = 1\n",
    "\n",
    "    return image_array"
   ]
  },
  {
   "cell_type": "code",
   "execution_count": 51,
   "metadata": {},
   "outputs": [],
   "source": [
    "class CTDataset(Dataset):\n",
    "    def __init__(self, dir):\n",
    "        super().__init__()\n",
    "        self.dir = dir\n",
    "        self.images_path = join(dir, \"images\")\n",
    "        self.labels_path = join(dir, \"labels\")\n",
    "        self.images = os.listdir(self.images_path)\n",
    "        self.labels = os.listdir(self.labels_path)\n",
    "\n",
    "    def __len__(self):\n",
    "        return len(self.images)\n",
    "    \n",
    "    def __getitem__(self, idx): # Return tuple (x, y)\n",
    "        try:\n",
    "            img = np.load(join(self.images_path, self.images[idx]), allow_pickle=True)\n",
    "            img = img.reshape(1, 512, 512) # Hard coded since all images are 512, 512\n",
    "\n",
    "            label = np.load(join(self.labels_path, self.labels[idx]), allow_pickle=True)\n",
    "            label = label.reshape(1, 512, 512)\n",
    "        except:\n",
    "            img, label = np.zeros((1,512,512), np.float32),np.zeros((1,512,512), np.float32)\n",
    "        return  img,label"
   ]
  },
  {
   "cell_type": "code",
   "execution_count": 52,
   "metadata": {},
   "outputs": [],
   "source": [
    "train = CTDataset(\"Numpy Dataset\\\\train\")\n",
    "valid = CTDataset(\"Numpy Dataset\\\\valid\")\n",
    "test = CTDataset(\"Numpy Dataset\\\\test\")"
   ]
  },
  {
   "cell_type": "code",
   "execution_count": 53,
   "metadata": {},
   "outputs": [],
   "source": [
    "trainDL = DataLoader(train, batch_size=CFG.batch_size,shuffle=True, pin_memory=True)\n",
    "validDL = DataLoader(valid, batch_size=CFG.batch_size)\n",
    "testDL = DataLoader(test, batch_size=1)"
   ]
  },
  {
   "cell_type": "code",
   "execution_count": 54,
   "metadata": {},
   "outputs": [
    {
     "name": "stdout",
     "output_type": "stream",
     "text": [
      "Train: 5331\n",
      "Valid: 1598\n",
      "Test: 616\n"
     ]
    }
   ],
   "source": [
    "print(f\"Train: {len(train)}\")\n",
    "print(f\"Valid: {len(valid)}\")\n",
    "print(f\"Test: {len(test)}\")"
   ]
  },
  {
   "attachments": {},
   "cell_type": "markdown",
   "metadata": {},
   "source": [
    "# Model"
   ]
  },
  {
   "cell_type": "code",
   "execution_count": 55,
   "metadata": {},
   "outputs": [],
   "source": [
    "class Block(nn.Module):\n",
    "    def __init__(self, in_ch, out_ch):\n",
    "        super().__init__()\n",
    "\n",
    "        self.conv1 = Conv2d(in_ch, out_ch, 3, padding=1)\n",
    "        self.relu  = ReLU()\n",
    "        self.conv2 = Conv2d(out_ch, out_ch, 3, padding=1)\n",
    "\n",
    "        # init random weights\n",
    "        nn.init.xavier_normal_(self.conv1.weight)\n",
    "        nn.init.zeros_(self.conv1.bias)\n",
    "\n",
    "        nn.init.xavier_normal_(self.conv2.weight)\n",
    "        nn.init.zeros_(self.conv2.bias)\n",
    "    \n",
    "    def forward(self, x):\n",
    "        return self.relu(self.conv2(self.relu(self.conv1(x))))"
   ]
  },
  {
   "cell_type": "code",
   "execution_count": 56,
   "metadata": {},
   "outputs": [],
   "source": [
    "class AutoEncoder(nn.Module):\n",
    "    def __init__(self, channels = (1,32,64,128,256,512,1024)):\n",
    "        super().__init__()\n",
    "        self.channels = channels\n",
    "        self.pool = MaxPool2d((2,2))\n",
    "\n",
    "        self.encoder = nn.ModuleList([\n",
    "            Block(channels[i], channels[i+1]) for i in range(len(channels)-1) # 1, 32, ..., 1024\n",
    "        ])\n",
    "\n",
    "    def forward(self, x):\n",
    "        skip_out = []\n",
    "        for block in self.encoder: # Goes through all blocks, passes through block and saves skip output\n",
    "            x = block(x)\n",
    "            skip_out.append(x)\n",
    "            x = self.pool(x) # Reduces dim\n",
    "        return skip_out"
   ]
  },
  {
   "cell_type": "code",
   "execution_count": 57,
   "metadata": {},
   "outputs": [],
   "source": [
    "class AutoDecoder(nn.Module):\n",
    "    def __init__(self, channels = (1,32,64,128,256,512,1024)):\n",
    "        super().__init__()\n",
    "        self.channels = channels[:0:-1] # Reverse of Encoder (Excluding First Unneeded in Output)\n",
    "        self.pool = MaxPool2d((2,2))\n",
    "        self.upconv = nn.ModuleList([\n",
    "            ConvTranspose2d(self.channels[i], self.channels[i+1], 2, 2) for i in range(len(self.channels)-1)\n",
    "        ])\n",
    "\n",
    "        self.decoder = nn.ModuleList([\n",
    "            Block(self.channels[i], self.channels[i+1]) for i in range(len(self.channels)-1)\n",
    "        ])\n",
    "\n",
    "    def center_crop(self, x, enc_out): # Crop encoder output\n",
    "        _, _, h, w = x.shape\n",
    "        enc_out = CenterCrop([h,w])(enc_out)\n",
    "        return enc_out\n",
    "    \n",
    "    def forward(self, x, enc_out:list):\n",
    "        for i in range(len(self.channels)-1):\n",
    "            x = self.upconv[i](x)\n",
    "            enc_ftrs = self.center_crop(x, enc_out[i]) # Crop Skip\n",
    "            x = torch.cat([x, enc_ftrs], dim=1) # Concatenate Decoder and Skip\n",
    "            x = self.decoder[i](x)\n",
    "\n",
    "            # Min Max Scaling [0,1]\n",
    "            x = (x-x.min())/(x.max()-x.min())\n",
    "        return x\n"
   ]
  },
  {
   "cell_type": "code",
   "execution_count": 58,
   "metadata": {},
   "outputs": [],
   "source": [
    "class UNET(nn.Module):\n",
    "    def __init__(self, channels = (1,32,64,128,256,512, 1024, 2048)):\n",
    "        super().__init__()\n",
    "\n",
    "        # Encoder Path\n",
    "        self.enc_path = AutoEncoder(channels)\n",
    "\n",
    "        # Decoder Path\n",
    "        self.dec_path = AutoDecoder(channels)\n",
    "\n",
    "        self.out = Conv2d(channels[1], 1, 1)\n",
    "\n",
    "        # init random weights\n",
    "        nn.init.xavier_normal_(self.out.weight)\n",
    "        nn.init.zeros_(self.out.bias)\n",
    "\n",
    "    \n",
    "    def forward(self, x):\n",
    "        skips = self.enc_path(x)\n",
    "        x = self.dec_path(skips[::-1][0], skips[::-1][1:]) \n",
    "        # Reverse of enc_out = upward path of decoder \n",
    "        #  [0] -> 1024 output\n",
    "        # [1:] -> All other skip outputs\n",
    "        x = self.out(x)\n",
    "        # x = F.interpolate(x, (512,512))\n",
    "        x = F.sigmoid(x)\n",
    "\n",
    "        return x"
   ]
  },
  {
   "cell_type": "code",
   "execution_count": 59,
   "metadata": {},
   "outputs": [],
   "source": [
    "if not CFG.train_new:\n",
    "    try:\n",
    "        model = torch.load(f\"Models/{CFG.model_name}/{CFG.model_name}.pt\")\n",
    "    except FileNotFoundError:\n",
    "        print(\"Model not found in models folder\")"
   ]
  },
  {
   "attachments": {},
   "cell_type": "markdown",
   "metadata": {},
   "source": [
    "# Train"
   ]
  },
  {
   "attachments": {},
   "cell_type": "markdown",
   "metadata": {},
   "source": [
    "## Dice Loss"
   ]
  },
  {
   "cell_type": "markdown",
   "metadata": {},
   "source": [
    "Sørensen–Dice coefficient:\n",
    "[Wikipedia](https://en.wikipedia.org/wiki/S%C3%B8rensen%E2%80%93Dice_coefficient)\n",
    "</br>\n",
    "$${\\displaystyle DSC={\\frac {2|X\\cap Y|}{|X|+|Y|}}}"
   ]
  },
  {
   "cell_type": "code",
   "execution_count": 60,
   "metadata": {},
   "outputs": [],
   "source": [
    "class diceCoef(nn.Module):\n",
    "    def init(self):\n",
    "        super(diceCoef, self).init()\n",
    "\n",
    "    def forward(self, inputs, targets, smooth=1):        \n",
    "        #flatten label and prediction tensors\n",
    "        inputs = inputs.view(-1)\n",
    "        targets = targets.view(-1)\n",
    "        \n",
    "        intersection = (inputs * targets).sum()                            \n",
    "        dice = (2.*intersection + smooth)/(inputs.sum() + targets.sum() + smooth)  \n",
    "        \n",
    "        return 1 - dice"
   ]
  },
  {
   "cell_type": "code",
   "execution_count": 61,
   "metadata": {},
   "outputs": [],
   "source": [
    "class DiceBCELoss(nn.Module):\n",
    "    def __init__(self, weight=None, size_average=True):\n",
    "        super(DiceBCELoss, self).__init__()\n",
    "\n",
    "    def forward(self, inputs, targets, smooth=1):\n",
    "        \n",
    "        #comment out if your model contains a sigmoid or equivalent activation layer\n",
    "        inputs = F.sigmoid(inputs)       \n",
    "        \n",
    "        #flatten label and prediction tensors\n",
    "        inputs = inputs.view(-1)\n",
    "        targets = targets.view(-1)\n",
    "        \n",
    "        intersection = (inputs * targets).sum()                            \n",
    "        dice_loss = 1 - (2.*intersection + smooth)/(inputs.sum() + targets.sum() + smooth)  \n",
    "        BCE = F.binary_cross_entropy(inputs, targets, reduction='mean')\n",
    "        Dice_BCE = BCE + dice_loss\n",
    "        \n",
    "        return Dice_BCE"
   ]
  },
  {
   "cell_type": "code",
   "execution_count": 62,
   "metadata": {},
   "outputs": [],
   "source": [
    "class IoULoss(nn.Module):\n",
    "    def __init__(self, weight=None, size_average=True):\n",
    "        super(IoULoss, self).__init__()\n",
    "\n",
    "    def forward(self, inputs, targets, smooth=1):\n",
    "        #comment out if your model contains a sigmoid or equivalent activation layer\n",
    "        inputs = F.sigmoid(inputs)       \n",
    "        \n",
    "        #flatten label and prediction tensors\n",
    "        inputs = inputs.view(-1)\n",
    "        targets = targets.view(-1)\n",
    "        \n",
    "        #intersection is equivalent to True Positive count\n",
    "        #union is the mutually inclusive area of all labels & predictions \n",
    "        intersection = (inputs * targets).sum()\n",
    "        total = (inputs + targets).sum()\n",
    "        union = total - intersection \n",
    "        \n",
    "        IoU = (intersection + smooth)/(union + smooth)\n",
    "                \n",
    "        return 1 - IoU"
   ]
  },
  {
   "cell_type": "code",
   "execution_count": 63,
   "metadata": {},
   "outputs": [],
   "source": [
    "class TverskyLoss(nn.Module):\n",
    "    def __init__(self, weight=None, size_average=True, ALPHA = 0.5, BETA = 0.5):\n",
    "        super(TverskyLoss, self).__init__()\n",
    "        self.alpha = ALPHA\n",
    "        self.beta = BETA\n",
    "\n",
    "    def forward(self, inputs, targets, smooth=1):\n",
    "        \n",
    "        #comment out if your model contains a sigmoid or equivalent activation layer\n",
    "        inputs = F.sigmoid(inputs)       \n",
    "        \n",
    "        #flatten label and prediction tensors\n",
    "        inputs = inputs.view(-1)\n",
    "        targets = targets.view(-1)\n",
    "        \n",
    "        #True Positives, False Positives & False Negatives\n",
    "        TP = (inputs * targets).sum()    \n",
    "        FP = ((1-targets) * inputs).sum()\n",
    "        FN = (targets * (1-inputs)).sum()\n",
    "       \n",
    "        Tversky = (TP + smooth) / (TP + self.alpha*FP + self.beta*FN + smooth)  \n",
    "        \n",
    "        return 1 - Tversky"
   ]
  },
  {
   "cell_type": "code",
   "execution_count": 64,
   "metadata": {},
   "outputs": [],
   "source": [
    "criterion_dice_bce = DiceBCELoss()"
   ]
  },
  {
   "cell_type": "code",
   "execution_count": 65,
   "metadata": {},
   "outputs": [],
   "source": [
    "criterion_dice = diceCoef()"
   ]
  },
  {
   "cell_type": "code",
   "execution_count": 66,
   "metadata": {},
   "outputs": [],
   "source": [
    "criterion_iou = IoULoss()"
   ]
  },
  {
   "cell_type": "code",
   "execution_count": 67,
   "metadata": {},
   "outputs": [],
   "source": [
    "criterion_bce = torch.nn.BCEWithLogitsLoss()"
   ]
  },
  {
   "cell_type": "code",
   "execution_count": 68,
   "metadata": {},
   "outputs": [],
   "source": [
    "criterion_tversk = TverskyLoss()"
   ]
  },
  {
   "attachments": {},
   "cell_type": "markdown",
   "metadata": {},
   "source": [
    "* Pixel Binary\n",
    "* IOU\n",
    "* BCE Dice"
   ]
  },
  {
   "attachments": {},
   "cell_type": "markdown",
   "metadata": {},
   "source": [
    "## Training Loop"
   ]
  },
  {
   "cell_type": "code",
   "execution_count": 69,
   "metadata": {},
   "outputs": [],
   "source": [
    "trainDL = DataLoader(train, batch_size=16, shuffle=True)\n",
    "validDL = DataLoader(valid, batch_size=16, shuffle=False)"
   ]
  },
  {
   "cell_type": "code",
   "execution_count": 70,
   "metadata": {},
   "outputs": [],
   "source": [
    "def train_epoch(model,  criterion, optim, scheduler):      \n",
    "    train_loss = 0\n",
    "    bce_loss = 0\n",
    "    iou_loss = 0\n",
    "    dice_loss = 0\n",
    "    for x,y in tqdm(trainDL):\n",
    "        x, y = x.to(CFG.device), y.to(CFG.device)\n",
    "        optim.zero_grad()\n",
    "        with torch.cuda.amp.autocast(dtype=torch.float16):\n",
    "            pred = checkpoint(model, x).detach()\n",
    "            loss = criterion(pred, y)\n",
    "            loss = Variable(loss, requires_grad=True)\n",
    "            \n",
    "        loss.backward()\n",
    "        optim.step()\n",
    "        train_loss += loss\n",
    "        del x,y,pred,loss\n",
    "    \n",
    "    \n",
    "    # eval\n",
    "    with torch.no_grad():\n",
    "        for x,y in validDL:\n",
    "            x, y = x.to(CFG.device), y.to(CFG.device)\n",
    "            pred = model(x).detach()\n",
    "            loss_bce = criterion_bce(pred, y)\n",
    "            loss_dice = criterion_dice(pred,y)\n",
    "            loss_iou = criterion_iou(pred, y)\n",
    "            bce_loss += loss_bce\n",
    "            iou_loss += loss_iou\n",
    "            dice_loss += loss_dice\n",
    "    \n",
    "    scheduler.step(bce_loss)\n",
    "        \n",
    "    avg_train_loss = train_loss/len(trainDL)\n",
    "    avg_bce_loss = bce_loss/len(validDL)\n",
    "    avg_iou_loss = iou_loss/len(validDL)\n",
    "    avg_dice_loss = dice_loss/len(validDL)\n",
    "\n",
    "    \n",
    "    print(f\"Train Loss: {avg_train_loss}\")\n",
    "    print(f\"Validation BCE Loss: {avg_bce_loss}\")\n",
    "    print(f\"Validation Dice Loss: {avg_dice_loss}\")\n",
    "    print(f\"Validation IOU Loss: {avg_iou_loss}\")\n",
    "    return avg_train_loss, avg_dice_loss"
   ]
  },
  {
   "cell_type": "code",
   "execution_count": 101,
   "metadata": {},
   "outputs": [],
   "source": [
    "def run_model(criterion, model = None, init_lr = 0.1, name = \"model\", nEpochs = CFG.nEpochs):\n",
    "    if not model:\n",
    "        model = UNET().to(CFG.device)\n",
    "    model.train()\n",
    "\n",
    "    optim = AdamW(model.parameters(), lr=init_lr)\n",
    "    scheduler = lr_scheduler.ReduceLROnPlateau(optim, factor=0.5, min_lr=0.0001, verbose=True)\n",
    "\n",
    "    train_hist = []\n",
    "    val_hist = []\n",
    "\n",
    "    for e in range(nEpochs):\n",
    "        print(f\"\\n\\n[INFO] Epoch {e+1}/{nEpochs}\")\n",
    "        print(scheduler.optimizer.param_groups[0]['lr'])\n",
    "        train_loss, val_loss = train_epoch(model, criterion, optim, scheduler)\n",
    "        train_hist.append(float(train_loss.detach().cpu()))\n",
    "        val_hist.append(float(val_loss.detach().cpu()))\n",
    "\n",
    "    if not os.path.exists(f\"Models/{name}\"):\n",
    "        os.mkdir(f\"Models/{name}\")\n",
    "    torch.save(model.state_dict(), f\"Models/{name}/model.pt\")\n",
    "\n",
    "    history = pd.DataFrame({\"train\":train_hist, \n",
    "                         'validation':val_hist}, index = range(1,len(train_hist)+1))\n",
    "    \n",
    "    history.to_csv(f\"Models/{name}/logs.csv\")"
   ]
  },
  {
   "cell_type": "code",
   "execution_count": 96,
   "metadata": {},
   "outputs": [
    {
     "ename": "NotImplementedError",
     "evalue": "",
     "output_type": "error",
     "traceback": [
      "\u001b[1;31m---------------------------------------------------------------------------\u001b[0m",
      "\u001b[1;31mNotImplementedError\u001b[0m                       Traceback (most recent call last)",
      "Cell \u001b[1;32mIn[96], line 3\u001b[0m\n\u001b[0;32m      1\u001b[0m \u001b[39mfor\u001b[39;00m i \u001b[39min\u001b[39;00m \u001b[39mrange\u001b[39m(\u001b[39m200\u001b[39m):\n\u001b[0;32m      2\u001b[0m     \u001b[39m# criterion = criterion_bce()\u001b[39;00m\n\u001b[1;32m----> 3\u001b[0m     run_model(criterion_bce, name\u001b[39m=\u001b[39;49m\u001b[39mf\u001b[39;49m\u001b[39m\"\u001b[39;49m\u001b[39mBCE2-\u001b[39;49m\u001b[39m{\u001b[39;49;00mi\u001b[39m}\u001b[39;49;00m\u001b[39m\"\u001b[39;49m, nEpochs\u001b[39m=\u001b[39;49m\u001b[39m2\u001b[39;49m)\n",
      "Cell \u001b[1;32mIn[93], line 8\u001b[0m, in \u001b[0;36mrun_model\u001b[1;34m(criterion, model, init_lr, name, nEpochs)\u001b[0m\n\u001b[0;32m      6\u001b[0m optim \u001b[39m=\u001b[39m AdamW(model\u001b[39m.\u001b[39mparameters(), lr\u001b[39m=\u001b[39minit_lr)\n\u001b[0;32m      7\u001b[0m scheduler \u001b[39m=\u001b[39m lr_scheduler\u001b[39m.\u001b[39mReduceLROnPlateau(optim, factor\u001b[39m=\u001b[39m\u001b[39m0.5\u001b[39m, min_lr\u001b[39m=\u001b[39m\u001b[39m0.0001\u001b[39m, verbose\u001b[39m=\u001b[39m\u001b[39mTrue\u001b[39;00m)\n\u001b[1;32m----> 8\u001b[0m \u001b[39mprint\u001b[39m(scheduler\u001b[39m.\u001b[39;49mget_lr())\n\u001b[0;32m     11\u001b[0m train_hist \u001b[39m=\u001b[39m []\n\u001b[0;32m     12\u001b[0m val_hist \u001b[39m=\u001b[39m []\n",
      "File \u001b[1;32md:\\PROJECTS\\CAC\\.venv\\lib\\site-packages\\torch\\optim\\lr_scheduler.py:117\u001b[0m, in \u001b[0;36mLRScheduler.get_lr\u001b[1;34m(self)\u001b[0m\n\u001b[0;32m    115\u001b[0m \u001b[39mdef\u001b[39;00m \u001b[39mget_lr\u001b[39m(\u001b[39mself\u001b[39m):\n\u001b[0;32m    116\u001b[0m     \u001b[39m# Compute learning rate using chainable form of the scheduler\u001b[39;00m\n\u001b[1;32m--> 117\u001b[0m     \u001b[39mraise\u001b[39;00m \u001b[39mNotImplementedError\u001b[39;00m\n",
      "\u001b[1;31mNotImplementedError\u001b[0m: "
     ]
    }
   ],
   "source": [
    "for i in range(200):\n",
    "    # criterion = criterion_bce()\n",
    "    run_model(criterion_bce, name=f\"BCE3-{i}\", nEpochs=2)"
   ]
  },
  {
   "cell_type": "code",
   "execution_count": 83,
   "metadata": {},
   "outputs": [],
   "source": [
    "losses = {}\n",
    "for i in glob(\"Models/**\"):\n",
    "    if os.path.exists(f\"{i}\\logs.csv\"):\n",
    "        try:\n",
    "            file_loss = min(pd.read_csv(f\"{i}\\logs.csv\")[\"validation\"])\n",
    "            losses[split(i)[-1]] = file_loss\n",
    "        except:\n",
    "            continue"
   ]
  },
  {
   "cell_type": "code",
   "execution_count": 84,
   "metadata": {},
   "outputs": [
    {
     "name": "stdout",
     "output_type": "stream",
     "text": [
      "BCE2-104\n"
     ]
    }
   ],
   "source": [
    "for i in losses:\n",
    "    if losses[i] == min(losses.values()):\n",
    "        print(i)\n",
    "        best = f\"Models/{i}/model.pt\""
   ]
  },
  {
   "cell_type": "code",
   "execution_count": 102,
   "metadata": {},
   "outputs": [
    {
     "name": "stdout",
     "output_type": "stream",
     "text": [
      "\n",
      "\n",
      "[INFO] Epoch 1/100\n",
      "0.1\n"
     ]
    },
    {
     "name": "stderr",
     "output_type": "stream",
     "text": [
      "100%|██████████| 334/334 [00:55<00:00,  6.03it/s]\n"
     ]
    },
    {
     "name": "stdout",
     "output_type": "stream",
     "text": [
      "Train Loss: 1.021493673324585\n",
      "Validation BCE Loss: 1.0259528160095215\n",
      "Validation Dice Loss: 0.9999650120735168\n",
      "Validation IOU Loss: 0.9999831318855286\n",
      "\n",
      "\n",
      "[INFO] Epoch 2/100\n",
      "0.1\n"
     ]
    },
    {
     "name": "stderr",
     "output_type": "stream",
     "text": [
      "100%|██████████| 334/334 [00:54<00:00,  6.09it/s]\n"
     ]
    },
    {
     "name": "stdout",
     "output_type": "stream",
     "text": [
      "Train Loss: 1.0213531255722046\n",
      "Validation BCE Loss: 1.0259528160095215\n",
      "Validation Dice Loss: 0.9999650120735168\n",
      "Validation IOU Loss: 0.9999831318855286\n",
      "\n",
      "\n",
      "[INFO] Epoch 3/100\n",
      "0.1\n"
     ]
    },
    {
     "name": "stderr",
     "output_type": "stream",
     "text": [
      "100%|██████████| 334/334 [00:54<00:00,  6.09it/s]\n"
     ]
    },
    {
     "name": "stdout",
     "output_type": "stream",
     "text": [
      "Train Loss: 1.0216952562332153\n",
      "Validation BCE Loss: 1.0259528160095215\n",
      "Validation Dice Loss: 0.9999650120735168\n",
      "Validation IOU Loss: 0.9999831318855286\n",
      "\n",
      "\n",
      "[INFO] Epoch 4/100\n",
      "0.1\n"
     ]
    },
    {
     "name": "stderr",
     "output_type": "stream",
     "text": [
      "100%|██████████| 334/334 [00:55<00:00,  6.07it/s]\n"
     ]
    },
    {
     "name": "stdout",
     "output_type": "stream",
     "text": [
      "Train Loss: 1.0214214324951172\n",
      "Validation BCE Loss: 1.0259528160095215\n",
      "Validation Dice Loss: 0.9999650120735168\n",
      "Validation IOU Loss: 0.9999831318855286\n",
      "\n",
      "\n",
      "[INFO] Epoch 5/100\n",
      "0.1\n"
     ]
    },
    {
     "name": "stderr",
     "output_type": "stream",
     "text": [
      "100%|██████████| 334/334 [00:55<00:00,  6.05it/s]\n"
     ]
    },
    {
     "name": "stdout",
     "output_type": "stream",
     "text": [
      "Train Loss: 1.0212551355361938\n",
      "Validation BCE Loss: 1.0259528160095215\n",
      "Validation Dice Loss: 0.9999650120735168\n",
      "Validation IOU Loss: 0.9999831318855286\n",
      "\n",
      "\n",
      "[INFO] Epoch 6/100\n",
      "0.1\n"
     ]
    },
    {
     "name": "stderr",
     "output_type": "stream",
     "text": [
      "100%|██████████| 334/334 [00:55<00:00,  6.06it/s]\n"
     ]
    },
    {
     "name": "stdout",
     "output_type": "stream",
     "text": [
      "Train Loss: 1.0215409994125366\n",
      "Validation BCE Loss: 1.0259528160095215\n",
      "Validation Dice Loss: 0.9999650120735168\n",
      "Validation IOU Loss: 0.9999831318855286\n",
      "\n",
      "\n",
      "[INFO] Epoch 7/100\n",
      "0.1\n"
     ]
    },
    {
     "name": "stderr",
     "output_type": "stream",
     "text": [
      "100%|██████████| 334/334 [00:54<00:00,  6.10it/s]\n"
     ]
    },
    {
     "name": "stdout",
     "output_type": "stream",
     "text": [
      "Train Loss: 1.021484136581421\n",
      "Validation BCE Loss: 1.0259528160095215\n",
      "Validation Dice Loss: 0.9999650120735168\n",
      "Validation IOU Loss: 0.9999831318855286\n",
      "\n",
      "\n",
      "[INFO] Epoch 8/100\n",
      "0.1\n"
     ]
    },
    {
     "name": "stderr",
     "output_type": "stream",
     "text": [
      "100%|██████████| 334/334 [00:54<00:00,  6.10it/s]\n"
     ]
    },
    {
     "name": "stdout",
     "output_type": "stream",
     "text": [
      "Train Loss: 1.021565318107605\n",
      "Validation BCE Loss: 1.0259528160095215\n",
      "Validation Dice Loss: 0.9999650120735168\n",
      "Validation IOU Loss: 0.9999831318855286\n",
      "\n",
      "\n",
      "[INFO] Epoch 9/100\n",
      "0.1\n"
     ]
    },
    {
     "name": "stderr",
     "output_type": "stream",
     "text": [
      "100%|██████████| 334/334 [00:55<00:00,  6.07it/s]\n"
     ]
    },
    {
     "name": "stdout",
     "output_type": "stream",
     "text": [
      "Train Loss: 1.0217386484146118\n",
      "Validation BCE Loss: 1.0259528160095215\n",
      "Validation Dice Loss: 0.9999650120735168\n",
      "Validation IOU Loss: 0.9999831318855286\n",
      "\n",
      "\n",
      "[INFO] Epoch 10/100\n",
      "0.1\n"
     ]
    },
    {
     "name": "stderr",
     "output_type": "stream",
     "text": [
      "100%|██████████| 334/334 [00:54<00:00,  6.07it/s]\n"
     ]
    },
    {
     "name": "stdout",
     "output_type": "stream",
     "text": [
      "Train Loss: 1.021519660949707\n",
      "Validation BCE Loss: 1.0259528160095215\n",
      "Validation Dice Loss: 0.9999650120735168\n",
      "Validation IOU Loss: 0.9999831318855286\n",
      "\n",
      "\n",
      "[INFO] Epoch 11/100\n",
      "0.1\n"
     ]
    },
    {
     "name": "stderr",
     "output_type": "stream",
     "text": [
      "100%|██████████| 334/334 [00:54<00:00,  6.10it/s]\n"
     ]
    },
    {
     "name": "stdout",
     "output_type": "stream",
     "text": [
      "Train Loss: 1.0215539932250977\n",
      "Validation BCE Loss: 1.0259528160095215\n",
      "Validation Dice Loss: 0.9999650120735168\n",
      "Validation IOU Loss: 0.9999831318855286\n",
      "\n",
      "\n",
      "[INFO] Epoch 12/100\n",
      "0.1\n"
     ]
    },
    {
     "name": "stderr",
     "output_type": "stream",
     "text": [
      "100%|██████████| 334/334 [00:54<00:00,  6.10it/s]\n"
     ]
    },
    {
     "name": "stdout",
     "output_type": "stream",
     "text": [
      "Train Loss: 1.0215682983398438\n",
      "Validation BCE Loss: 1.0259528160095215\n",
      "Validation Dice Loss: 0.9999650120735168\n",
      "Validation IOU Loss: 0.9999831318855286\n",
      "\n",
      "\n",
      "[INFO] Epoch 13/100\n",
      "0.05\n"
     ]
    },
    {
     "name": "stderr",
     "output_type": "stream",
     "text": [
      "100%|██████████| 334/334 [00:55<00:00,  6.06it/s]\n"
     ]
    },
    {
     "name": "stdout",
     "output_type": "stream",
     "text": [
      "Train Loss: 1.021691083908081\n",
      "Validation BCE Loss: 1.0259528160095215\n",
      "Validation Dice Loss: 0.9999650120735168\n",
      "Validation IOU Loss: 0.9999831318855286\n",
      "\n",
      "\n",
      "[INFO] Epoch 14/100\n",
      "0.05\n"
     ]
    },
    {
     "name": "stderr",
     "output_type": "stream",
     "text": [
      "100%|██████████| 334/334 [00:55<00:00,  6.04it/s]\n"
     ]
    },
    {
     "name": "stdout",
     "output_type": "stream",
     "text": [
      "Train Loss: 1.021449089050293\n",
      "Validation BCE Loss: 1.0259528160095215\n",
      "Validation Dice Loss: 0.9999650120735168\n",
      "Validation IOU Loss: 0.9999831318855286\n",
      "\n",
      "\n",
      "[INFO] Epoch 15/100\n",
      "0.05\n"
     ]
    },
    {
     "name": "stderr",
     "output_type": "stream",
     "text": [
      "100%|██████████| 334/334 [00:54<00:00,  6.08it/s]\n"
     ]
    },
    {
     "name": "stdout",
     "output_type": "stream",
     "text": [
      "Train Loss: 1.0216501951217651\n",
      "Validation BCE Loss: 1.0259528160095215\n",
      "Validation Dice Loss: 0.9999650120735168\n",
      "Validation IOU Loss: 0.9999831318855286\n",
      "\n",
      "\n",
      "[INFO] Epoch 16/100\n",
      "0.05\n"
     ]
    },
    {
     "name": "stderr",
     "output_type": "stream",
     "text": [
      "100%|██████████| 334/334 [00:54<00:00,  6.08it/s]\n"
     ]
    },
    {
     "name": "stdout",
     "output_type": "stream",
     "text": [
      "Train Loss: 1.0217034816741943\n",
      "Validation BCE Loss: 1.0259528160095215\n",
      "Validation Dice Loss: 0.9999650120735168\n",
      "Validation IOU Loss: 0.9999831318855286\n",
      "\n",
      "\n",
      "[INFO] Epoch 17/100\n",
      "0.05\n"
     ]
    },
    {
     "name": "stderr",
     "output_type": "stream",
     "text": [
      "100%|██████████| 334/334 [00:55<00:00,  6.07it/s]\n"
     ]
    },
    {
     "name": "stdout",
     "output_type": "stream",
     "text": [
      "Train Loss: 1.0214346647262573\n",
      "Validation BCE Loss: 1.0259528160095215\n",
      "Validation Dice Loss: 0.9999650120735168\n",
      "Validation IOU Loss: 0.9999831318855286\n",
      "\n",
      "\n",
      "[INFO] Epoch 18/100\n",
      "0.05\n"
     ]
    },
    {
     "name": "stderr",
     "output_type": "stream",
     "text": [
      "100%|██████████| 334/334 [00:55<00:00,  6.02it/s]\n"
     ]
    },
    {
     "name": "stdout",
     "output_type": "stream",
     "text": [
      "Train Loss: 1.0217572450637817\n",
      "Validation BCE Loss: 1.0259528160095215\n",
      "Validation Dice Loss: 0.9999650120735168\n",
      "Validation IOU Loss: 0.9999831318855286\n",
      "\n",
      "\n",
      "[INFO] Epoch 19/100\n",
      "0.05\n"
     ]
    },
    {
     "name": "stderr",
     "output_type": "stream",
     "text": [
      "100%|██████████| 334/334 [00:54<00:00,  6.07it/s]\n"
     ]
    },
    {
     "name": "stdout",
     "output_type": "stream",
     "text": [
      "Train Loss: 1.0214442014694214\n",
      "Validation BCE Loss: 1.0259528160095215\n",
      "Validation Dice Loss: 0.9999650120735168\n",
      "Validation IOU Loss: 0.9999831318855286\n",
      "\n",
      "\n",
      "[INFO] Epoch 20/100\n",
      "0.05\n"
     ]
    },
    {
     "name": "stderr",
     "output_type": "stream",
     "text": [
      "100%|██████████| 334/334 [00:54<00:00,  6.09it/s]\n"
     ]
    },
    {
     "name": "stdout",
     "output_type": "stream",
     "text": [
      "Train Loss: 1.0216313600540161\n",
      "Validation BCE Loss: 1.0259528160095215\n",
      "Validation Dice Loss: 0.9999650120735168\n",
      "Validation IOU Loss: 0.9999831318855286\n",
      "\n",
      "\n",
      "[INFO] Epoch 21/100\n",
      "0.05\n"
     ]
    },
    {
     "name": "stderr",
     "output_type": "stream",
     "text": [
      "100%|██████████| 334/334 [00:55<00:00,  6.03it/s]\n"
     ]
    },
    {
     "name": "stdout",
     "output_type": "stream",
     "text": [
      "Train Loss: 1.0216155052185059\n",
      "Validation BCE Loss: 1.0259528160095215\n",
      "Validation Dice Loss: 0.9999650120735168\n",
      "Validation IOU Loss: 0.9999831318855286\n",
      "\n",
      "\n",
      "[INFO] Epoch 22/100\n",
      "0.05\n"
     ]
    },
    {
     "name": "stderr",
     "output_type": "stream",
     "text": [
      "100%|██████████| 334/334 [00:55<00:00,  6.07it/s]\n"
     ]
    },
    {
     "name": "stdout",
     "output_type": "stream",
     "text": [
      "Train Loss: 1.0219138860702515\n",
      "Validation BCE Loss: 1.0259528160095215\n",
      "Validation Dice Loss: 0.9999650120735168\n",
      "Validation IOU Loss: 0.9999831318855286\n",
      "\n",
      "\n",
      "[INFO] Epoch 23/100\n",
      "0.05\n"
     ]
    },
    {
     "name": "stderr",
     "output_type": "stream",
     "text": [
      "100%|██████████| 334/334 [00:55<00:00,  6.07it/s]\n"
     ]
    },
    {
     "name": "stdout",
     "output_type": "stream",
     "text": [
      "Train Loss: 1.021393895149231\n",
      "Validation BCE Loss: 1.0259528160095215\n",
      "Validation Dice Loss: 0.9999650120735168\n",
      "Validation IOU Loss: 0.9999831318855286\n",
      "\n",
      "\n",
      "[INFO] Epoch 24/100\n",
      "0.025\n"
     ]
    },
    {
     "name": "stderr",
     "output_type": "stream",
     "text": [
      "100%|██████████| 334/334 [00:55<00:00,  6.07it/s]\n"
     ]
    },
    {
     "name": "stdout",
     "output_type": "stream",
     "text": [
      "Train Loss: 1.0214017629623413\n",
      "Validation BCE Loss: 1.0259528160095215\n",
      "Validation Dice Loss: 0.9999650120735168\n",
      "Validation IOU Loss: 0.9999831318855286\n",
      "\n",
      "\n",
      "[INFO] Epoch 25/100\n",
      "0.025\n"
     ]
    },
    {
     "name": "stderr",
     "output_type": "stream",
     "text": [
      "100%|██████████| 334/334 [00:54<00:00,  6.08it/s]\n"
     ]
    },
    {
     "name": "stdout",
     "output_type": "stream",
     "text": [
      "Train Loss: 1.021389126777649\n",
      "Validation BCE Loss: 1.0259528160095215\n",
      "Validation Dice Loss: 0.9999650120735168\n",
      "Validation IOU Loss: 0.9999831318855286\n",
      "\n",
      "\n",
      "[INFO] Epoch 26/100\n",
      "0.025\n"
     ]
    },
    {
     "name": "stderr",
     "output_type": "stream",
     "text": [
      "100%|██████████| 334/334 [00:54<00:00,  6.10it/s]\n"
     ]
    },
    {
     "name": "stdout",
     "output_type": "stream",
     "text": [
      "Train Loss: 1.0216028690338135\n",
      "Validation BCE Loss: 1.0259528160095215\n",
      "Validation Dice Loss: 0.9999650120735168\n",
      "Validation IOU Loss: 0.9999831318855286\n",
      "\n",
      "\n",
      "[INFO] Epoch 27/100\n",
      "0.025\n"
     ]
    },
    {
     "name": "stderr",
     "output_type": "stream",
     "text": [
      "100%|██████████| 334/334 [00:54<00:00,  6.09it/s]\n"
     ]
    },
    {
     "name": "stdout",
     "output_type": "stream",
     "text": [
      "Train Loss: 1.0215421915054321\n",
      "Validation BCE Loss: 1.0259528160095215\n",
      "Validation Dice Loss: 0.9999650120735168\n",
      "Validation IOU Loss: 0.9999831318855286\n",
      "\n",
      "\n",
      "[INFO] Epoch 28/100\n",
      "0.025\n"
     ]
    },
    {
     "name": "stderr",
     "output_type": "stream",
     "text": [
      "100%|██████████| 334/334 [00:54<00:00,  6.10it/s]\n"
     ]
    },
    {
     "name": "stdout",
     "output_type": "stream",
     "text": [
      "Train Loss: 1.0215821266174316\n",
      "Validation BCE Loss: 1.0259528160095215\n",
      "Validation Dice Loss: 0.9999650120735168\n",
      "Validation IOU Loss: 0.9999831318855286\n",
      "\n",
      "\n",
      "[INFO] Epoch 29/100\n",
      "0.025\n"
     ]
    },
    {
     "name": "stderr",
     "output_type": "stream",
     "text": [
      "100%|██████████| 334/334 [00:53<00:00,  6.29it/s]\n"
     ]
    },
    {
     "name": "stdout",
     "output_type": "stream",
     "text": [
      "Train Loss: 1.021653413772583\n",
      "Validation BCE Loss: 1.0259528160095215\n",
      "Validation Dice Loss: 0.9999650120735168\n",
      "Validation IOU Loss: 0.9999831318855286\n",
      "\n",
      "\n",
      "[INFO] Epoch 30/100\n",
      "0.025\n"
     ]
    },
    {
     "name": "stderr",
     "output_type": "stream",
     "text": [
      "100%|██████████| 334/334 [00:53<00:00,  6.29it/s]\n"
     ]
    },
    {
     "name": "stdout",
     "output_type": "stream",
     "text": [
      "Train Loss: 1.0218799114227295\n",
      "Validation BCE Loss: 1.0259528160095215\n",
      "Validation Dice Loss: 0.9999650120735168\n",
      "Validation IOU Loss: 0.9999831318855286\n",
      "\n",
      "\n",
      "[INFO] Epoch 31/100\n",
      "0.025\n"
     ]
    },
    {
     "name": "stderr",
     "output_type": "stream",
     "text": [
      "100%|██████████| 334/334 [00:53<00:00,  6.29it/s]\n"
     ]
    },
    {
     "name": "stdout",
     "output_type": "stream",
     "text": [
      "Train Loss: 1.0215299129486084\n",
      "Validation BCE Loss: 1.0259528160095215\n",
      "Validation Dice Loss: 0.9999650120735168\n",
      "Validation IOU Loss: 0.9999831318855286\n",
      "\n",
      "\n",
      "[INFO] Epoch 32/100\n",
      "0.025\n"
     ]
    },
    {
     "name": "stderr",
     "output_type": "stream",
     "text": [
      "100%|██████████| 334/334 [00:53<00:00,  6.29it/s]\n"
     ]
    },
    {
     "name": "stdout",
     "output_type": "stream",
     "text": [
      "Train Loss: 1.0216243267059326\n",
      "Validation BCE Loss: 1.0259528160095215\n",
      "Validation Dice Loss: 0.9999650120735168\n",
      "Validation IOU Loss: 0.9999831318855286\n",
      "\n",
      "\n",
      "[INFO] Epoch 33/100\n",
      "0.025\n"
     ]
    },
    {
     "name": "stderr",
     "output_type": "stream",
     "text": [
      "100%|██████████| 334/334 [00:53<00:00,  6.29it/s]\n"
     ]
    },
    {
     "name": "stdout",
     "output_type": "stream",
     "text": [
      "Train Loss: 1.021558165550232\n",
      "Validation BCE Loss: 1.0259528160095215\n",
      "Validation Dice Loss: 0.9999650120735168\n",
      "Validation IOU Loss: 0.9999831318855286\n",
      "\n",
      "\n",
      "[INFO] Epoch 34/100\n",
      "0.025\n"
     ]
    },
    {
     "name": "stderr",
     "output_type": "stream",
     "text": [
      "100%|██████████| 334/334 [00:53<00:00,  6.29it/s]\n"
     ]
    },
    {
     "name": "stdout",
     "output_type": "stream",
     "text": [
      "Train Loss: 1.0214362144470215\n",
      "Validation BCE Loss: 1.0259528160095215\n",
      "Validation Dice Loss: 0.9999650120735168\n",
      "Validation IOU Loss: 0.9999831318855286\n",
      "\n",
      "\n",
      "[INFO] Epoch 35/100\n",
      "0.0125\n"
     ]
    },
    {
     "name": "stderr",
     "output_type": "stream",
     "text": [
      "100%|██████████| 334/334 [00:53<00:00,  6.29it/s]\n"
     ]
    },
    {
     "name": "stdout",
     "output_type": "stream",
     "text": [
      "Train Loss: 1.0214811563491821\n",
      "Validation BCE Loss: 1.0259528160095215\n",
      "Validation Dice Loss: 0.9999650120735168\n",
      "Validation IOU Loss: 0.9999831318855286\n",
      "\n",
      "\n",
      "[INFO] Epoch 36/100\n",
      "0.0125\n"
     ]
    },
    {
     "name": "stderr",
     "output_type": "stream",
     "text": [
      "100%|██████████| 334/334 [00:53<00:00,  6.29it/s]\n"
     ]
    },
    {
     "name": "stdout",
     "output_type": "stream",
     "text": [
      "Train Loss: 1.0217067003250122\n",
      "Validation BCE Loss: 1.0259528160095215\n",
      "Validation Dice Loss: 0.9999650120735168\n",
      "Validation IOU Loss: 0.9999831318855286\n",
      "\n",
      "\n",
      "[INFO] Epoch 37/100\n",
      "0.0125\n"
     ]
    },
    {
     "name": "stderr",
     "output_type": "stream",
     "text": [
      "100%|██████████| 334/334 [00:53<00:00,  6.29it/s]\n"
     ]
    },
    {
     "name": "stdout",
     "output_type": "stream",
     "text": [
      "Train Loss: 1.0214288234710693\n",
      "Validation BCE Loss: 1.0259528160095215\n",
      "Validation Dice Loss: 0.9999650120735168\n",
      "Validation IOU Loss: 0.9999831318855286\n",
      "\n",
      "\n",
      "[INFO] Epoch 38/100\n",
      "0.0125\n"
     ]
    },
    {
     "name": "stderr",
     "output_type": "stream",
     "text": [
      "100%|██████████| 334/334 [00:53<00:00,  6.29it/s]\n"
     ]
    },
    {
     "name": "stdout",
     "output_type": "stream",
     "text": [
      "Train Loss: 1.0216174125671387\n",
      "Validation BCE Loss: 1.0259528160095215\n",
      "Validation Dice Loss: 0.9999650120735168\n",
      "Validation IOU Loss: 0.9999831318855286\n",
      "\n",
      "\n",
      "[INFO] Epoch 39/100\n",
      "0.0125\n"
     ]
    },
    {
     "name": "stderr",
     "output_type": "stream",
     "text": [
      "100%|██████████| 334/334 [00:53<00:00,  6.29it/s]\n"
     ]
    },
    {
     "name": "stdout",
     "output_type": "stream",
     "text": [
      "Train Loss: 1.0216137170791626\n",
      "Validation BCE Loss: 1.0259528160095215\n",
      "Validation Dice Loss: 0.9999650120735168\n",
      "Validation IOU Loss: 0.9999831318855286\n",
      "\n",
      "\n",
      "[INFO] Epoch 40/100\n",
      "0.0125\n"
     ]
    },
    {
     "name": "stderr",
     "output_type": "stream",
     "text": [
      "100%|██████████| 334/334 [00:53<00:00,  6.29it/s]\n"
     ]
    },
    {
     "name": "stdout",
     "output_type": "stream",
     "text": [
      "Train Loss: 1.0214478969573975\n",
      "Validation BCE Loss: 1.0259528160095215\n",
      "Validation Dice Loss: 0.9999650120735168\n",
      "Validation IOU Loss: 0.9999831318855286\n",
      "\n",
      "\n",
      "[INFO] Epoch 41/100\n",
      "0.0125\n"
     ]
    },
    {
     "name": "stderr",
     "output_type": "stream",
     "text": [
      "100%|██████████| 334/334 [00:53<00:00,  6.29it/s]\n"
     ]
    },
    {
     "name": "stdout",
     "output_type": "stream",
     "text": [
      "Train Loss: 1.0215225219726562\n",
      "Validation BCE Loss: 1.0259528160095215\n",
      "Validation Dice Loss: 0.9999650120735168\n",
      "Validation IOU Loss: 0.9999831318855286\n",
      "\n",
      "\n",
      "[INFO] Epoch 42/100\n",
      "0.0125\n"
     ]
    },
    {
     "name": "stderr",
     "output_type": "stream",
     "text": [
      "100%|██████████| 334/334 [00:53<00:00,  6.29it/s]\n"
     ]
    },
    {
     "name": "stdout",
     "output_type": "stream",
     "text": [
      "Train Loss: 1.021736741065979\n",
      "Validation BCE Loss: 1.0259528160095215\n",
      "Validation Dice Loss: 0.9999650120735168\n",
      "Validation IOU Loss: 0.9999831318855286\n",
      "\n",
      "\n",
      "[INFO] Epoch 43/100\n",
      "0.0125\n"
     ]
    },
    {
     "name": "stderr",
     "output_type": "stream",
     "text": [
      "100%|██████████| 334/334 [00:53<00:00,  6.29it/s]\n"
     ]
    },
    {
     "name": "stdout",
     "output_type": "stream",
     "text": [
      "Train Loss: 1.0215914249420166\n",
      "Validation BCE Loss: 1.0259528160095215\n",
      "Validation Dice Loss: 0.9999650120735168\n",
      "Validation IOU Loss: 0.9999831318855286\n",
      "\n",
      "\n",
      "[INFO] Epoch 44/100\n",
      "0.0125\n"
     ]
    },
    {
     "name": "stderr",
     "output_type": "stream",
     "text": [
      "100%|██████████| 334/334 [00:53<00:00,  6.29it/s]\n"
     ]
    },
    {
     "name": "stdout",
     "output_type": "stream",
     "text": [
      "Train Loss: 1.0216457843780518\n",
      "Validation BCE Loss: 1.0259528160095215\n",
      "Validation Dice Loss: 0.9999650120735168\n",
      "Validation IOU Loss: 0.9999831318855286\n",
      "\n",
      "\n",
      "[INFO] Epoch 45/100\n",
      "0.0125\n"
     ]
    },
    {
     "name": "stderr",
     "output_type": "stream",
     "text": [
      "100%|██████████| 334/334 [00:53<00:00,  6.29it/s]\n"
     ]
    },
    {
     "name": "stdout",
     "output_type": "stream",
     "text": [
      "Train Loss: 1.0215165615081787\n",
      "Validation BCE Loss: 1.0259528160095215\n",
      "Validation Dice Loss: 0.9999650120735168\n",
      "Validation IOU Loss: 0.9999831318855286\n",
      "\n",
      "\n",
      "[INFO] Epoch 46/100\n",
      "0.00625\n"
     ]
    },
    {
     "name": "stderr",
     "output_type": "stream",
     "text": [
      "100%|██████████| 334/334 [00:53<00:00,  6.29it/s]\n"
     ]
    },
    {
     "name": "stdout",
     "output_type": "stream",
     "text": [
      "Train Loss: 1.0214687585830688\n",
      "Validation BCE Loss: 1.0259528160095215\n",
      "Validation Dice Loss: 0.9999650120735168\n",
      "Validation IOU Loss: 0.9999831318855286\n",
      "\n",
      "\n",
      "[INFO] Epoch 47/100\n",
      "0.00625\n"
     ]
    },
    {
     "name": "stderr",
     "output_type": "stream",
     "text": [
      "100%|██████████| 334/334 [00:53<00:00,  6.29it/s]\n"
     ]
    },
    {
     "name": "stdout",
     "output_type": "stream",
     "text": [
      "Train Loss: 1.0215743780136108\n",
      "Validation BCE Loss: 1.0259528160095215\n",
      "Validation Dice Loss: 0.9999650120735168\n",
      "Validation IOU Loss: 0.9999831318855286\n",
      "\n",
      "\n",
      "[INFO] Epoch 48/100\n",
      "0.00625\n"
     ]
    },
    {
     "name": "stderr",
     "output_type": "stream",
     "text": [
      "100%|██████████| 334/334 [00:53<00:00,  6.29it/s]\n"
     ]
    },
    {
     "name": "stdout",
     "output_type": "stream",
     "text": [
      "Train Loss: 1.0215128660202026\n",
      "Validation BCE Loss: 1.0259528160095215\n",
      "Validation Dice Loss: 0.9999650120735168\n",
      "Validation IOU Loss: 0.9999831318855286\n",
      "\n",
      "\n",
      "[INFO] Epoch 49/100\n",
      "0.00625\n"
     ]
    },
    {
     "name": "stderr",
     "output_type": "stream",
     "text": [
      "100%|██████████| 334/334 [00:53<00:00,  6.29it/s]\n"
     ]
    },
    {
     "name": "stdout",
     "output_type": "stream",
     "text": [
      "Train Loss: 1.0214020013809204\n",
      "Validation BCE Loss: 1.0259528160095215\n",
      "Validation Dice Loss: 0.9999650120735168\n",
      "Validation IOU Loss: 0.9999831318855286\n",
      "\n",
      "\n",
      "[INFO] Epoch 50/100\n",
      "0.00625\n"
     ]
    },
    {
     "name": "stderr",
     "output_type": "stream",
     "text": [
      "100%|██████████| 334/334 [00:53<00:00,  6.29it/s]\n"
     ]
    },
    {
     "name": "stdout",
     "output_type": "stream",
     "text": [
      "Train Loss: 1.0214263200759888\n",
      "Validation BCE Loss: 1.0259528160095215\n",
      "Validation Dice Loss: 0.9999650120735168\n",
      "Validation IOU Loss: 0.9999831318855286\n",
      "\n",
      "\n",
      "[INFO] Epoch 51/100\n",
      "0.00625\n"
     ]
    },
    {
     "name": "stderr",
     "output_type": "stream",
     "text": [
      "100%|██████████| 334/334 [00:53<00:00,  6.29it/s]\n"
     ]
    },
    {
     "name": "stdout",
     "output_type": "stream",
     "text": [
      "Train Loss: 1.0212799310684204\n",
      "Validation BCE Loss: 1.0259528160095215\n",
      "Validation Dice Loss: 0.9999650120735168\n",
      "Validation IOU Loss: 0.9999831318855286\n",
      "\n",
      "\n",
      "[INFO] Epoch 52/100\n",
      "0.00625\n"
     ]
    },
    {
     "name": "stderr",
     "output_type": "stream",
     "text": [
      "100%|██████████| 334/334 [00:53<00:00,  6.29it/s]\n"
     ]
    },
    {
     "name": "stdout",
     "output_type": "stream",
     "text": [
      "Train Loss: 1.0213823318481445\n",
      "Validation BCE Loss: 1.0259528160095215\n",
      "Validation Dice Loss: 0.9999650120735168\n",
      "Validation IOU Loss: 0.9999831318855286\n",
      "\n",
      "\n",
      "[INFO] Epoch 53/100\n",
      "0.00625\n"
     ]
    },
    {
     "name": "stderr",
     "output_type": "stream",
     "text": [
      "100%|██████████| 334/334 [00:53<00:00,  6.29it/s]\n"
     ]
    },
    {
     "name": "stdout",
     "output_type": "stream",
     "text": [
      "Train Loss: 1.0215734243392944\n",
      "Validation BCE Loss: 1.0259528160095215\n",
      "Validation Dice Loss: 0.9999650120735168\n",
      "Validation IOU Loss: 0.9999831318855286\n",
      "\n",
      "\n",
      "[INFO] Epoch 54/100\n",
      "0.00625\n"
     ]
    },
    {
     "name": "stderr",
     "output_type": "stream",
     "text": [
      "100%|██████████| 334/334 [00:53<00:00,  6.29it/s]\n"
     ]
    },
    {
     "name": "stdout",
     "output_type": "stream",
     "text": [
      "Train Loss: 1.0214219093322754\n",
      "Validation BCE Loss: 1.0259528160095215\n",
      "Validation Dice Loss: 0.9999650120735168\n",
      "Validation IOU Loss: 0.9999831318855286\n",
      "\n",
      "\n",
      "[INFO] Epoch 55/100\n",
      "0.00625\n"
     ]
    },
    {
     "name": "stderr",
     "output_type": "stream",
     "text": [
      "100%|██████████| 334/334 [00:53<00:00,  6.29it/s]\n"
     ]
    },
    {
     "name": "stdout",
     "output_type": "stream",
     "text": [
      "Train Loss: 1.0215755701065063\n",
      "Validation BCE Loss: 1.0259528160095215\n",
      "Validation Dice Loss: 0.9999650120735168\n",
      "Validation IOU Loss: 0.9999831318855286\n",
      "\n",
      "\n",
      "[INFO] Epoch 56/100\n",
      "0.00625\n"
     ]
    },
    {
     "name": "stderr",
     "output_type": "stream",
     "text": [
      "100%|██████████| 334/334 [00:53<00:00,  6.29it/s]\n"
     ]
    },
    {
     "name": "stdout",
     "output_type": "stream",
     "text": [
      "Train Loss: 1.021679162979126\n",
      "Validation BCE Loss: 1.0259528160095215\n",
      "Validation Dice Loss: 0.9999650120735168\n",
      "Validation IOU Loss: 0.9999831318855286\n",
      "\n",
      "\n",
      "[INFO] Epoch 57/100\n",
      "0.003125\n"
     ]
    },
    {
     "name": "stderr",
     "output_type": "stream",
     "text": [
      "100%|██████████| 334/334 [00:52<00:00,  6.30it/s]\n"
     ]
    },
    {
     "name": "stdout",
     "output_type": "stream",
     "text": [
      "Train Loss: 1.0216310024261475\n",
      "Validation BCE Loss: 1.0259528160095215\n",
      "Validation Dice Loss: 0.9999650120735168\n",
      "Validation IOU Loss: 0.9999831318855286\n",
      "\n",
      "\n",
      "[INFO] Epoch 58/100\n",
      "0.003125\n"
     ]
    },
    {
     "name": "stderr",
     "output_type": "stream",
     "text": [
      "100%|██████████| 334/334 [00:52<00:00,  6.31it/s]\n"
     ]
    },
    {
     "name": "stdout",
     "output_type": "stream",
     "text": [
      "Train Loss: 1.0214570760726929\n",
      "Validation BCE Loss: 1.0259528160095215\n",
      "Validation Dice Loss: 0.9999650120735168\n",
      "Validation IOU Loss: 0.9999831318855286\n",
      "\n",
      "\n",
      "[INFO] Epoch 59/100\n",
      "0.003125\n"
     ]
    },
    {
     "name": "stderr",
     "output_type": "stream",
     "text": [
      "100%|██████████| 334/334 [00:52<00:00,  6.31it/s]\n"
     ]
    },
    {
     "name": "stdout",
     "output_type": "stream",
     "text": [
      "Train Loss: 1.0217174291610718\n",
      "Validation BCE Loss: 1.0259528160095215\n",
      "Validation Dice Loss: 0.9999650120735168\n",
      "Validation IOU Loss: 0.9999831318855286\n",
      "\n",
      "\n",
      "[INFO] Epoch 60/100\n",
      "0.003125\n"
     ]
    },
    {
     "name": "stderr",
     "output_type": "stream",
     "text": [
      "100%|██████████| 334/334 [00:52<00:00,  6.31it/s]\n"
     ]
    },
    {
     "name": "stdout",
     "output_type": "stream",
     "text": [
      "Train Loss: 1.0215446949005127\n",
      "Validation BCE Loss: 1.0259528160095215\n",
      "Validation Dice Loss: 0.9999650120735168\n",
      "Validation IOU Loss: 0.9999831318855286\n",
      "\n",
      "\n",
      "[INFO] Epoch 61/100\n",
      "0.003125\n"
     ]
    },
    {
     "name": "stderr",
     "output_type": "stream",
     "text": [
      "100%|██████████| 334/334 [00:52<00:00,  6.30it/s]\n"
     ]
    },
    {
     "name": "stdout",
     "output_type": "stream",
     "text": [
      "Train Loss: 1.0215436220169067\n",
      "Validation BCE Loss: 1.0259528160095215\n",
      "Validation Dice Loss: 0.9999650120735168\n",
      "Validation IOU Loss: 0.9999831318855286\n",
      "\n",
      "\n",
      "[INFO] Epoch 62/100\n",
      "0.003125\n"
     ]
    },
    {
     "name": "stderr",
     "output_type": "stream",
     "text": [
      "100%|██████████| 334/334 [00:52<00:00,  6.31it/s]\n"
     ]
    },
    {
     "name": "stdout",
     "output_type": "stream",
     "text": [
      "Train Loss: 1.0212664604187012\n",
      "Validation BCE Loss: 1.0259528160095215\n",
      "Validation Dice Loss: 0.9999650120735168\n",
      "Validation IOU Loss: 0.9999831318855286\n",
      "\n",
      "\n",
      "[INFO] Epoch 63/100\n",
      "0.003125\n"
     ]
    },
    {
     "name": "stderr",
     "output_type": "stream",
     "text": [
      "100%|██████████| 334/334 [00:52<00:00,  6.31it/s]\n"
     ]
    },
    {
     "name": "stdout",
     "output_type": "stream",
     "text": [
      "Train Loss: 1.021581768989563\n",
      "Validation BCE Loss: 1.0259528160095215\n",
      "Validation Dice Loss: 0.9999650120735168\n",
      "Validation IOU Loss: 0.9999831318855286\n",
      "\n",
      "\n",
      "[INFO] Epoch 64/100\n",
      "0.003125\n"
     ]
    },
    {
     "name": "stderr",
     "output_type": "stream",
     "text": [
      "100%|██████████| 334/334 [00:52<00:00,  6.31it/s]\n"
     ]
    },
    {
     "name": "stdout",
     "output_type": "stream",
     "text": [
      "Train Loss: 1.0213783979415894\n",
      "Validation BCE Loss: 1.0259528160095215\n",
      "Validation Dice Loss: 0.9999650120735168\n",
      "Validation IOU Loss: 0.9999831318855286\n",
      "\n",
      "\n",
      "[INFO] Epoch 65/100\n",
      "0.003125\n"
     ]
    },
    {
     "name": "stderr",
     "output_type": "stream",
     "text": [
      "100%|██████████| 334/334 [00:52<00:00,  6.30it/s]\n"
     ]
    },
    {
     "name": "stdout",
     "output_type": "stream",
     "text": [
      "Train Loss: 1.0216103792190552\n",
      "Validation BCE Loss: 1.0259528160095215\n",
      "Validation Dice Loss: 0.9999650120735168\n",
      "Validation IOU Loss: 0.9999831318855286\n",
      "\n",
      "\n",
      "[INFO] Epoch 66/100\n",
      "0.003125\n"
     ]
    },
    {
     "name": "stderr",
     "output_type": "stream",
     "text": [
      "100%|██████████| 334/334 [00:52<00:00,  6.31it/s]\n"
     ]
    },
    {
     "name": "stdout",
     "output_type": "stream",
     "text": [
      "Train Loss: 1.0215818881988525\n",
      "Validation BCE Loss: 1.0259528160095215\n",
      "Validation Dice Loss: 0.9999650120735168\n",
      "Validation IOU Loss: 0.9999831318855286\n",
      "\n",
      "\n",
      "[INFO] Epoch 67/100\n",
      "0.003125\n"
     ]
    },
    {
     "name": "stderr",
     "output_type": "stream",
     "text": [
      "100%|██████████| 334/334 [00:52<00:00,  6.31it/s]\n"
     ]
    },
    {
     "name": "stdout",
     "output_type": "stream",
     "text": [
      "Train Loss: 1.0215721130371094\n",
      "Validation BCE Loss: 1.0259528160095215\n",
      "Validation Dice Loss: 0.9999650120735168\n",
      "Validation IOU Loss: 0.9999831318855286\n",
      "\n",
      "\n",
      "[INFO] Epoch 68/100\n",
      "0.0015625\n"
     ]
    },
    {
     "name": "stderr",
     "output_type": "stream",
     "text": [
      "100%|██████████| 334/334 [00:52<00:00,  6.31it/s]\n"
     ]
    },
    {
     "name": "stdout",
     "output_type": "stream",
     "text": [
      "Train Loss: 1.0216851234436035\n",
      "Validation BCE Loss: 1.0259528160095215\n",
      "Validation Dice Loss: 0.9999650120735168\n",
      "Validation IOU Loss: 0.9999831318855286\n",
      "\n",
      "\n",
      "[INFO] Epoch 69/100\n",
      "0.0015625\n"
     ]
    },
    {
     "name": "stderr",
     "output_type": "stream",
     "text": [
      "100%|██████████| 334/334 [00:52<00:00,  6.31it/s]\n"
     ]
    },
    {
     "name": "stdout",
     "output_type": "stream",
     "text": [
      "Train Loss: 1.0214358568191528\n",
      "Validation BCE Loss: 1.0259528160095215\n",
      "Validation Dice Loss: 0.9999650120735168\n",
      "Validation IOU Loss: 0.9999831318855286\n",
      "\n",
      "\n",
      "[INFO] Epoch 70/100\n",
      "0.0015625\n"
     ]
    },
    {
     "name": "stderr",
     "output_type": "stream",
     "text": [
      "100%|██████████| 334/334 [00:52<00:00,  6.31it/s]\n"
     ]
    },
    {
     "name": "stdout",
     "output_type": "stream",
     "text": [
      "Train Loss: 1.0214767456054688\n",
      "Validation BCE Loss: 1.0259528160095215\n",
      "Validation Dice Loss: 0.9999650120735168\n",
      "Validation IOU Loss: 0.9999831318855286\n",
      "\n",
      "\n",
      "[INFO] Epoch 71/100\n",
      "0.0015625\n"
     ]
    },
    {
     "name": "stderr",
     "output_type": "stream",
     "text": [
      "100%|██████████| 334/334 [00:52<00:00,  6.31it/s]\n"
     ]
    },
    {
     "name": "stdout",
     "output_type": "stream",
     "text": [
      "Train Loss: 1.0215249061584473\n",
      "Validation BCE Loss: 1.0259528160095215\n",
      "Validation Dice Loss: 0.9999650120735168\n",
      "Validation IOU Loss: 0.9999831318855286\n",
      "\n",
      "\n",
      "[INFO] Epoch 72/100\n",
      "0.0015625\n"
     ]
    },
    {
     "name": "stderr",
     "output_type": "stream",
     "text": [
      "100%|██████████| 334/334 [00:52<00:00,  6.31it/s]\n"
     ]
    },
    {
     "name": "stdout",
     "output_type": "stream",
     "text": [
      "Train Loss: 1.0215039253234863\n",
      "Validation BCE Loss: 1.0259528160095215\n",
      "Validation Dice Loss: 0.9999650120735168\n",
      "Validation IOU Loss: 0.9999831318855286\n",
      "\n",
      "\n",
      "[INFO] Epoch 73/100\n",
      "0.0015625\n"
     ]
    },
    {
     "name": "stderr",
     "output_type": "stream",
     "text": [
      "100%|██████████| 334/334 [00:52<00:00,  6.31it/s]\n"
     ]
    },
    {
     "name": "stdout",
     "output_type": "stream",
     "text": [
      "Train Loss: 1.021786093711853\n",
      "Validation BCE Loss: 1.0259528160095215\n",
      "Validation Dice Loss: 0.9999650120735168\n",
      "Validation IOU Loss: 0.9999831318855286\n",
      "\n",
      "\n",
      "[INFO] Epoch 74/100\n",
      "0.0015625\n"
     ]
    },
    {
     "name": "stderr",
     "output_type": "stream",
     "text": [
      "100%|██████████| 334/334 [00:52<00:00,  6.30it/s]\n"
     ]
    },
    {
     "name": "stdout",
     "output_type": "stream",
     "text": [
      "Train Loss: 1.021449089050293\n",
      "Validation BCE Loss: 1.0259528160095215\n",
      "Validation Dice Loss: 0.9999650120735168\n",
      "Validation IOU Loss: 0.9999831318855286\n",
      "\n",
      "\n",
      "[INFO] Epoch 75/100\n",
      "0.0015625\n"
     ]
    },
    {
     "name": "stderr",
     "output_type": "stream",
     "text": [
      "100%|██████████| 334/334 [00:52<00:00,  6.31it/s]\n"
     ]
    },
    {
     "name": "stdout",
     "output_type": "stream",
     "text": [
      "Train Loss: 1.0215270519256592\n",
      "Validation BCE Loss: 1.0259528160095215\n",
      "Validation Dice Loss: 0.9999650120735168\n",
      "Validation IOU Loss: 0.9999831318855286\n",
      "\n",
      "\n",
      "[INFO] Epoch 76/100\n",
      "0.0015625\n"
     ]
    },
    {
     "name": "stderr",
     "output_type": "stream",
     "text": [
      "100%|██████████| 334/334 [00:52<00:00,  6.31it/s]\n"
     ]
    },
    {
     "name": "stdout",
     "output_type": "stream",
     "text": [
      "Train Loss: 1.0216009616851807\n",
      "Validation BCE Loss: 1.0259528160095215\n",
      "Validation Dice Loss: 0.9999650120735168\n",
      "Validation IOU Loss: 0.9999831318855286\n",
      "\n",
      "\n",
      "[INFO] Epoch 77/100\n",
      "0.0015625\n"
     ]
    },
    {
     "name": "stderr",
     "output_type": "stream",
     "text": [
      "100%|██████████| 334/334 [00:52<00:00,  6.31it/s]\n"
     ]
    },
    {
     "name": "stdout",
     "output_type": "stream",
     "text": [
      "Train Loss: 1.021743893623352\n",
      "Validation BCE Loss: 1.0259528160095215\n",
      "Validation Dice Loss: 0.9999650120735168\n",
      "Validation IOU Loss: 0.9999831318855286\n",
      "\n",
      "\n",
      "[INFO] Epoch 78/100\n",
      "0.0015625\n"
     ]
    },
    {
     "name": "stderr",
     "output_type": "stream",
     "text": [
      "100%|██████████| 334/334 [00:52<00:00,  6.31it/s]\n"
     ]
    },
    {
     "name": "stdout",
     "output_type": "stream",
     "text": [
      "Train Loss: 1.0218465328216553\n",
      "Validation BCE Loss: 1.0259528160095215\n",
      "Validation Dice Loss: 0.9999650120735168\n",
      "Validation IOU Loss: 0.9999831318855286\n",
      "\n",
      "\n",
      "[INFO] Epoch 79/100\n",
      "0.00078125\n"
     ]
    },
    {
     "name": "stderr",
     "output_type": "stream",
     "text": [
      "100%|██████████| 334/334 [00:54<00:00,  6.14it/s]\n"
     ]
    },
    {
     "name": "stdout",
     "output_type": "stream",
     "text": [
      "Train Loss: 1.0216349363327026\n",
      "Validation BCE Loss: 1.0259528160095215\n",
      "Validation Dice Loss: 0.9999650120735168\n",
      "Validation IOU Loss: 0.9999831318855286\n",
      "\n",
      "\n",
      "[INFO] Epoch 80/100\n",
      "0.00078125\n"
     ]
    },
    {
     "name": "stderr",
     "output_type": "stream",
     "text": [
      "100%|██████████| 334/334 [00:54<00:00,  6.10it/s]\n"
     ]
    },
    {
     "name": "stdout",
     "output_type": "stream",
     "text": [
      "Train Loss: 1.0214738845825195\n",
      "Validation BCE Loss: 1.0259528160095215\n",
      "Validation Dice Loss: 0.9999650120735168\n",
      "Validation IOU Loss: 0.9999831318855286\n",
      "\n",
      "\n",
      "[INFO] Epoch 81/100\n",
      "0.00078125\n"
     ]
    },
    {
     "name": "stderr",
     "output_type": "stream",
     "text": [
      "100%|██████████| 334/334 [00:54<00:00,  6.10it/s]\n"
     ]
    },
    {
     "name": "stdout",
     "output_type": "stream",
     "text": [
      "Train Loss: 1.021584391593933\n",
      "Validation BCE Loss: 1.0259528160095215\n",
      "Validation Dice Loss: 0.9999650120735168\n",
      "Validation IOU Loss: 0.9999831318855286\n",
      "\n",
      "\n",
      "[INFO] Epoch 82/100\n",
      "0.00078125\n"
     ]
    },
    {
     "name": "stderr",
     "output_type": "stream",
     "text": [
      "100%|██████████| 334/334 [00:54<00:00,  6.10it/s]\n"
     ]
    },
    {
     "name": "stdout",
     "output_type": "stream",
     "text": [
      "Train Loss: 1.0216639041900635\n",
      "Validation BCE Loss: 1.0259528160095215\n",
      "Validation Dice Loss: 0.9999650120735168\n",
      "Validation IOU Loss: 0.9999831318855286\n",
      "\n",
      "\n",
      "[INFO] Epoch 83/100\n",
      "0.00078125\n"
     ]
    },
    {
     "name": "stderr",
     "output_type": "stream",
     "text": [
      "100%|██████████| 334/334 [00:55<00:00,  6.07it/s]\n"
     ]
    },
    {
     "name": "stdout",
     "output_type": "stream",
     "text": [
      "Train Loss: 1.021602749824524\n",
      "Validation BCE Loss: 1.0259528160095215\n",
      "Validation Dice Loss: 0.9999650120735168\n",
      "Validation IOU Loss: 0.9999831318855286\n",
      "\n",
      "\n",
      "[INFO] Epoch 84/100\n",
      "0.00078125\n"
     ]
    },
    {
     "name": "stderr",
     "output_type": "stream",
     "text": [
      "100%|██████████| 334/334 [00:54<00:00,  6.08it/s]\n"
     ]
    },
    {
     "name": "stdout",
     "output_type": "stream",
     "text": [
      "Train Loss: 1.0214778184890747\n",
      "Validation BCE Loss: 1.0259528160095215\n",
      "Validation Dice Loss: 0.9999650120735168\n",
      "Validation IOU Loss: 0.9999831318855286\n",
      "\n",
      "\n",
      "[INFO] Epoch 85/100\n",
      "0.00078125\n"
     ]
    },
    {
     "name": "stderr",
     "output_type": "stream",
     "text": [
      "100%|██████████| 334/334 [00:54<00:00,  6.10it/s]\n"
     ]
    },
    {
     "name": "stdout",
     "output_type": "stream",
     "text": [
      "Train Loss: 1.021565318107605\n",
      "Validation BCE Loss: 1.0259528160095215\n",
      "Validation Dice Loss: 0.9999650120735168\n",
      "Validation IOU Loss: 0.9999831318855286\n",
      "\n",
      "\n",
      "[INFO] Epoch 86/100\n",
      "0.00078125\n"
     ]
    },
    {
     "name": "stderr",
     "output_type": "stream",
     "text": [
      "100%|██████████| 334/334 [00:54<00:00,  6.11it/s]\n"
     ]
    },
    {
     "name": "stdout",
     "output_type": "stream",
     "text": [
      "Train Loss: 1.0215641260147095\n",
      "Validation BCE Loss: 1.0259528160095215\n",
      "Validation Dice Loss: 0.9999650120735168\n",
      "Validation IOU Loss: 0.9999831318855286\n",
      "\n",
      "\n",
      "[INFO] Epoch 87/100\n",
      "0.00078125\n"
     ]
    },
    {
     "name": "stderr",
     "output_type": "stream",
     "text": [
      "100%|██████████| 334/334 [00:54<00:00,  6.10it/s]\n"
     ]
    },
    {
     "name": "stdout",
     "output_type": "stream",
     "text": [
      "Train Loss: 1.0217911005020142\n",
      "Validation BCE Loss: 1.0259528160095215\n",
      "Validation Dice Loss: 0.9999650120735168\n",
      "Validation IOU Loss: 0.9999831318855286\n",
      "\n",
      "\n",
      "[INFO] Epoch 88/100\n",
      "0.00078125\n"
     ]
    },
    {
     "name": "stderr",
     "output_type": "stream",
     "text": [
      "100%|██████████| 334/334 [00:54<00:00,  6.09it/s]\n"
     ]
    },
    {
     "name": "stdout",
     "output_type": "stream",
     "text": [
      "Train Loss: 1.0215383768081665\n",
      "Validation BCE Loss: 1.0259528160095215\n",
      "Validation Dice Loss: 0.9999650120735168\n",
      "Validation IOU Loss: 0.9999831318855286\n",
      "\n",
      "\n",
      "[INFO] Epoch 89/100\n",
      "0.00078125\n"
     ]
    },
    {
     "name": "stderr",
     "output_type": "stream",
     "text": [
      "100%|██████████| 334/334 [00:54<00:00,  6.09it/s]\n"
     ]
    },
    {
     "name": "stdout",
     "output_type": "stream",
     "text": [
      "Train Loss: 1.0215022563934326\n",
      "Validation BCE Loss: 1.0259528160095215\n",
      "Validation Dice Loss: 0.9999650120735168\n",
      "Validation IOU Loss: 0.9999831318855286\n",
      "\n",
      "\n",
      "[INFO] Epoch 90/100\n",
      "0.000390625\n"
     ]
    },
    {
     "name": "stderr",
     "output_type": "stream",
     "text": [
      "100%|██████████| 334/334 [00:55<00:00,  6.07it/s]\n"
     ]
    },
    {
     "name": "stdout",
     "output_type": "stream",
     "text": [
      "Train Loss: 1.0217173099517822\n",
      "Validation BCE Loss: 1.0259528160095215\n",
      "Validation Dice Loss: 0.9999650120735168\n",
      "Validation IOU Loss: 0.9999831318855286\n",
      "\n",
      "\n",
      "[INFO] Epoch 91/100\n",
      "0.000390625\n"
     ]
    },
    {
     "name": "stderr",
     "output_type": "stream",
     "text": [
      "100%|██████████| 334/334 [00:54<00:00,  6.11it/s]\n"
     ]
    },
    {
     "name": "stdout",
     "output_type": "stream",
     "text": [
      "Train Loss: 1.0215449333190918\n",
      "Validation BCE Loss: 1.0259528160095215\n",
      "Validation Dice Loss: 0.9999650120735168\n",
      "Validation IOU Loss: 0.9999831318855286\n",
      "\n",
      "\n",
      "[INFO] Epoch 92/100\n",
      "0.000390625\n"
     ]
    },
    {
     "name": "stderr",
     "output_type": "stream",
     "text": [
      "100%|██████████| 334/334 [00:55<00:00,  6.04it/s]\n"
     ]
    },
    {
     "name": "stdout",
     "output_type": "stream",
     "text": [
      "Train Loss: 1.0215129852294922\n",
      "Validation BCE Loss: 1.0259528160095215\n",
      "Validation Dice Loss: 0.9999650120735168\n",
      "Validation IOU Loss: 0.9999831318855286\n",
      "\n",
      "\n",
      "[INFO] Epoch 93/100\n",
      "0.000390625\n"
     ]
    },
    {
     "name": "stderr",
     "output_type": "stream",
     "text": [
      "100%|██████████| 334/334 [00:54<00:00,  6.08it/s]\n"
     ]
    },
    {
     "name": "stdout",
     "output_type": "stream",
     "text": [
      "Train Loss: 1.0213966369628906\n",
      "Validation BCE Loss: 1.0259528160095215\n",
      "Validation Dice Loss: 0.9999650120735168\n",
      "Validation IOU Loss: 0.9999831318855286\n",
      "\n",
      "\n",
      "[INFO] Epoch 94/100\n",
      "0.000390625\n"
     ]
    },
    {
     "name": "stderr",
     "output_type": "stream",
     "text": [
      "100%|██████████| 334/334 [00:54<00:00,  6.08it/s]\n"
     ]
    },
    {
     "name": "stdout",
     "output_type": "stream",
     "text": [
      "Train Loss: 1.021605372428894\n",
      "Validation BCE Loss: 1.0259528160095215\n",
      "Validation Dice Loss: 0.9999650120735168\n",
      "Validation IOU Loss: 0.9999831318855286\n",
      "\n",
      "\n",
      "[INFO] Epoch 95/100\n",
      "0.000390625\n"
     ]
    },
    {
     "name": "stderr",
     "output_type": "stream",
     "text": [
      "100%|██████████| 334/334 [00:54<00:00,  6.08it/s]\n"
     ]
    },
    {
     "name": "stdout",
     "output_type": "stream",
     "text": [
      "Train Loss: 1.0215281248092651\n",
      "Validation BCE Loss: 1.0259528160095215\n",
      "Validation Dice Loss: 0.9999650120735168\n",
      "Validation IOU Loss: 0.9999831318855286\n",
      "\n",
      "\n",
      "[INFO] Epoch 96/100\n",
      "0.000390625\n"
     ]
    },
    {
     "name": "stderr",
     "output_type": "stream",
     "text": [
      "100%|██████████| 334/334 [00:54<00:00,  6.07it/s]\n"
     ]
    },
    {
     "name": "stdout",
     "output_type": "stream",
     "text": [
      "Train Loss: 1.0215063095092773\n",
      "Validation BCE Loss: 1.0259528160095215\n",
      "Validation Dice Loss: 0.9999650120735168\n",
      "Validation IOU Loss: 0.9999831318855286\n",
      "\n",
      "\n",
      "[INFO] Epoch 97/100\n",
      "0.000390625\n"
     ]
    },
    {
     "name": "stderr",
     "output_type": "stream",
     "text": [
      "100%|██████████| 334/334 [00:54<00:00,  6.08it/s]\n"
     ]
    },
    {
     "name": "stdout",
     "output_type": "stream",
     "text": [
      "Train Loss: 1.0215115547180176\n",
      "Validation BCE Loss: 1.0259528160095215\n",
      "Validation Dice Loss: 0.9999650120735168\n",
      "Validation IOU Loss: 0.9999831318855286\n",
      "\n",
      "\n",
      "[INFO] Epoch 98/100\n",
      "0.000390625\n"
     ]
    },
    {
     "name": "stderr",
     "output_type": "stream",
     "text": [
      "100%|██████████| 334/334 [00:54<00:00,  6.08it/s]\n"
     ]
    },
    {
     "name": "stdout",
     "output_type": "stream",
     "text": [
      "Train Loss: 1.021500825881958\n",
      "Validation BCE Loss: 1.0259528160095215\n",
      "Validation Dice Loss: 0.9999650120735168\n",
      "Validation IOU Loss: 0.9999831318855286\n",
      "\n",
      "\n",
      "[INFO] Epoch 99/100\n",
      "0.000390625\n"
     ]
    },
    {
     "name": "stderr",
     "output_type": "stream",
     "text": [
      "100%|██████████| 334/334 [00:54<00:00,  6.07it/s]\n"
     ]
    },
    {
     "name": "stdout",
     "output_type": "stream",
     "text": [
      "Train Loss: 1.0215799808502197\n",
      "Validation BCE Loss: 1.0259528160095215\n",
      "Validation Dice Loss: 0.9999650120735168\n",
      "Validation IOU Loss: 0.9999831318855286\n",
      "\n",
      "\n",
      "[INFO] Epoch 100/100\n",
      "0.000390625\n"
     ]
    },
    {
     "name": "stderr",
     "output_type": "stream",
     "text": [
      "100%|██████████| 334/334 [00:55<00:00,  6.04it/s]\n"
     ]
    },
    {
     "name": "stdout",
     "output_type": "stream",
     "text": [
      "Train Loss: 1.021382212638855\n",
      "Validation BCE Loss: 1.0259528160095215\n",
      "Validation Dice Loss: 0.9999650120735168\n",
      "Validation IOU Loss: 0.9999831318855286\n"
     ]
    }
   ],
   "source": [
    "TRAIN = True\n",
    "if TRAIN:\n",
    "    model = UNET().to(CFG.device)\n",
    "    model.load_state_dict(torch.load(best))\n",
    "    run_model(model = model, criterion=criterion_bce, name=\"Fine Tuned UNET23 BCE\")"
   ]
  },
  {
   "attachments": {},
   "cell_type": "markdown",
   "metadata": {},
   "source": [
    "# Inference"
   ]
  },
  {
   "cell_type": "code",
   "execution_count": 133,
   "metadata": {},
   "outputs": [],
   "source": [
    "def run_inference(img_num = None, th=97):\n",
    "    if not img_num:\n",
    "        img_num = random.randint(1, len(test))\n",
    "\n",
    "    print(f\"Image Number: {img_num}\")\n",
    "\n",
    "    img = test[img_num][0]\n",
    "    label = test[img_num][1]\n",
    "\n",
    "    inference_img = torch.Tensor(img).to(CFG.device).reshape(1,1,512,512)\n",
    "    model.eval()\n",
    "    inference = model(inference_img)\n",
    "    inf = inference.squeeze().detach().cpu().numpy()\n",
    "    inf2 = (inf-inf.min())/inf.max()\n",
    "    th = np.percentile(inf2.flatten(), th)\n",
    "\n",
    "    fig,ax = plt.subplots(1,4,figsize=(15,15))\n",
    "\n",
    "    ax[0].imshow(img.transpose(1,2,0), cmap='gray')\n",
    "    ax[0].axis(False)\n",
    "    ax[0].set_title(\"Image\", fontsize=10)\n",
    "\n",
    "    ax[1].imshow(inf2>th, cmap='gray')\n",
    "    ax[1].axis(False)\n",
    "    ax[1].set_title(\"Prediction\", fontsize=10)\n",
    "\n",
    "    ax[2].imshow(label.squeeze(), cmap='gray')\n",
    "    ax[2].axis(False)\n",
    "    ax[2].set_title(\"Label\", fontsize=10)\n",
    "\n",
    "    pred = (inf2>th)\n",
    "    overlay = (img*0.1).squeeze()\n",
    "    overlay = np.stack([overlay, overlay, overlay]).transpose(1,2,0)\n",
    "    overlay[:,:,1] = overlay[:,:,1] + (label.squeeze() * img.squeeze()).squeeze()*0.2  # Red\n",
    "    overlay[:,:,0] = overlay[:,:,0] + (pred.squeeze() * label.squeeze()).squeeze() # Green\n",
    "    ax[3].imshow(overlay)\n",
    "    ax[3].axis(False)\n",
    "    ax[3].set_title(\"Accuracy\", fontsize=10)\n",
    "    plt.show()"
   ]
  },
  {
   "cell_type": "code",
   "execution_count": 141,
   "metadata": {},
   "outputs": [
    {
     "name": "stdout",
     "output_type": "stream",
     "text": [
      "Image Number: 342\n"
     ]
    },
    {
     "name": "stderr",
     "output_type": "stream",
     "text": [
      "Clipping input data to the valid range for imshow with RGB data ([0..1] for floats or [0..255] for integers).\n"
     ]
    },
    {
     "data": {
      "image/png": "[encoded data removed]",
      "text/plain": [
       "<Figure size 1500x1500 with 4 Axes>"
      ]
     },
     "metadata": {},
     "output_type": "display_data"
    }
   ],
   "source": [
    "run_inference(342, th=99)"
   ]
  },
  {
   "attachments": {},
   "cell_type": "markdown",
   "metadata": {},
   "source": [
    "# Save Model"
   ]
  },
  {
   "attachments": {},
   "cell_type": "markdown",
   "metadata": {},
   "source": [
    "Create folder \n",
    "\n",
    "\n",
    "Models\\\\model_name\\\\\n",
    "\n",
    "For Each Training\n",
    "Models\\\\baseline_0\\\\baseline_0.pt"
   ]
  },
  {
   "cell_type": "code",
   "execution_count": null,
   "metadata": {},
   "outputs": [],
   "source": [
    "if CFG.train_new:\n",
    "    os.mkdir(f\"Models/{CFG.model_name}\")\n",
    "    os.mkdir(f\"Models/{CFG.model_name}/logs\")"
   ]
  },
  {
   "cell_type": "code",
   "execution_count": null,
   "metadata": {},
   "outputs": [
    {
     "ename": "TypeError",
     "evalue": "Object of type Tensor is not JSON serializable",
     "output_type": "error",
     "traceback": [
      "\u001b[1;31m---------------------------------------------------------------------------\u001b[0m",
      "\u001b[1;31mTypeError\u001b[0m                                 Traceback (most recent call last)",
      "Cell \u001b[1;32mIn[80], line 4\u001b[0m\n\u001b[0;32m      2\u001b[0m log_num \u001b[39m=\u001b[39m \u001b[39mlen\u001b[39m(os\u001b[39m.\u001b[39mlistdir(\u001b[39mf\u001b[39m\u001b[39m\"\u001b[39m\u001b[39mModels/\u001b[39m\u001b[39m{\u001b[39;00mCFG\u001b[39m.\u001b[39mmodel_name\u001b[39m}\u001b[39;00m\u001b[39m/logs\u001b[39m\u001b[39m\"\u001b[39m))\n\u001b[0;32m      3\u001b[0m \u001b[39mwith\u001b[39;00m \u001b[39mopen\u001b[39m(\u001b[39mf\u001b[39m\u001b[39m\"\u001b[39m\u001b[39mModels/\u001b[39m\u001b[39m{\u001b[39;00mCFG\u001b[39m.\u001b[39mmodel_name\u001b[39m}\u001b[39;00m\u001b[39m/logs/log_\u001b[39m\u001b[39m{\u001b[39;00mlog_num\u001b[39m}\u001b[39;00m\u001b[39m\"\u001b[39m, \u001b[39m\"\u001b[39m\u001b[39mw\u001b[39m\u001b[39m\"\u001b[39m) \u001b[39mas\u001b[39;00m out_path:\n\u001b[1;32m----> 4\u001b[0m     json\u001b[39m.\u001b[39;49mdump(history, out_path)\n",
      "File \u001b[1;32mc:\\Users\\chewr\\anaconda3\\envs\\tf\\lib\\json\\__init__.py:179\u001b[0m, in \u001b[0;36mdump\u001b[1;34m(obj, fp, skipkeys, ensure_ascii, check_circular, allow_nan, cls, indent, separators, default, sort_keys, **kw)\u001b[0m\n\u001b[0;32m    173\u001b[0m     iterable \u001b[39m=\u001b[39m \u001b[39mcls\u001b[39m(skipkeys\u001b[39m=\u001b[39mskipkeys, ensure_ascii\u001b[39m=\u001b[39mensure_ascii,\n\u001b[0;32m    174\u001b[0m         check_circular\u001b[39m=\u001b[39mcheck_circular, allow_nan\u001b[39m=\u001b[39mallow_nan, indent\u001b[39m=\u001b[39mindent,\n\u001b[0;32m    175\u001b[0m         separators\u001b[39m=\u001b[39mseparators,\n\u001b[0;32m    176\u001b[0m         default\u001b[39m=\u001b[39mdefault, sort_keys\u001b[39m=\u001b[39msort_keys, \u001b[39m*\u001b[39m\u001b[39m*\u001b[39mkw)\u001b[39m.\u001b[39miterencode(obj)\n\u001b[0;32m    177\u001b[0m \u001b[39m# could accelerate with writelines in some versions of Python, at\u001b[39;00m\n\u001b[0;32m    178\u001b[0m \u001b[39m# a debuggability cost\u001b[39;00m\n\u001b[1;32m--> 179\u001b[0m \u001b[39mfor\u001b[39;00m chunk \u001b[39min\u001b[39;00m iterable:\n\u001b[0;32m    180\u001b[0m     fp\u001b[39m.\u001b[39mwrite(chunk)\n",
      "File \u001b[1;32mc:\\Users\\chewr\\anaconda3\\envs\\tf\\lib\\json\\encoder.py:431\u001b[0m, in \u001b[0;36m_make_iterencode.<locals>._iterencode\u001b[1;34m(o, _current_indent_level)\u001b[0m\n\u001b[0;32m    429\u001b[0m     \u001b[39myield from\u001b[39;00m _iterencode_list(o, _current_indent_level)\n\u001b[0;32m    430\u001b[0m \u001b[39melif\u001b[39;00m \u001b[39misinstance\u001b[39m(o, \u001b[39mdict\u001b[39m):\n\u001b[1;32m--> 431\u001b[0m     \u001b[39myield from\u001b[39;00m _iterencode_dict(o, _current_indent_level)\n\u001b[0;32m    432\u001b[0m \u001b[39melse\u001b[39;00m:\n\u001b[0;32m    433\u001b[0m     \u001b[39mif\u001b[39;00m markers \u001b[39mis\u001b[39;00m \u001b[39mnot\u001b[39;00m \u001b[39mNone\u001b[39;00m:\n",
      "File \u001b[1;32mc:\\Users\\chewr\\anaconda3\\envs\\tf\\lib\\json\\encoder.py:405\u001b[0m, in \u001b[0;36m_make_iterencode.<locals>._iterencode_dict\u001b[1;34m(dct, _current_indent_level)\u001b[0m\n\u001b[0;32m    403\u001b[0m         \u001b[39melse\u001b[39;00m:\n\u001b[0;32m    404\u001b[0m             chunks \u001b[39m=\u001b[39m _iterencode(value, _current_indent_level)\n\u001b[1;32m--> 405\u001b[0m         \u001b[39myield from\u001b[39;00m chunks\n\u001b[0;32m    406\u001b[0m \u001b[39mif\u001b[39;00m newline_indent \u001b[39mis\u001b[39;00m \u001b[39mnot\u001b[39;00m \u001b[39mNone\u001b[39;00m:\n\u001b[0;32m    407\u001b[0m     _current_indent_level \u001b[39m-\u001b[39m\u001b[39m=\u001b[39m \u001b[39m1\u001b[39m\n",
      "File \u001b[1;32mc:\\Users\\chewr\\anaconda3\\envs\\tf\\lib\\json\\encoder.py:325\u001b[0m, in \u001b[0;36m_make_iterencode.<locals>._iterencode_list\u001b[1;34m(lst, _current_indent_level)\u001b[0m\n\u001b[0;32m    323\u001b[0m         \u001b[39melse\u001b[39;00m:\n\u001b[0;32m    324\u001b[0m             chunks \u001b[39m=\u001b[39m _iterencode(value, _current_indent_level)\n\u001b[1;32m--> 325\u001b[0m         \u001b[39myield from\u001b[39;00m chunks\n\u001b[0;32m    326\u001b[0m \u001b[39mif\u001b[39;00m newline_indent \u001b[39mis\u001b[39;00m \u001b[39mnot\u001b[39;00m \u001b[39mNone\u001b[39;00m:\n\u001b[0;32m    327\u001b[0m     _current_indent_level \u001b[39m-\u001b[39m\u001b[39m=\u001b[39m \u001b[39m1\u001b[39m\n",
      "File \u001b[1;32mc:\\Users\\chewr\\anaconda3\\envs\\tf\\lib\\json\\encoder.py:438\u001b[0m, in \u001b[0;36m_make_iterencode.<locals>._iterencode\u001b[1;34m(o, _current_indent_level)\u001b[0m\n\u001b[0;32m    436\u001b[0m         \u001b[39mraise\u001b[39;00m \u001b[39mValueError\u001b[39;00m(\u001b[39m\"\u001b[39m\u001b[39mCircular reference detected\u001b[39m\u001b[39m\"\u001b[39m)\n\u001b[0;32m    437\u001b[0m     markers[markerid] \u001b[39m=\u001b[39m o\n\u001b[1;32m--> 438\u001b[0m o \u001b[39m=\u001b[39m _default(o)\n\u001b[0;32m    439\u001b[0m \u001b[39myield from\u001b[39;00m _iterencode(o, _current_indent_level)\n\u001b[0;32m    440\u001b[0m \u001b[39mif\u001b[39;00m markers \u001b[39mis\u001b[39;00m \u001b[39mnot\u001b[39;00m \u001b[39mNone\u001b[39;00m:\n",
      "File \u001b[1;32mc:\\Users\\chewr\\anaconda3\\envs\\tf\\lib\\json\\encoder.py:179\u001b[0m, in \u001b[0;36mJSONEncoder.default\u001b[1;34m(self, o)\u001b[0m\n\u001b[0;32m    160\u001b[0m \u001b[39mdef\u001b[39;00m \u001b[39mdefault\u001b[39m(\u001b[39mself\u001b[39m, o):\n\u001b[0;32m    161\u001b[0m \u001b[39m    \u001b[39m\u001b[39m\"\"\"Implement this method in a subclass such that it returns\u001b[39;00m\n\u001b[0;32m    162\u001b[0m \u001b[39m    a serializable object for ``o``, or calls the base implementation\u001b[39;00m\n\u001b[0;32m    163\u001b[0m \u001b[39m    (to raise a ``TypeError``).\u001b[39;00m\n\u001b[1;32m   (...)\u001b[0m\n\u001b[0;32m    177\u001b[0m \n\u001b[0;32m    178\u001b[0m \u001b[39m    \"\"\"\u001b[39;00m\n\u001b[1;32m--> 179\u001b[0m     \u001b[39mraise\u001b[39;00m \u001b[39mTypeError\u001b[39;00m(\u001b[39mf\u001b[39m\u001b[39m'\u001b[39m\u001b[39mObject of type \u001b[39m\u001b[39m{\u001b[39;00mo\u001b[39m.\u001b[39m\u001b[39m__class__\u001b[39m\u001b[39m.\u001b[39m\u001b[39m__name__\u001b[39m\u001b[39m}\u001b[39;00m\u001b[39m \u001b[39m\u001b[39m'\u001b[39m\n\u001b[0;32m    180\u001b[0m                     \u001b[39mf\u001b[39m\u001b[39m'\u001b[39m\u001b[39mis not JSON serializable\u001b[39m\u001b[39m'\u001b[39m)\n",
      "\u001b[1;31mTypeError\u001b[0m: Object of type Tensor is not JSON serializable"
     ]
    }
   ],
   "source": [
    "# Save History as JSON\n",
    "log_num = len(os.listdir(f\"Models/{CFG.model_name}/logs\"))\n",
    "with open(f\"Models/{CFG.model_name}/logs/log_{log_num}\", \"w\") as out_path:\n",
    "    json.dump(history, out_path)"
   ]
  },
  {
   "cell_type": "code",
   "execution_count": null,
   "metadata": {},
   "outputs": [],
   "source": [
    "torch.save(model, f\"Models/baseline/{CFG.model_name}.pt\")"
   ]
  },
  {
   "cell_type": "code",
   "execution_count": null,
   "metadata": {},
   "outputs": [
    {
     "data": {
      "text/plain": [
       "'baseline_1'"
      ]
     },
     "execution_count": 29,
     "metadata": {},
     "output_type": "execute_result"
    }
   ],
   "source": [
    "CFG.model_name"
   ]
  },
  {
   "attachments": {},
   "cell_type": "markdown",
   "metadata": {},
   "source": [
    "# Notes"
   ]
  },
  {
   "attachments": {},
   "cell_type": "markdown",
   "metadata": {},
   "source": [
    "* Dropout\n",
    "* Pixel Level Accuracy\n",
    "* Single Conv in Block (Save Memory)\n",
    "* Check Zoom\n",
    "* 3D UNET"
   ]
  }
 ],
 "metadata": {
  "kernelspec": {
   "display_name": "tf",
   "language": "python",
   "name": "python3"
  },
  "language_info": {
   "codemirror_mode": {
    "name": "ipython",
    "version": 3
   },
   "file_extension": ".py",
   "mimetype": "text/x-python",
   "name": "python",
   "nbconvert_exporter": "python",
   "pygments_lexer": "ipython3",
   "version": "3.10.9"
  },
  "orig_nbformat": 4
 },
 "nbformat": 4,
 "nbformat_minor": 2
}
