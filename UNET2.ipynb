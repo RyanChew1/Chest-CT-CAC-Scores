{
 "cells": [
  {
   "attachments": {},
   "cell_type": "markdown",
   "metadata": {},
   "source": [
    "# **BASELINE - UNET**"
   ]
  },
  {
   "cell_type": "markdown",
   "metadata": {},
   "source": [
    "# Architecture\n",
    "\n",
    "Type info here"
   ]
  },
  {
   "attachments": {},
   "cell_type": "markdown",
   "metadata": {},
   "source": [
    "# Import Dependencies"
   ]
  },
  {
   "cell_type": "code",
   "execution_count": 34,
   "metadata": {},
   "outputs": [],
   "source": [
    "# File Support\n",
    "try: \n",
    "    import pydicom as dcm\n",
    "except:\n",
    "    # Use try except for Google Colab\n",
    "    !pip install pydicom\n",
    "from pydicom.data import get_testdata_files\n",
    "import xml\n",
    "import xml.etree.ElementTree as ET \n",
    "\n",
    "# Base\n",
    "import numpy as np\n",
    "import pandas as pd\n",
    "import json\n",
    "import random\n",
    "import gc\n",
    "from tqdm import tqdm\n",
    "\n",
    "# Visualization\n",
    "import matplotlib.pyplot as plt\n",
    "from matplotlib.patches import Polygon\n",
    "from matplotlib.path import Path\n",
    "from matplotlib.colors import Normalize\n",
    "from matplotlib.cm import ScalarMappable\n",
    "import seaborn as sns\n",
    "from PIL import Image\n",
    "\n",
    "# SK-learn\n",
    "import sklearn\n",
    "from sklearn.model_selection import KFold, GridSearchCV, RandomizedSearchCV\n",
    "\n",
    "# Files\n",
    "import os\n",
    "from os.path import join, split\n",
    "from glob import glob\n",
    "\n",
    "# Torch\n",
    "import torch\n",
    "from torch import nn\n",
    "from torch.nn import Conv2d, MaxPool2d, ReLU, ConvTranspose2d\n",
    "from torch.utils.data import Dataset, DataLoader\n",
    "from torch.utils.data import random_split\n",
    "import torchvision\n",
    "from torchvision.transforms import CenterCrop\n",
    "import torch.nn.functional as F\n",
    "from torch.optim import AdamW\n",
    "import torch.optim.lr_scheduler as lr_scheduler\n",
    "from torch.utils.checkpoint import checkpoint\n",
    "from torch.autograd import Variable\n",
    "\n",
    "import tempfile\n",
    "import torch.multiprocessing as mp\n",
    "import torch.distributed as dist\n",
    "from torch.nn.parallel import DistributedDataParallel as DDP\n",
    "from torch.distributed.fsdp import CPUOffload, wrap\n",
    "import bitsandbytes as bnb"
   ]
  },
  {
   "cell_type": "code",
   "execution_count": 35,
   "metadata": {},
   "outputs": [
    {
     "data": {
      "text/plain": [
       "'2.2.2+cu121'"
      ]
     },
     "execution_count": 35,
     "metadata": {},
     "output_type": "execute_result"
    }
   ],
   "source": [
    "torch.__version__"
   ]
  },
  {
   "cell_type": "code",
   "execution_count": 36,
   "metadata": {},
   "outputs": [],
   "source": [
    "os.environ[\"PYTORCH_CUDA_ALLOC_CONF\"] = \"max_split_size_mb:128\""
   ]
  },
  {
   "cell_type": "code",
   "execution_count": 37,
   "metadata": {},
   "outputs": [
    {
     "data": {
      "text/plain": [
       "True"
      ]
     },
     "execution_count": 37,
     "metadata": {},
     "output_type": "execute_result"
    }
   ],
   "source": [
    "torch.cuda.is_available()"
   ]
  },
  {
   "attachments": {},
   "cell_type": "markdown",
   "metadata": {},
   "source": [
    "# Config"
   ]
  },
  {
   "cell_type": "code",
   "execution_count": 38,
   "metadata": {},
   "outputs": [
    {
     "data": {
      "text/plain": [
       "7547"
      ]
     },
     "execution_count": 38,
     "metadata": {},
     "output_type": "execute_result"
    }
   ],
   "source": [
    "len(os.listdir(\"Numpy Dataset\\\\all\\images\"))"
   ]
  },
  {
   "cell_type": "code",
   "execution_count": 39,
   "metadata": {},
   "outputs": [],
   "source": [
    "class CFG:\n",
    "    random_seed = 42\n",
    "    gated = True\n",
    "    path = \"Coronary CT Data\\Gated_release_final\" if gated else \"Coronary CT Data/deidentified_nongated\"\n",
    "    device = \"cuda:0\" if torch.cuda.is_available() else \"cpu\"\n",
    "    train_new = True\n",
    "    model_num = len(os.listdir(\"Models\")) if train_new else len(os.listdir(\"Models\"))-1\n",
    "\n",
    "    batch_size = 8\n",
    "    nEpochs = 100\n",
    "    lr = 0.1\n"
   ]
  },
  {
   "cell_type": "code",
   "execution_count": 40,
   "metadata": {},
   "outputs": [],
   "source": [
    "import warnings\n",
    "warnings.filterwarnings(\"ignore\")"
   ]
  },
  {
   "cell_type": "code",
   "execution_count": 41,
   "metadata": {},
   "outputs": [
    {
     "data": {
      "text/plain": [
       "3207"
      ]
     },
     "execution_count": 41,
     "metadata": {},
     "output_type": "execute_result"
    }
   ],
   "source": [
    "torch.cuda.empty_cache()\n",
    "gc.collect()"
   ]
  },
  {
   "cell_type": "code",
   "execution_count": 42,
   "metadata": {},
   "outputs": [],
   "source": [
    "def setup(rank, world_size):\n",
    "    os.environ['MASTER_ADDR'] = 'localhost'\n",
    "    os.environ['MASTER_PORT'] = '12355'\n",
    "\n",
    "    # initialize the process group\n",
    "    dist.init_process_group(\"gloo\", rank=rank, world_size=world_size)\n",
    "\n",
    "def cleanup():\n",
    "    dist.destroy_process_group()"
   ]
  },
  {
   "attachments": {},
   "cell_type": "markdown",
   "metadata": {},
   "source": [
    "## Reproducibility"
   ]
  },
  {
   "cell_type": "code",
   "execution_count": 43,
   "metadata": {},
   "outputs": [
    {
     "name": "stdout",
     "output_type": "stream",
     "text": [
      "Seed: 42\n"
     ]
    }
   ],
   "source": [
    "def set_seed(seed=CFG.random_seed):\n",
    "    print(f\"Seed: {seed}\")\n",
    "    random.seed(seed)\n",
    "    np.random.seed(seed)\n",
    "    torch.manual_seed(seed)\n",
    "\n",
    "set_seed()"
   ]
  },
  {
   "attachments": {},
   "cell_type": "markdown",
   "metadata": {},
   "source": [
    "# Load Data"
   ]
  },
  {
   "cell_type": "code",
   "execution_count": 44,
   "metadata": {},
   "outputs": [],
   "source": [
    "def parseXML(xmlfile): \n",
    "    # create element tree object \n",
    "    tree = ET.parse(xmlfile) \n",
    "\n",
    "    all_images = []\n",
    "\n",
    "    images = tree.find(\"dict\").find(\"array\")\n",
    "    images = images.findall(\"dict\")\n",
    "\n",
    "    # Images\n",
    "    for image in images:\n",
    "        image_data = {}\n",
    "        arr = [i.text for i in image if i.tag not in [\"array\", \"dict\"]]\n",
    "        \n",
    "        for i in range(len(arr)//2):\n",
    "            image_data[arr[2*i]] = arr[2*i+1]\n",
    "\n",
    "        image_data['ROIs'] = []\n",
    "\n",
    "        # ROI\n",
    "        all_roi = image.find(\"array\").findall('dict')\n",
    "        for roi in all_roi:\n",
    "            roi_data = {}\n",
    "            arr = [i.text for i in roi if i.tag not in [\"array\", \"dict\"]]\n",
    "        \n",
    "            for i in range(len(arr)//2):\n",
    "                roi_data[arr[2*i]] = arr[2*i+1]\n",
    "\n",
    "            all_points = roi.findall('array')\n",
    "            roi_data['point_mm'] = [i.text for i in all_points[0].findall(\"string\")]\n",
    "            roi_data['point_px'] = [i.text for i in all_points[1].findall(\"string\")]\n",
    "            \n",
    "            image_data['ROIs'].append(roi_data)\n",
    "        all_images.append(image_data)\n",
    "\n",
    "    return all_images"
   ]
  },
  {
   "cell_type": "code",
   "execution_count": 45,
   "metadata": {},
   "outputs": [],
   "source": [
    "def create_segments(image_array, points):\n",
    "    polygon = Polygon(points, closed=True, edgecolor='r', facecolor='r')\n",
    "    polygon_indices = np.array(points)\n",
    "    polygon_indices[:, 0] = np.clip(polygon_indices[:, 0], 0, 511)\n",
    "    polygon_indices[:, 1] = np.clip(polygon_indices[:, 1], 0, 511)\n",
    "    image_array[polygon_indices[:, 1], polygon_indices[:, 0]] = 1\n",
    "    polygon_path = Path(polygon_indices)\n",
    "    x, y = np.meshgrid(np.arange(512), np.arange(512))\n",
    "    points = np.column_stack((x.flatten(), y.flatten()))\n",
    "    mask = polygon_path.contains_points(points).reshape(512, 512)\n",
    "    image_array[mask] = 1\n",
    "\n",
    "    return image_array"
   ]
  },
  {
   "cell_type": "code",
   "execution_count": 46,
   "metadata": {},
   "outputs": [],
   "source": [
    "class CTDataset(Dataset):\n",
    "    def __init__(self, dir):\n",
    "        super().__init__()\n",
    "        self.dir = dir\n",
    "        self.images_path = join(dir, \"images\")\n",
    "        self.labels_path = join(dir, \"labels\")\n",
    "        self.images = os.listdir(self.images_path)\n",
    "        self.labels = os.listdir(self.labels_path)\n",
    "\n",
    "    def __len__(self):\n",
    "        return len(self.images)\n",
    "    \n",
    "    def __getitem__(self, idx): # Return tuple (x, y)\n",
    "        try:\n",
    "            img = np.load(join(self.images_path, self.images[idx]), allow_pickle=True)\n",
    "            img = img.reshape(1, 512, 512) # Hard coded since all images are 512, 512\n",
    "\n",
    "            label = np.load(join(self.labels_path, self.labels[idx]), allow_pickle=True)\n",
    "            label = label.reshape(1, 512, 512)\n",
    "        except:\n",
    "            img, label = np.zeros((1,512,512), np.float32),np.zeros((1,512,512), np.float32)\n",
    "        return  img,label"
   ]
  },
  {
   "cell_type": "code",
   "execution_count": 47,
   "metadata": {},
   "outputs": [],
   "source": [
    "train = CTDataset(\"Numpy Dataset\\\\train\")\n",
    "valid = CTDataset(\"Numpy Dataset\\\\valid\")\n",
    "test = CTDataset(\"Numpy Dataset\\\\test\")"
   ]
  },
  {
   "cell_type": "code",
   "execution_count": 48,
   "metadata": {},
   "outputs": [],
   "source": [
    "trainDL = DataLoader(train, batch_size=CFG.batch_size,shuffle=True, pin_memory=True)\n",
    "validDL = DataLoader(valid, batch_size=CFG.batch_size)\n",
    "testDL = DataLoader(test, batch_size=1)"
   ]
  },
  {
   "cell_type": "code",
   "execution_count": 49,
   "metadata": {},
   "outputs": [
    {
     "name": "stdout",
     "output_type": "stream",
     "text": [
      "Train: 5331\n",
      "Valid: 1598\n",
      "Test: 616\n"
     ]
    }
   ],
   "source": [
    "print(f\"Train: {len(train)}\")\n",
    "print(f\"Valid: {len(valid)}\")\n",
    "print(f\"Test: {len(test)}\")"
   ]
  },
  {
   "attachments": {},
   "cell_type": "markdown",
   "metadata": {},
   "source": [
    "# Model"
   ]
  },
  {
   "cell_type": "code",
   "execution_count": 50,
   "metadata": {},
   "outputs": [],
   "source": [
    "class Block(nn.Module):\n",
    "    def __init__(self, in_ch, out_ch):\n",
    "        super().__init__()\n",
    "\n",
    "        self.conv1 = Conv2d(in_ch, out_ch, 3, padding=1)\n",
    "        self.relu  = ReLU()\n",
    "        self.conv2 = Conv2d(out_ch, out_ch, 3, padding=1)\n",
    "        self.conv3 = Conv2d(out_ch, out_ch, 5, padding=2)\n",
    "\n",
    "        # init random weights\n",
    "        nn.init.xavier_normal_(self.conv1.weight)\n",
    "        nn.init.zeros_(self.conv1.bias)\n",
    "\n",
    "        nn.init.xavier_normal_(self.conv2.weight)\n",
    "        nn.init.zeros_(self.conv2.bias)\n",
    "\n",
    "        nn.init.xavier_normal_(self.conv3.weight)\n",
    "        nn.init.zeros_(self.conv3.bias)\n",
    "    \n",
    "    def forward(self, x):\n",
    "        return self.relu(self.conv3(self.relu(self.conv2(self.relu(self.conv1(x))))))"
   ]
  },
  {
   "cell_type": "code",
   "execution_count": 51,
   "metadata": {},
   "outputs": [],
   "source": [
    "class AutoEncoder(nn.Module):\n",
    "    def __init__(self, channels = (1,32,64,128,256,512,1024)):\n",
    "        super().__init__()\n",
    "        self.channels = channels\n",
    "        self.pool = MaxPool2d((2,2))\n",
    "\n",
    "        self.encoder = nn.ModuleList([\n",
    "            Block(channels[i], channels[i+1]) for i in range(len(channels)-1) # 1, 32, ..., 1024\n",
    "        ])\n",
    "\n",
    "    def forward(self, x):\n",
    "        skip_out = []\n",
    "        for block in self.encoder: # Goes through all blocks, passes through block and saves skip output\n",
    "            x = block(x)\n",
    "            skip_out.append(x)\n",
    "            x = self.pool(x) # Reduces dim\n",
    "        return skip_out"
   ]
  },
  {
   "cell_type": "code",
   "execution_count": 52,
   "metadata": {},
   "outputs": [],
   "source": [
    "class AutoDecoder(nn.Module):\n",
    "    def __init__(self, channels = (1,32,64,128,256,512,1024)):\n",
    "        super().__init__()\n",
    "        self.channels = channels[:0:-1] # Reverse of Encoder (Excluding First Unneeded in Output)\n",
    "        self.pool = MaxPool2d((2,2))\n",
    "        self.upconv = nn.ModuleList([\n",
    "            ConvTranspose2d(self.channels[i], self.channels[i+1], 2, 2) for i in range(len(self.channels)-1)\n",
    "        ])\n",
    "\n",
    "        self.decoder = nn.ModuleList([\n",
    "            Block(self.channels[i], self.channels[i+1]) for i in range(len(self.channels)-1)\n",
    "        ])\n",
    "\n",
    "    def center_crop(self, x, enc_out): # Crop encoder output\n",
    "        _, _, h, w = x.shape\n",
    "        enc_out = CenterCrop([h,w])(enc_out)\n",
    "        return enc_out\n",
    "    \n",
    "    def forward(self, x, enc_out:list):\n",
    "        for i in range(len(self.channels)-1):\n",
    "            x = self.upconv[i](x)\n",
    "            enc_ftrs = self.center_crop(x, enc_out[i]) # Crop Skip\n",
    "            x = torch.cat([x, enc_ftrs], dim=1) # Concatenate Decoder and Skip\n",
    "            x = self.decoder[i](x)\n",
    "\n",
    "            # Min Max Scaling [0,1]\n",
    "            x = (x-x.min())/(x.max()-x.min())\n",
    "        return x\n"
   ]
  },
  {
   "cell_type": "code",
   "execution_count": 53,
   "metadata": {},
   "outputs": [],
   "source": [
    "class UNET(nn.Module):\n",
    "    def __init__(self, channels = (1,32,64,128,256,512, 1024, 2048)):\n",
    "        super().__init__()\n",
    "\n",
    "        # Encoder Path\n",
    "        self.enc_path = AutoEncoder(channels)\n",
    "\n",
    "        # Decoder Path\n",
    "        self.dec_path = AutoDecoder(channels)\n",
    "\n",
    "        self.out = Conv2d(channels[1], 1, 1)\n",
    "\n",
    "        # init random weights\n",
    "        nn.init.xavier_normal_(self.out.weight)\n",
    "        nn.init.zeros_(self.out.bias)\n",
    "\n",
    "    \n",
    "    def forward(self, x):\n",
    "        skips = self.enc_path(x)\n",
    "        x = self.dec_path(skips[::-1][0], skips[::-1][1:]) \n",
    "        # Reverse of enc_out = upward path of decoder \n",
    "        #  [0] -> 1024 output\n",
    "        # [1:] -> All other skip outputs\n",
    "        x = self.out(x)\n",
    "        # x = F.interpolate(x, (512,512))\n",
    "        x = F.sigmoid(x)\n",
    "\n",
    "        return x"
   ]
  },
  {
   "cell_type": "code",
   "execution_count": 54,
   "metadata": {},
   "outputs": [],
   "source": [
    "if not CFG.train_new:\n",
    "    try:\n",
    "        model = torch.load(f\"Models/{CFG.model_name}/{CFG.model_name}.pt\")\n",
    "    except FileNotFoundError:\n",
    "        print(\"Model not found in models folder\")"
   ]
  },
  {
   "attachments": {},
   "cell_type": "markdown",
   "metadata": {},
   "source": [
    "# Train"
   ]
  },
  {
   "attachments": {},
   "cell_type": "markdown",
   "metadata": {},
   "source": [
    "## Dice Loss"
   ]
  },
  {
   "cell_type": "markdown",
   "metadata": {},
   "source": [
    "Sørensen–Dice coefficient:\n",
    "[Wikipedia](https://en.wikipedia.org/wiki/S%C3%B8rensen%E2%80%93Dice_coefficient)\n",
    "</br>\n",
    "$${\\displaystyle DSC={\\frac {2|X\\cap Y|}{|X|+|Y|}}}"
   ]
  },
  {
   "cell_type": "code",
   "execution_count": 55,
   "metadata": {},
   "outputs": [],
   "source": [
    "class diceCoef(nn.Module):\n",
    "    def init(self):\n",
    "        super(diceCoef, self).init()\n",
    "\n",
    "    def forward(self, inputs, targets, smooth=1):        \n",
    "        #flatten label and prediction tensors\n",
    "        inputs = inputs.view(-1)\n",
    "        targets = targets.view(-1)\n",
    "        \n",
    "        intersection = (inputs * targets).sum()                            \n",
    "        dice = (2.*intersection + smooth)/(inputs.sum() + targets.sum() + smooth)  \n",
    "        \n",
    "        return 1 - dice"
   ]
  },
  {
   "cell_type": "code",
   "execution_count": 56,
   "metadata": {},
   "outputs": [],
   "source": [
    "class DiceBCELoss(nn.Module):\n",
    "    def __init__(self, weight=None, size_average=True):\n",
    "        super(DiceBCELoss, self).__init__()\n",
    "\n",
    "    def forward(self, inputs, targets, smooth=1):\n",
    "        \n",
    "        #comment out if your model contains a sigmoid or equivalent activation layer\n",
    "        inputs = F.sigmoid(inputs)       \n",
    "        \n",
    "        #flatten label and prediction tensors\n",
    "        inputs = inputs.view(-1)\n",
    "        targets = targets.view(-1)\n",
    "        \n",
    "        intersection = (inputs * targets).sum()                            \n",
    "        dice_loss = 1 - (2.*intersection + smooth)/(inputs.sum() + targets.sum() + smooth)  \n",
    "        BCE = F.binary_cross_entropy(inputs, targets, reduction='mean')\n",
    "        Dice_BCE = BCE + dice_loss\n",
    "        \n",
    "        return Dice_BCE"
   ]
  },
  {
   "cell_type": "code",
   "execution_count": 57,
   "metadata": {},
   "outputs": [],
   "source": [
    "class IoULoss(nn.Module):\n",
    "    def __init__(self, weight=None, size_average=True):\n",
    "        super(IoULoss, self).__init__()\n",
    "\n",
    "    def forward(self, inputs, targets, smooth=1):\n",
    "        #comment out if your model contains a sigmoid or equivalent activation layer\n",
    "        inputs = F.sigmoid(inputs)       \n",
    "        \n",
    "        #flatten label and prediction tensors\n",
    "        inputs = inputs.view(-1)\n",
    "        targets = targets.view(-1)\n",
    "        \n",
    "        #intersection is equivalent to True Positive count\n",
    "        #union is the mutually inclusive area of all labels & predictions \n",
    "        intersection = (inputs * targets).sum()\n",
    "        total = (inputs + targets).sum()\n",
    "        union = total - intersection \n",
    "        \n",
    "        IoU = (intersection + smooth)/(union + smooth)\n",
    "                \n",
    "        return 1 - IoU"
   ]
  },
  {
   "cell_type": "code",
   "execution_count": 58,
   "metadata": {},
   "outputs": [],
   "source": [
    "class TverskyLoss(nn.Module):\n",
    "    def __init__(self, weight=None, size_average=True, ALPHA = 0.5, BETA = 0.5):\n",
    "        super(TverskyLoss, self).__init__()\n",
    "        self.alpha = ALPHA\n",
    "        self.beta = BETA\n",
    "\n",
    "    def forward(self, inputs, targets, smooth=1):\n",
    "        \n",
    "        #comment out if your model contains a sigmoid or equivalent activation layer\n",
    "        inputs = F.sigmoid(inputs)       \n",
    "        \n",
    "        #flatten label and prediction tensors\n",
    "        inputs = inputs.view(-1)\n",
    "        targets = targets.view(-1)\n",
    "        \n",
    "        #True Positives, False Positives & False Negatives\n",
    "        TP = (inputs * targets).sum()    \n",
    "        FP = ((1-targets) * inputs).sum()\n",
    "        FN = (targets * (1-inputs)).sum()\n",
    "       \n",
    "        Tversky = (TP + smooth) / (TP + self.alpha*FP + self.beta*FN + smooth)  \n",
    "        \n",
    "        return 1 - Tversky"
   ]
  },
  {
   "cell_type": "code",
   "execution_count": 59,
   "metadata": {},
   "outputs": [],
   "source": [
    "criterion_dice = DiceBCELoss()"
   ]
  },
  {
   "cell_type": "code",
   "execution_count": 60,
   "metadata": {},
   "outputs": [],
   "source": [
    "criterion_iou = IoULoss()"
   ]
  },
  {
   "cell_type": "code",
   "execution_count": 61,
   "metadata": {},
   "outputs": [],
   "source": [
    "criterion_bce = torch.nn.BCEWithLogitsLoss()"
   ]
  },
  {
   "cell_type": "code",
   "execution_count": 62,
   "metadata": {},
   "outputs": [],
   "source": [
    "criterion_tversk = TverskyLoss()"
   ]
  },
  {
   "attachments": {},
   "cell_type": "markdown",
   "metadata": {},
   "source": [
    "* Pixel Binary\n",
    "* IOU\n",
    "* BCE Dice"
   ]
  },
  {
   "attachments": {},
   "cell_type": "markdown",
   "metadata": {},
   "source": [
    "## Training Loop"
   ]
  },
  {
   "cell_type": "code",
   "execution_count": 63,
   "metadata": {},
   "outputs": [],
   "source": [
    "trainDL = DataLoader(train, batch_size=16, shuffle=True)\n",
    "validDL = DataLoader(valid, batch_size=16, shuffle=False)"
   ]
  },
  {
   "cell_type": "code",
   "execution_count": 64,
   "metadata": {},
   "outputs": [],
   "source": [
    "def train_epoch(model,  criterion, optim, scheduler):      \n",
    "    train_loss = 0\n",
    "    bce_loss = 0\n",
    "    iou_loss = 0\n",
    "    dice_loss = 0\n",
    "    for x,y in tqdm(trainDL):\n",
    "        x, y = x.to(CFG.device), y.to(CFG.device)\n",
    "        optim.zero_grad()\n",
    "        with torch.cuda.amp.autocast(dtype=torch.float16):\n",
    "            pred = checkpoint(model, x).detach()\n",
    "            loss = criterion(pred, y)\n",
    "            loss = Variable(loss, requires_grad=True)\n",
    "            \n",
    "        loss.backward()\n",
    "        optim.step()\n",
    "        train_loss += loss\n",
    "        del x,y,pred,loss\n",
    "    \n",
    "    \n",
    "    # eval\n",
    "    with torch.no_grad():\n",
    "        for x,y in validDL:\n",
    "            x, y = x.to(CFG.device), y.to(CFG.device)\n",
    "            pred = model(x).detach()\n",
    "            loss_bce = criterion_bce(pred, y)\n",
    "            loss_dice = criterion_dice(pred,y)\n",
    "            loss_iou = criterion_iou(pred, y)\n",
    "            bce_loss += loss_bce\n",
    "            iou_loss += loss_iou\n",
    "            dice_loss += loss_dice\n",
    "    \n",
    "    scheduler.step(bce_loss)\n",
    "        \n",
    "    avg_train_loss = train_loss/len(trainDL)\n",
    "    avg_bce_loss = bce_loss/len(validDL)\n",
    "    avg_iou_loss = iou_loss/len(validDL)\n",
    "    avg_dice_loss = dice_loss/len(validDL)\n",
    "\n",
    "    \n",
    "    print(f\"Train Loss: {avg_train_loss}\")\n",
    "    print(f\"Validation BCE Loss: {avg_bce_loss}\")\n",
    "    print(f\"Validation Dice Loss: {avg_dice_loss}\")\n",
    "    print(f\"Validation IOU Loss: {avg_iou_loss}\")\n",
    "    return avg_train_loss, avg_dice_loss"
   ]
  },
  {
   "cell_type": "code",
   "execution_count": 65,
   "metadata": {},
   "outputs": [],
   "source": [
    "def run_model(criterion, model = None, init_lr = 0.1, name = \"model\", nEpochs = CFG.nEpochs):\n",
    "    if not model:\n",
    "        model = UNET().to(CFG.device)\n",
    "    model.train()\n",
    "\n",
    "    optim = AdamW(model.parameters(), lr=init_lr)\n",
    "    scheduler = lr_scheduler.ReduceLROnPlateau(optim, factor=0.5, min_lr=0.0001, verbose=True)\n",
    "\n",
    "\n",
    "    train_hist = []\n",
    "    val_hist = []\n",
    "\n",
    "    for e in range(nEpochs):\n",
    "        print(f\"\\n\\n[INFO] Epoch {e+1}/{nEpochs}\")\n",
    "        train_loss, val_loss = train_epoch(model, criterion, optim, scheduler)\n",
    "        train_hist.append(float(train_loss.detach().cpu()))\n",
    "        val_hist.append(float(val_loss.detach().cpu()))\n",
    "\n",
    "    if not os.path.exists(f\"Models/{name}\"):\n",
    "        os.mkdir(f\"Models/{name}\")\n",
    "    torch.save(model.state_dict(), f\"Models/{name}/model.pt\")\n",
    "\n",
    "    history = pd.DataFrame({\"train\":train_hist, \n",
    "                         'validation':val_hist}, index = range(1,len(train_hist)+1))\n",
    "    \n",
    "    history.to_csv(f\"Models/{name}/logs.csv\")"
   ]
  },
  {
   "cell_type": "code",
   "execution_count": 67,
   "metadata": {},
   "outputs": [
    {
     "name": "stdout",
     "output_type": "stream",
     "text": [
      "\n",
      "\n",
      "[INFO] Epoch 1/2\n"
     ]
    },
    {
     "name": "stderr",
     "output_type": "stream",
     "text": [
      "100%|██████████| 334/334 [01:56<00:00,  2.88it/s]\n"
     ]
    },
    {
     "name": "stdout",
     "output_type": "stream",
     "text": [
      "Train Loss: 0.999648928642273\n",
      "Validation BCE Loss: 0.966810405254364\n",
      "Validation Dice Loss: 1.9667773246765137\n",
      "Validation IOU Loss: 0.9999834299087524\n",
      "\n",
      "\n",
      "[INFO] Epoch 2/2\n"
     ]
    },
    {
     "name": "stderr",
     "output_type": "stream",
     "text": [
      "100%|██████████| 334/334 [01:56<00:00,  2.87it/s]\n"
     ]
    },
    {
     "name": "stdout",
     "output_type": "stream",
     "text": [
      "Train Loss: 0.9996482729911804\n",
      "Validation BCE Loss: 0.966810405254364\n",
      "Validation Dice Loss: 1.9667773246765137\n",
      "Validation IOU Loss: 0.9999834299087524\n",
      "\n",
      "\n",
      "[INFO] Epoch 1/2\n"
     ]
    },
    {
     "name": "stderr",
     "output_type": "stream",
     "text": [
      "100%|██████████| 334/334 [01:56<00:00,  2.86it/s]\n"
     ]
    },
    {
     "name": "stdout",
     "output_type": "stream",
     "text": [
      "Train Loss: 0.9996470808982849\n",
      "Validation BCE Loss: 0.9872558116912842\n",
      "Validation Dice Loss: 1.9872229099273682\n",
      "Validation IOU Loss: 0.9999834299087524\n",
      "\n",
      "\n",
      "[INFO] Epoch 2/2\n"
     ]
    },
    {
     "name": "stderr",
     "output_type": "stream",
     "text": [
      "100%|██████████| 334/334 [01:56<00:00,  2.87it/s]\n"
     ]
    },
    {
     "name": "stdout",
     "output_type": "stream",
     "text": [
      "Train Loss: 0.9996477961540222\n",
      "Validation BCE Loss: 0.9872558116912842\n",
      "Validation Dice Loss: 1.9872229099273682\n",
      "Validation IOU Loss: 0.9999834299087524\n",
      "\n",
      "\n",
      "[INFO] Epoch 1/2\n"
     ]
    },
    {
     "name": "stderr",
     "output_type": "stream",
     "text": [
      "100%|██████████| 334/334 [01:56<00:00,  2.87it/s]\n"
     ]
    },
    {
     "name": "stdout",
     "output_type": "stream",
     "text": [
      "Train Loss: 0.9996477365493774\n",
      "Validation BCE Loss: 0.9362158179283142\n",
      "Validation Dice Loss: 1.9361828565597534\n",
      "Validation IOU Loss: 0.9999834299087524\n",
      "\n",
      "\n",
      "[INFO] Epoch 2/2\n"
     ]
    },
    {
     "name": "stderr",
     "output_type": "stream",
     "text": [
      "100%|██████████| 334/334 [01:53<00:00,  2.95it/s]\n"
     ]
    },
    {
     "name": "stdout",
     "output_type": "stream",
     "text": [
      "Train Loss: 0.9996461868286133\n",
      "Validation BCE Loss: 0.9362158179283142\n",
      "Validation Dice Loss: 1.9361828565597534\n",
      "Validation IOU Loss: 0.9999834299087524\n",
      "\n",
      "\n",
      "[INFO] Epoch 1/2\n"
     ]
    },
    {
     "name": "stderr",
     "output_type": "stream",
     "text": [
      "100%|██████████| 334/334 [01:53<00:00,  2.96it/s]\n"
     ]
    },
    {
     "name": "stdout",
     "output_type": "stream",
     "text": [
      "Train Loss: 0.9996462464332581\n",
      "Validation BCE Loss: 0.9930200576782227\n",
      "Validation Dice Loss: 1.9929866790771484\n",
      "Validation IOU Loss: 0.9999833703041077\n",
      "\n",
      "\n",
      "[INFO] Epoch 2/2\n"
     ]
    },
    {
     "name": "stderr",
     "output_type": "stream",
     "text": [
      "100%|██████████| 334/334 [01:53<00:00,  2.96it/s]\n"
     ]
    },
    {
     "name": "stdout",
     "output_type": "stream",
     "text": [
      "Train Loss: 0.9996464252471924\n",
      "Validation BCE Loss: 0.9930200576782227\n",
      "Validation Dice Loss: 1.9929866790771484\n",
      "Validation IOU Loss: 0.9999833703041077\n",
      "\n",
      "\n",
      "[INFO] Epoch 1/2\n"
     ]
    },
    {
     "name": "stderr",
     "output_type": "stream",
     "text": [
      "100%|██████████| 334/334 [01:53<00:00,  2.95it/s]\n"
     ]
    },
    {
     "name": "stdout",
     "output_type": "stream",
     "text": [
      "Train Loss: 0.9996461868286133\n",
      "Validation BCE Loss: 0.9740671515464783\n",
      "Validation Dice Loss: 1.9740339517593384\n",
      "Validation IOU Loss: 0.9999833703041077\n",
      "\n",
      "\n",
      "[INFO] Epoch 2/2\n"
     ]
    },
    {
     "name": "stderr",
     "output_type": "stream",
     "text": [
      "100%|██████████| 334/334 [01:53<00:00,  2.95it/s]\n"
     ]
    },
    {
     "name": "stdout",
     "output_type": "stream",
     "text": [
      "Train Loss: 0.9996469020843506\n",
      "Validation BCE Loss: 0.9740671515464783\n",
      "Validation Dice Loss: 1.9740339517593384\n",
      "Validation IOU Loss: 0.9999833703041077\n",
      "\n",
      "\n",
      "[INFO] Epoch 1/2\n"
     ]
    },
    {
     "name": "stderr",
     "output_type": "stream",
     "text": [
      "100%|██████████| 334/334 [01:53<00:00,  2.95it/s]\n"
     ]
    },
    {
     "name": "stdout",
     "output_type": "stream",
     "text": [
      "Train Loss: 0.999647319316864\n",
      "Validation BCE Loss: 0.9724971652030945\n",
      "Validation Dice Loss: 1.9724640846252441\n",
      "Validation IOU Loss: 0.9999834299087524\n",
      "\n",
      "\n",
      "[INFO] Epoch 2/2\n"
     ]
    },
    {
     "name": "stderr",
     "output_type": "stream",
     "text": [
      "100%|██████████| 334/334 [01:53<00:00,  2.95it/s]\n"
     ]
    },
    {
     "name": "stdout",
     "output_type": "stream",
     "text": [
      "Train Loss: 0.9996477961540222\n",
      "Validation BCE Loss: 0.9724971652030945\n",
      "Validation Dice Loss: 1.9724640846252441\n",
      "Validation IOU Loss: 0.9999834299087524\n",
      "\n",
      "\n",
      "[INFO] Epoch 1/2\n"
     ]
    },
    {
     "name": "stderr",
     "output_type": "stream",
     "text": [
      "100%|██████████| 334/334 [01:53<00:00,  2.95it/s]\n"
     ]
    },
    {
     "name": "stdout",
     "output_type": "stream",
     "text": [
      "Train Loss: 0.9996464252471924\n",
      "Validation BCE Loss: 1.0039700269699097\n",
      "Validation Dice Loss: 2.003937005996704\n",
      "Validation IOU Loss: 0.9999834299087524\n",
      "\n",
      "\n",
      "[INFO] Epoch 2/2\n"
     ]
    },
    {
     "name": "stderr",
     "output_type": "stream",
     "text": [
      "100%|██████████| 334/334 [01:53<00:00,  2.95it/s]\n"
     ]
    },
    {
     "name": "stdout",
     "output_type": "stream",
     "text": [
      "Train Loss: 0.9996472597122192\n",
      "Validation BCE Loss: 1.0039700269699097\n",
      "Validation Dice Loss: 2.003937005996704\n",
      "Validation IOU Loss: 0.9999834299087524\n",
      "\n",
      "\n",
      "[INFO] Epoch 1/2\n"
     ]
    },
    {
     "name": "stderr",
     "output_type": "stream",
     "text": [
      "100%|██████████| 334/334 [01:53<00:00,  2.95it/s]\n"
     ]
    },
    {
     "name": "stdout",
     "output_type": "stream",
     "text": [
      "Train Loss: 0.9996479749679565\n",
      "Validation BCE Loss: 0.9872723817825317\n",
      "Validation Dice Loss: 1.987238883972168\n",
      "Validation IOU Loss: 0.9999834299087524\n",
      "\n",
      "\n",
      "[INFO] Epoch 2/2\n"
     ]
    },
    {
     "name": "stderr",
     "output_type": "stream",
     "text": [
      "100%|██████████| 334/334 [01:53<00:00,  2.95it/s]\n"
     ]
    },
    {
     "name": "stdout",
     "output_type": "stream",
     "text": [
      "Train Loss: 0.999647319316864\n",
      "Validation BCE Loss: 0.9872723817825317\n",
      "Validation Dice Loss: 1.987238883972168\n",
      "Validation IOU Loss: 0.9999834299087524\n",
      "\n",
      "\n",
      "[INFO] Epoch 1/2\n"
     ]
    },
    {
     "name": "stderr",
     "output_type": "stream",
     "text": [
      "100%|██████████| 334/334 [01:53<00:00,  2.95it/s]\n"
     ]
    },
    {
     "name": "stdout",
     "output_type": "stream",
     "text": [
      "Train Loss: 0.9996486902236938\n",
      "Validation BCE Loss: 0.9424700140953064\n",
      "Validation Dice Loss: 1.9424370527267456\n",
      "Validation IOU Loss: 0.9999834299087524\n",
      "\n",
      "\n",
      "[INFO] Epoch 2/2\n"
     ]
    },
    {
     "name": "stderr",
     "output_type": "stream",
     "text": [
      "100%|██████████| 334/334 [01:53<00:00,  2.95it/s]\n"
     ]
    },
    {
     "name": "stdout",
     "output_type": "stream",
     "text": [
      "Train Loss: 0.999648928642273\n",
      "Validation BCE Loss: 0.9424700140953064\n",
      "Validation Dice Loss: 1.9424370527267456\n",
      "Validation IOU Loss: 0.9999834299087524\n",
      "\n",
      "\n",
      "[INFO] Epoch 1/2\n"
     ]
    },
    {
     "name": "stderr",
     "output_type": "stream",
     "text": [
      "100%|██████████| 334/334 [01:53<00:00,  2.95it/s]\n"
     ]
    },
    {
     "name": "stdout",
     "output_type": "stream",
     "text": [
      "Train Loss: 0.999648928642273\n",
      "Validation BCE Loss: 0.9676463603973389\n",
      "Validation Dice Loss: 1.9676129817962646\n",
      "Validation IOU Loss: 0.9999834299087524\n",
      "\n",
      "\n",
      "[INFO] Epoch 2/2\n"
     ]
    },
    {
     "name": "stderr",
     "output_type": "stream",
     "text": [
      "100%|██████████| 334/334 [01:53<00:00,  2.95it/s]\n"
     ]
    },
    {
     "name": "stdout",
     "output_type": "stream",
     "text": [
      "Train Loss: 0.9996494650840759\n",
      "Validation BCE Loss: 0.9676463603973389\n",
      "Validation Dice Loss: 1.9676129817962646\n",
      "Validation IOU Loss: 0.9999834299087524\n",
      "\n",
      "\n",
      "[INFO] Epoch 1/2\n"
     ]
    },
    {
     "name": "stderr",
     "output_type": "stream",
     "text": [
      "100%|██████████| 334/334 [01:53<00:00,  2.95it/s]\n"
     ]
    },
    {
     "name": "stdout",
     "output_type": "stream",
     "text": [
      "Train Loss: 0.9996465444564819\n",
      "Validation BCE Loss: 0.9635887742042542\n",
      "Validation Dice Loss: 1.9635554552078247\n",
      "Validation IOU Loss: 0.9999834299087524\n",
      "\n",
      "\n",
      "[INFO] Epoch 2/2\n"
     ]
    },
    {
     "name": "stderr",
     "output_type": "stream",
     "text": [
      "100%|██████████| 334/334 [01:53<00:00,  2.95it/s]\n"
     ]
    },
    {
     "name": "stdout",
     "output_type": "stream",
     "text": [
      "Train Loss: 0.9996474385261536\n",
      "Validation BCE Loss: 0.9635887742042542\n",
      "Validation Dice Loss: 1.9635554552078247\n",
      "Validation IOU Loss: 0.9999834299087524\n",
      "\n",
      "\n",
      "[INFO] Epoch 1/2\n"
     ]
    },
    {
     "name": "stderr",
     "output_type": "stream",
     "text": [
      "100%|██████████| 334/334 [01:53<00:00,  2.95it/s]\n"
     ]
    },
    {
     "name": "stdout",
     "output_type": "stream",
     "text": [
      "Train Loss: 0.9996461868286133\n",
      "Validation BCE Loss: 1.0187216997146606\n",
      "Validation Dice Loss: 2.0186879634857178\n",
      "Validation IOU Loss: 0.9999833703041077\n",
      "\n",
      "\n",
      "[INFO] Epoch 2/2\n"
     ]
    },
    {
     "name": "stderr",
     "output_type": "stream",
     "text": [
      "100%|██████████| 334/334 [01:53<00:00,  2.95it/s]\n"
     ]
    },
    {
     "name": "stdout",
     "output_type": "stream",
     "text": [
      "Train Loss: 0.9996458888053894\n",
      "Validation BCE Loss: 1.0187216997146606\n",
      "Validation Dice Loss: 2.0186879634857178\n",
      "Validation IOU Loss: 0.9999833703041077\n",
      "\n",
      "\n",
      "[INFO] Epoch 1/2\n"
     ]
    },
    {
     "name": "stderr",
     "output_type": "stream",
     "text": [
      "100%|██████████| 334/334 [01:53<00:00,  2.95it/s]\n"
     ]
    },
    {
     "name": "stdout",
     "output_type": "stream",
     "text": [
      "Train Loss: 0.9996470808982849\n",
      "Validation BCE Loss: 0.9890096783638\n",
      "Validation Dice Loss: 1.9889758825302124\n",
      "Validation IOU Loss: 0.9999834299087524\n",
      "\n",
      "\n",
      "[INFO] Epoch 2/2\n"
     ]
    },
    {
     "name": "stderr",
     "output_type": "stream",
     "text": [
      "100%|██████████| 334/334 [01:53<00:00,  2.95it/s]\n"
     ]
    },
    {
     "name": "stdout",
     "output_type": "stream",
     "text": [
      "Train Loss: 0.9996474385261536\n",
      "Validation BCE Loss: 0.9890096783638\n",
      "Validation Dice Loss: 1.9889758825302124\n",
      "Validation IOU Loss: 0.9999834299087524\n",
      "\n",
      "\n",
      "[INFO] Epoch 1/2\n"
     ]
    },
    {
     "name": "stderr",
     "output_type": "stream",
     "text": [
      "100%|██████████| 334/334 [01:53<00:00,  2.96it/s]\n"
     ]
    },
    {
     "name": "stdout",
     "output_type": "stream",
     "text": [
      "Train Loss: 0.9996503591537476\n",
      "Validation BCE Loss: 0.9122638702392578\n",
      "Validation Dice Loss: 1.912231206893921\n",
      "Validation IOU Loss: 0.9999834299087524\n",
      "\n",
      "\n",
      "[INFO] Epoch 2/2\n"
     ]
    },
    {
     "name": "stderr",
     "output_type": "stream",
     "text": [
      "100%|██████████| 334/334 [01:53<00:00,  2.95it/s]\n"
     ]
    },
    {
     "name": "stdout",
     "output_type": "stream",
     "text": [
      "Train Loss: 0.999649167060852\n",
      "Validation BCE Loss: 0.9122638702392578\n",
      "Validation Dice Loss: 1.912231206893921\n",
      "Validation IOU Loss: 0.9999834299087524\n",
      "\n",
      "\n",
      "[INFO] Epoch 1/2\n"
     ]
    },
    {
     "name": "stderr",
     "output_type": "stream",
     "text": [
      "100%|██████████| 334/334 [01:52<00:00,  2.96it/s]\n"
     ]
    },
    {
     "name": "stdout",
     "output_type": "stream",
     "text": [
      "Train Loss: 0.9996474385261536\n",
      "Validation BCE Loss: 0.9589358568191528\n",
      "Validation Dice Loss: 1.9589027166366577\n",
      "Validation IOU Loss: 0.9999834299087524\n",
      "\n",
      "\n",
      "[INFO] Epoch 2/2\n"
     ]
    },
    {
     "name": "stderr",
     "output_type": "stream",
     "text": [
      "100%|██████████| 334/334 [01:53<00:00,  2.95it/s]\n"
     ]
    },
    {
     "name": "stdout",
     "output_type": "stream",
     "text": [
      "Train Loss: 0.9996486902236938\n",
      "Validation BCE Loss: 0.9589358568191528\n",
      "Validation Dice Loss: 1.9589027166366577\n",
      "Validation IOU Loss: 0.9999834299087524\n",
      "\n",
      "\n",
      "[INFO] Epoch 1/2\n"
     ]
    },
    {
     "name": "stderr",
     "output_type": "stream",
     "text": [
      "100%|██████████| 334/334 [01:53<00:00,  2.95it/s]\n"
     ]
    },
    {
     "name": "stdout",
     "output_type": "stream",
     "text": [
      "Train Loss: 0.9996485114097595\n",
      "Validation BCE Loss: 0.9794979691505432\n",
      "Validation Dice Loss: 1.9794646501541138\n",
      "Validation IOU Loss: 0.9999834299087524\n",
      "\n",
      "\n",
      "[INFO] Epoch 2/2\n"
     ]
    },
    {
     "name": "stderr",
     "output_type": "stream",
     "text": [
      "100%|██████████| 334/334 [01:53<00:00,  2.95it/s]\n"
     ]
    },
    {
     "name": "stdout",
     "output_type": "stream",
     "text": [
      "Train Loss: 0.9996477961540222\n",
      "Validation BCE Loss: 0.9794979691505432\n",
      "Validation Dice Loss: 1.9794646501541138\n",
      "Validation IOU Loss: 0.9999834299087524\n",
      "\n",
      "\n",
      "[INFO] Epoch 1/2\n"
     ]
    },
    {
     "name": "stderr",
     "output_type": "stream",
     "text": [
      "100%|██████████| 334/334 [01:52<00:00,  2.96it/s]\n"
     ]
    },
    {
     "name": "stdout",
     "output_type": "stream",
     "text": [
      "Train Loss: 0.9996463656425476\n",
      "Validation BCE Loss: 1.0018666982650757\n",
      "Validation Dice Loss: 2.001833438873291\n",
      "Validation IOU Loss: 0.9999833703041077\n",
      "\n",
      "\n",
      "[INFO] Epoch 2/2\n"
     ]
    },
    {
     "name": "stderr",
     "output_type": "stream",
     "text": [
      "100%|██████████| 334/334 [01:53<00:00,  2.95it/s]\n"
     ]
    },
    {
     "name": "stdout",
     "output_type": "stream",
     "text": [
      "Train Loss: 0.9996467232704163\n",
      "Validation BCE Loss: 1.0018666982650757\n",
      "Validation Dice Loss: 2.001833438873291\n",
      "Validation IOU Loss: 0.9999833703041077\n",
      "\n",
      "\n",
      "[INFO] Epoch 1/2\n"
     ]
    },
    {
     "name": "stderr",
     "output_type": "stream",
     "text": [
      "100%|██████████| 334/334 [01:53<00:00,  2.96it/s]\n"
     ]
    },
    {
     "name": "stdout",
     "output_type": "stream",
     "text": [
      "Train Loss: 0.9996474385261536\n",
      "Validation BCE Loss: 0.9536645412445068\n",
      "Validation Dice Loss: 1.9536306858062744\n",
      "Validation IOU Loss: 0.9999834299087524\n",
      "\n",
      "\n",
      "[INFO] Epoch 2/2\n"
     ]
    },
    {
     "name": "stderr",
     "output_type": "stream",
     "text": [
      "100%|██████████| 334/334 [01:53<00:00,  2.95it/s]\n"
     ]
    },
    {
     "name": "stdout",
     "output_type": "stream",
     "text": [
      "Train Loss: 0.9996502995491028\n",
      "Validation BCE Loss: 0.9536645412445068\n",
      "Validation Dice Loss: 1.9536306858062744\n",
      "Validation IOU Loss: 0.9999834299087524\n",
      "\n",
      "\n",
      "[INFO] Epoch 1/2\n"
     ]
    },
    {
     "name": "stderr",
     "output_type": "stream",
     "text": [
      "100%|██████████| 334/334 [01:52<00:00,  2.96it/s]\n"
     ]
    },
    {
     "name": "stdout",
     "output_type": "stream",
     "text": [
      "Train Loss: 0.9996486902236938\n",
      "Validation BCE Loss: 0.9722787737846375\n",
      "Validation Dice Loss: 1.9722450971603394\n",
      "Validation IOU Loss: 0.9999834299087524\n",
      "\n",
      "\n",
      "[INFO] Epoch 2/2\n"
     ]
    },
    {
     "name": "stderr",
     "output_type": "stream",
     "text": [
      "100%|██████████| 334/334 [01:53<00:00,  2.95it/s]\n"
     ]
    },
    {
     "name": "stdout",
     "output_type": "stream",
     "text": [
      "Train Loss: 0.9996486902236938\n",
      "Validation BCE Loss: 0.9722787737846375\n",
      "Validation Dice Loss: 1.9722450971603394\n",
      "Validation IOU Loss: 0.9999834299087524\n",
      "\n",
      "\n",
      "[INFO] Epoch 1/2\n"
     ]
    },
    {
     "name": "stderr",
     "output_type": "stream",
     "text": [
      "100%|██████████| 334/334 [01:53<00:00,  2.95it/s]\n"
     ]
    },
    {
     "name": "stdout",
     "output_type": "stream",
     "text": [
      "Train Loss: 0.9996476173400879\n",
      "Validation BCE Loss: 0.983851432800293\n",
      "Validation Dice Loss: 1.9838184118270874\n",
      "Validation IOU Loss: 0.9999833703041077\n",
      "\n",
      "\n",
      "[INFO] Epoch 2/2\n"
     ]
    },
    {
     "name": "stderr",
     "output_type": "stream",
     "text": [
      "100%|██████████| 334/334 [01:53<00:00,  2.95it/s]\n"
     ]
    },
    {
     "name": "stdout",
     "output_type": "stream",
     "text": [
      "Train Loss: 0.9996474385261536\n",
      "Validation BCE Loss: 0.983851432800293\n",
      "Validation Dice Loss: 1.9838184118270874\n",
      "Validation IOU Loss: 0.9999833703041077\n",
      "\n",
      "\n",
      "[INFO] Epoch 1/2\n"
     ]
    },
    {
     "name": "stderr",
     "output_type": "stream",
     "text": [
      "100%|██████████| 334/334 [01:53<00:00,  2.95it/s]\n"
     ]
    },
    {
     "name": "stdout",
     "output_type": "stream",
     "text": [
      "Train Loss: 0.9996476173400879\n",
      "Validation BCE Loss: 0.9516705870628357\n",
      "Validation Dice Loss: 1.9516379833221436\n",
      "Validation IOU Loss: 0.9999834299087524\n",
      "\n",
      "\n",
      "[INFO] Epoch 2/2\n"
     ]
    },
    {
     "name": "stderr",
     "output_type": "stream",
     "text": [
      "100%|██████████| 334/334 [01:53<00:00,  2.95it/s]\n"
     ]
    },
    {
     "name": "stdout",
     "output_type": "stream",
     "text": [
      "Train Loss: 0.9996481537818909\n",
      "Validation BCE Loss: 0.9516705870628357\n",
      "Validation Dice Loss: 1.9516379833221436\n",
      "Validation IOU Loss: 0.9999834299087524\n",
      "\n",
      "\n",
      "[INFO] Epoch 1/2\n"
     ]
    },
    {
     "name": "stderr",
     "output_type": "stream",
     "text": [
      "100%|██████████| 334/334 [01:53<00:00,  2.94it/s]\n"
     ]
    },
    {
     "name": "stdout",
     "output_type": "stream",
     "text": [
      "Train Loss: 0.9996457695960999\n",
      "Validation BCE Loss: 0.9449816942214966\n",
      "Validation Dice Loss: 1.9449491500854492\n",
      "Validation IOU Loss: 0.9999834299087524\n",
      "\n",
      "\n",
      "[INFO] Epoch 2/2\n"
     ]
    },
    {
     "name": "stderr",
     "output_type": "stream",
     "text": [
      "100%|██████████| 334/334 [01:53<00:00,  2.95it/s]\n"
     ]
    },
    {
     "name": "stdout",
     "output_type": "stream",
     "text": [
      "Train Loss: 0.9996491074562073\n",
      "Validation BCE Loss: 0.9449816942214966\n",
      "Validation Dice Loss: 1.9449491500854492\n",
      "Validation IOU Loss: 0.9999834299087524\n",
      "\n",
      "\n",
      "[INFO] Epoch 1/2\n"
     ]
    },
    {
     "name": "stderr",
     "output_type": "stream",
     "text": [
      "100%|██████████| 334/334 [01:53<00:00,  2.95it/s]\n"
     ]
    },
    {
     "name": "stdout",
     "output_type": "stream",
     "text": [
      "Train Loss: 0.9996446371078491\n",
      "Validation BCE Loss: 0.9776127934455872\n",
      "Validation Dice Loss: 1.9775789976119995\n",
      "Validation IOU Loss: 0.9999833703041077\n",
      "\n",
      "\n",
      "[INFO] Epoch 2/2\n"
     ]
    },
    {
     "name": "stderr",
     "output_type": "stream",
     "text": [
      "100%|██████████| 334/334 [01:53<00:00,  2.95it/s]\n"
     ]
    },
    {
     "name": "stdout",
     "output_type": "stream",
     "text": [
      "Train Loss: 0.9996479153633118\n",
      "Validation BCE Loss: 0.9776127934455872\n",
      "Validation Dice Loss: 1.9775789976119995\n",
      "Validation IOU Loss: 0.9999833703041077\n",
      "\n",
      "\n",
      "[INFO] Epoch 1/2\n"
     ]
    },
    {
     "name": "stderr",
     "output_type": "stream",
     "text": [
      "100%|██████████| 334/334 [01:53<00:00,  2.95it/s]\n"
     ]
    },
    {
     "name": "stdout",
     "output_type": "stream",
     "text": [
      "Train Loss: 0.9996479153633118\n",
      "Validation BCE Loss: 0.972321629524231\n",
      "Validation Dice Loss: 1.9722886085510254\n",
      "Validation IOU Loss: 0.9999834299087524\n",
      "\n",
      "\n",
      "[INFO] Epoch 2/2\n"
     ]
    },
    {
     "name": "stderr",
     "output_type": "stream",
     "text": [
      "100%|██████████| 334/334 [01:53<00:00,  2.95it/s]\n"
     ]
    },
    {
     "name": "stdout",
     "output_type": "stream",
     "text": [
      "Train Loss: 0.9996488094329834\n",
      "Validation BCE Loss: 0.972321629524231\n",
      "Validation Dice Loss: 1.9722886085510254\n",
      "Validation IOU Loss: 0.9999834299087524\n",
      "\n",
      "\n",
      "[INFO] Epoch 1/2\n"
     ]
    },
    {
     "name": "stderr",
     "output_type": "stream",
     "text": [
      "100%|██████████| 334/334 [01:53<00:00,  2.96it/s]\n"
     ]
    },
    {
     "name": "stdout",
     "output_type": "stream",
     "text": [
      "Train Loss: 0.9996492862701416\n",
      "Validation BCE Loss: 0.94041907787323\n",
      "Validation Dice Loss: 1.9403856992721558\n",
      "Validation IOU Loss: 0.9999834299087524\n",
      "\n",
      "\n",
      "[INFO] Epoch 2/2\n"
     ]
    },
    {
     "name": "stderr",
     "output_type": "stream",
     "text": [
      "100%|██████████| 334/334 [01:53<00:00,  2.95it/s]\n"
     ]
    },
    {
     "name": "stdout",
     "output_type": "stream",
     "text": [
      "Train Loss: 0.9996486902236938\n",
      "Validation BCE Loss: 0.94041907787323\n",
      "Validation Dice Loss: 1.9403856992721558\n",
      "Validation IOU Loss: 0.9999834299087524\n",
      "\n",
      "\n",
      "[INFO] Epoch 1/2\n"
     ]
    },
    {
     "name": "stderr",
     "output_type": "stream",
     "text": [
      "100%|██████████| 334/334 [01:53<00:00,  2.95it/s]\n"
     ]
    },
    {
     "name": "stdout",
     "output_type": "stream",
     "text": [
      "Train Loss: 0.9996477961540222\n",
      "Validation BCE Loss: 0.9849181771278381\n",
      "Validation Dice Loss: 1.984885573387146\n",
      "Validation IOU Loss: 0.9999834299087524\n",
      "\n",
      "\n",
      "[INFO] Epoch 2/2\n"
     ]
    },
    {
     "name": "stderr",
     "output_type": "stream",
     "text": [
      "100%|██████████| 334/334 [01:53<00:00,  2.95it/s]\n"
     ]
    },
    {
     "name": "stdout",
     "output_type": "stream",
     "text": [
      "Train Loss: 0.9996463656425476\n",
      "Validation BCE Loss: 0.9849181771278381\n",
      "Validation Dice Loss: 1.984885573387146\n",
      "Validation IOU Loss: 0.9999834299087524\n",
      "\n",
      "\n",
      "[INFO] Epoch 1/2\n"
     ]
    },
    {
     "name": "stderr",
     "output_type": "stream",
     "text": [
      "100%|██████████| 334/334 [01:53<00:00,  2.95it/s]\n"
     ]
    },
    {
     "name": "stdout",
     "output_type": "stream",
     "text": [
      "Train Loss: 0.9996471405029297\n",
      "Validation BCE Loss: 0.9793214797973633\n",
      "Validation Dice Loss: 1.9792876243591309\n",
      "Validation IOU Loss: 0.9999833703041077\n",
      "\n",
      "\n",
      "[INFO] Epoch 2/2\n"
     ]
    },
    {
     "name": "stderr",
     "output_type": "stream",
     "text": [
      "100%|██████████| 334/334 [01:53<00:00,  2.95it/s]\n"
     ]
    },
    {
     "name": "stdout",
     "output_type": "stream",
     "text": [
      "Train Loss: 0.999646782875061\n",
      "Validation BCE Loss: 0.9793214797973633\n",
      "Validation Dice Loss: 1.9792876243591309\n",
      "Validation IOU Loss: 0.9999833703041077\n",
      "\n",
      "\n",
      "[INFO] Epoch 1/2\n"
     ]
    },
    {
     "name": "stderr",
     "output_type": "stream",
     "text": [
      "100%|██████████| 334/334 [01:53<00:00,  2.95it/s]\n"
     ]
    },
    {
     "name": "stdout",
     "output_type": "stream",
     "text": [
      "Train Loss: 0.9996477961540222\n",
      "Validation BCE Loss: 0.9762652516365051\n",
      "Validation Dice Loss: 1.9762325286865234\n",
      "Validation IOU Loss: 0.9999834299087524\n",
      "\n",
      "\n",
      "[INFO] Epoch 2/2\n"
     ]
    },
    {
     "name": "stderr",
     "output_type": "stream",
     "text": [
      "100%|██████████| 334/334 [01:53<00:00,  2.95it/s]\n"
     ]
    },
    {
     "name": "stdout",
     "output_type": "stream",
     "text": [
      "Train Loss: 0.9996476173400879\n",
      "Validation BCE Loss: 0.9762652516365051\n",
      "Validation Dice Loss: 1.9762325286865234\n",
      "Validation IOU Loss: 0.9999834299087524\n",
      "\n",
      "\n",
      "[INFO] Epoch 1/2\n"
     ]
    },
    {
     "name": "stderr",
     "output_type": "stream",
     "text": [
      "100%|██████████| 334/334 [01:53<00:00,  2.95it/s]\n"
     ]
    },
    {
     "name": "stdout",
     "output_type": "stream",
     "text": [
      "Train Loss: 0.9996458888053894\n",
      "Validation BCE Loss: 1.0207290649414062\n",
      "Validation Dice Loss: 2.020695686340332\n",
      "Validation IOU Loss: 0.9999833703041077\n",
      "\n",
      "\n",
      "[INFO] Epoch 2/2\n"
     ]
    },
    {
     "name": "stderr",
     "output_type": "stream",
     "text": [
      "100%|██████████| 334/334 [01:53<00:00,  2.95it/s]\n"
     ]
    },
    {
     "name": "stdout",
     "output_type": "stream",
     "text": [
      "Train Loss: 0.999646008014679\n",
      "Validation BCE Loss: 1.0207290649414062\n",
      "Validation Dice Loss: 2.020695686340332\n",
      "Validation IOU Loss: 0.9999833703041077\n",
      "\n",
      "\n",
      "[INFO] Epoch 1/2\n"
     ]
    },
    {
     "name": "stderr",
     "output_type": "stream",
     "text": [
      "100%|██████████| 334/334 [01:53<00:00,  2.95it/s]\n"
     ]
    },
    {
     "name": "stdout",
     "output_type": "stream",
     "text": [
      "Train Loss: 0.9996496438980103\n",
      "Validation BCE Loss: 0.9462605118751526\n",
      "Validation Dice Loss: 1.9462271928787231\n",
      "Validation IOU Loss: 0.9999834299087524\n",
      "\n",
      "\n",
      "[INFO] Epoch 2/2\n"
     ]
    },
    {
     "name": "stderr",
     "output_type": "stream",
     "text": [
      "100%|██████████| 334/334 [01:53<00:00,  2.95it/s]\n"
     ]
    },
    {
     "name": "stdout",
     "output_type": "stream",
     "text": [
      "Train Loss: 0.9996498227119446\n",
      "Validation BCE Loss: 0.9462605118751526\n",
      "Validation Dice Loss: 1.9462271928787231\n",
      "Validation IOU Loss: 0.9999834299087524\n",
      "\n",
      "\n",
      "[INFO] Epoch 1/2\n"
     ]
    },
    {
     "name": "stderr",
     "output_type": "stream",
     "text": [
      "100%|██████████| 334/334 [01:53<00:00,  2.95it/s]\n"
     ]
    },
    {
     "name": "stdout",
     "output_type": "stream",
     "text": [
      "Train Loss: 0.9996477961540222\n",
      "Validation BCE Loss: 0.9894220232963562\n",
      "Validation Dice Loss: 1.9893893003463745\n",
      "Validation IOU Loss: 0.9999834299087524\n",
      "\n",
      "\n",
      "[INFO] Epoch 2/2\n"
     ]
    },
    {
     "name": "stderr",
     "output_type": "stream",
     "text": [
      "100%|██████████| 334/334 [01:53<00:00,  2.95it/s]\n"
     ]
    },
    {
     "name": "stdout",
     "output_type": "stream",
     "text": [
      "Train Loss: 0.9996472597122192\n",
      "Validation BCE Loss: 0.9894220232963562\n",
      "Validation Dice Loss: 1.9893893003463745\n",
      "Validation IOU Loss: 0.9999834299087524\n",
      "\n",
      "\n",
      "[INFO] Epoch 1/2\n"
     ]
    },
    {
     "name": "stderr",
     "output_type": "stream",
     "text": [
      "100%|██████████| 334/334 [01:53<00:00,  2.95it/s]\n"
     ]
    },
    {
     "name": "stdout",
     "output_type": "stream",
     "text": [
      "Train Loss: 0.9996452331542969\n",
      "Validation BCE Loss: 1.024427056312561\n",
      "Validation Dice Loss: 2.02439284324646\n",
      "Validation IOU Loss: 0.9999833703041077\n",
      "\n",
      "\n",
      "[INFO] Epoch 2/2\n"
     ]
    },
    {
     "name": "stderr",
     "output_type": "stream",
     "text": [
      "100%|██████████| 334/334 [01:59<00:00,  2.81it/s]\n"
     ]
    },
    {
     "name": "stdout",
     "output_type": "stream",
     "text": [
      "Train Loss: 0.9996463656425476\n",
      "Validation BCE Loss: 1.024427056312561\n",
      "Validation Dice Loss: 2.02439284324646\n",
      "Validation IOU Loss: 0.9999833703041077\n",
      "\n",
      "\n",
      "[INFO] Epoch 1/2\n"
     ]
    },
    {
     "name": "stderr",
     "output_type": "stream",
     "text": [
      "100%|██████████| 334/334 [01:57<00:00,  2.84it/s]\n"
     ]
    },
    {
     "name": "stdout",
     "output_type": "stream",
     "text": [
      "Train Loss: 0.9996470808982849\n",
      "Validation BCE Loss: 0.9732331037521362\n",
      "Validation Dice Loss: 1.9731996059417725\n",
      "Validation IOU Loss: 0.9999834299087524\n",
      "\n",
      "\n",
      "[INFO] Epoch 2/2\n"
     ]
    },
    {
     "name": "stderr",
     "output_type": "stream",
     "text": [
      "100%|██████████| 334/334 [01:57<00:00,  2.84it/s]\n"
     ]
    },
    {
     "name": "stdout",
     "output_type": "stream",
     "text": [
      "Train Loss: 0.9996477365493774\n",
      "Validation BCE Loss: 0.9732331037521362\n",
      "Validation Dice Loss: 1.9731996059417725\n",
      "Validation IOU Loss: 0.9999834299087524\n",
      "\n",
      "\n",
      "[INFO] Epoch 1/2\n"
     ]
    },
    {
     "name": "stderr",
     "output_type": "stream",
     "text": [
      "100%|██████████| 334/334 [01:54<00:00,  2.91it/s]\n"
     ]
    },
    {
     "name": "stdout",
     "output_type": "stream",
     "text": [
      "Train Loss: 0.9996477961540222\n",
      "Validation BCE Loss: 0.9578308463096619\n",
      "Validation Dice Loss: 1.9577980041503906\n",
      "Validation IOU Loss: 0.9999834299087524\n",
      "\n",
      "\n",
      "[INFO] Epoch 2/2\n"
     ]
    },
    {
     "name": "stderr",
     "output_type": "stream",
     "text": [
      "100%|██████████| 334/334 [01:54<00:00,  2.91it/s]\n"
     ]
    },
    {
     "name": "stdout",
     "output_type": "stream",
     "text": [
      "Train Loss: 0.9996481537818909\n",
      "Validation BCE Loss: 0.9578308463096619\n",
      "Validation Dice Loss: 1.9577980041503906\n",
      "Validation IOU Loss: 0.9999834299087524\n",
      "\n",
      "\n",
      "[INFO] Epoch 1/2\n"
     ]
    },
    {
     "name": "stderr",
     "output_type": "stream",
     "text": [
      "100%|██████████| 334/334 [01:54<00:00,  2.91it/s]\n"
     ]
    },
    {
     "name": "stdout",
     "output_type": "stream",
     "text": [
      "Train Loss: 0.9996461868286133\n",
      "Validation BCE Loss: 0.9874219298362732\n",
      "Validation Dice Loss: 1.9873887300491333\n",
      "Validation IOU Loss: 0.9999833703041077\n",
      "\n",
      "\n",
      "[INFO] Epoch 2/2\n"
     ]
    },
    {
     "name": "stderr",
     "output_type": "stream",
     "text": [
      "100%|██████████| 334/334 [01:54<00:00,  2.91it/s]\n"
     ]
    },
    {
     "name": "stdout",
     "output_type": "stream",
     "text": [
      "Train Loss: 0.9996470808982849\n",
      "Validation BCE Loss: 0.9874219298362732\n",
      "Validation Dice Loss: 1.9873887300491333\n",
      "Validation IOU Loss: 0.9999833703041077\n",
      "\n",
      "\n",
      "[INFO] Epoch 1/2\n"
     ]
    },
    {
     "name": "stderr",
     "output_type": "stream",
     "text": [
      "100%|██████████| 334/334 [01:54<00:00,  2.91it/s]\n"
     ]
    },
    {
     "name": "stdout",
     "output_type": "stream",
     "text": [
      "Train Loss: 0.9996480941772461\n",
      "Validation BCE Loss: 0.9644010663032532\n",
      "Validation Dice Loss: 1.9643683433532715\n",
      "Validation IOU Loss: 0.9999834299087524\n",
      "\n",
      "\n",
      "[INFO] Epoch 2/2\n"
     ]
    },
    {
     "name": "stderr",
     "output_type": "stream",
     "text": [
      "100%|██████████| 334/334 [01:53<00:00,  2.95it/s]\n"
     ]
    },
    {
     "name": "stdout",
     "output_type": "stream",
     "text": [
      "Train Loss: 0.9996484518051147\n",
      "Validation BCE Loss: 0.9644010663032532\n",
      "Validation Dice Loss: 1.9643683433532715\n",
      "Validation IOU Loss: 0.9999834299087524\n",
      "\n",
      "\n",
      "[INFO] Epoch 1/2\n"
     ]
    },
    {
     "name": "stderr",
     "output_type": "stream",
     "text": [
      "100%|██████████| 334/334 [01:52<00:00,  2.96it/s]\n"
     ]
    },
    {
     "name": "stdout",
     "output_type": "stream",
     "text": [
      "Train Loss: 0.9996488094329834\n",
      "Validation BCE Loss: 0.9560972452163696\n",
      "Validation Dice Loss: 1.9560641050338745\n",
      "Validation IOU Loss: 0.9999834299087524\n",
      "\n",
      "\n",
      "[INFO] Epoch 2/2\n"
     ]
    },
    {
     "name": "stderr",
     "output_type": "stream",
     "text": [
      "100%|██████████| 334/334 [01:53<00:00,  2.95it/s]\n"
     ]
    },
    {
     "name": "stdout",
     "output_type": "stream",
     "text": [
      "Train Loss: 0.9996469020843506\n",
      "Validation BCE Loss: 0.9560972452163696\n",
      "Validation Dice Loss: 1.9560641050338745\n",
      "Validation IOU Loss: 0.9999834299087524\n",
      "\n",
      "\n",
      "[INFO] Epoch 1/2\n"
     ]
    },
    {
     "name": "stderr",
     "output_type": "stream",
     "text": [
      "100%|██████████| 334/334 [01:56<00:00,  2.87it/s]\n"
     ]
    },
    {
     "name": "stdout",
     "output_type": "stream",
     "text": [
      "Train Loss: 0.9996482729911804\n",
      "Validation BCE Loss: 0.9750110507011414\n",
      "Validation Dice Loss: 1.9749774932861328\n",
      "Validation IOU Loss: 0.9999834299087524\n",
      "\n",
      "\n",
      "[INFO] Epoch 2/2\n"
     ]
    },
    {
     "name": "stderr",
     "output_type": "stream",
     "text": [
      "100%|██████████| 334/334 [02:02<00:00,  2.72it/s]\n"
     ]
    },
    {
     "name": "stdout",
     "output_type": "stream",
     "text": [
      "Train Loss: 0.999648928642273\n",
      "Validation BCE Loss: 0.9750110507011414\n",
      "Validation Dice Loss: 1.9749774932861328\n",
      "Validation IOU Loss: 0.9999834299087524\n",
      "\n",
      "\n",
      "[INFO] Epoch 1/2\n"
     ]
    },
    {
     "name": "stderr",
     "output_type": "stream",
     "text": [
      "100%|██████████| 334/334 [01:57<00:00,  2.84it/s]\n"
     ]
    },
    {
     "ename": "KeyboardInterrupt",
     "evalue": "",
     "output_type": "error",
     "traceback": [
      "\u001b[1;31m---------------------------------------------------------------------------\u001b[0m",
      "\u001b[1;31mKeyboardInterrupt\u001b[0m                         Traceback (most recent call last)",
      "Cell \u001b[1;32mIn[67], line 6\u001b[0m\n\u001b[0;32m      3\u001b[0m b\u001b[39m=\u001b[39m random\u001b[39m.\u001b[39mrandint(\u001b[39m1\u001b[39m,\u001b[39m100\u001b[39m)\n\u001b[0;32m      5\u001b[0m criterion \u001b[39m=\u001b[39m TverskyLoss(a\u001b[39m/\u001b[39m\u001b[39m100\u001b[39m, b\u001b[39m/\u001b[39m\u001b[39m100\u001b[39m)\n\u001b[1;32m----> 6\u001b[0m run_model(criterion\u001b[39m=\u001b[39;49mcriterion, name\u001b[39m=\u001b[39;49m\u001b[39mf\u001b[39;49m\u001b[39m\"\u001b[39;49m\u001b[39mUNET4-\u001b[39;49m\u001b[39m{\u001b[39;49;00mi\u001b[39m}\u001b[39;49;00m\u001b[39m\"\u001b[39;49m, nEpochs\u001b[39m=\u001b[39;49m\u001b[39m2\u001b[39;49m)\n\u001b[0;32m      7\u001b[0m \u001b[39mwith\u001b[39;00m \u001b[39mopen\u001b[39m(\u001b[39mf\u001b[39m\u001b[39m\"\u001b[39m\u001b[39mModels/UNET4-\u001b[39m\u001b[39m{\u001b[39;00mi\u001b[39m}\u001b[39;00m\u001b[39m/info.txt\u001b[39m\u001b[39m\"\u001b[39m, \u001b[39m\"\u001b[39m\u001b[39mw\u001b[39m\u001b[39m\"\u001b[39m) \u001b[39mas\u001b[39;00m file:\n\u001b[0;32m      8\u001b[0m     file\u001b[39m.\u001b[39mwrite(\u001b[39mf\u001b[39m\u001b[39m'\u001b[39m\u001b[39mA=\u001b[39m\u001b[39m{\u001b[39;00ma\u001b[39m}\u001b[39;00m\u001b[39m, B=\u001b[39m\u001b[39m{\u001b[39;00mb\u001b[39m}\u001b[39;00m\u001b[39m'\u001b[39m)\n",
      "Cell \u001b[1;32mIn[65], line 15\u001b[0m, in \u001b[0;36mrun_model\u001b[1;34m(criterion, model, init_lr, name, nEpochs)\u001b[0m\n\u001b[0;32m     13\u001b[0m \u001b[39mfor\u001b[39;00m e \u001b[39min\u001b[39;00m \u001b[39mrange\u001b[39m(nEpochs):\n\u001b[0;32m     14\u001b[0m     \u001b[39mprint\u001b[39m(\u001b[39mf\u001b[39m\u001b[39m\"\u001b[39m\u001b[39m\\n\u001b[39;00m\u001b[39m\\n\u001b[39;00m\u001b[39m[INFO] Epoch \u001b[39m\u001b[39m{\u001b[39;00me\u001b[39m+\u001b[39m\u001b[39m1\u001b[39m\u001b[39m}\u001b[39;00m\u001b[39m/\u001b[39m\u001b[39m{\u001b[39;00mnEpochs\u001b[39m}\u001b[39;00m\u001b[39m\"\u001b[39m)\n\u001b[1;32m---> 15\u001b[0m     train_loss, val_loss \u001b[39m=\u001b[39m train_epoch(model, criterion, optim, scheduler)\n\u001b[0;32m     16\u001b[0m     train_hist\u001b[39m.\u001b[39mappend(\u001b[39mfloat\u001b[39m(train_loss\u001b[39m.\u001b[39mdetach()\u001b[39m.\u001b[39mcpu()))\n\u001b[0;32m     17\u001b[0m     val_hist\u001b[39m.\u001b[39mappend(\u001b[39mfloat\u001b[39m(val_loss\u001b[39m.\u001b[39mdetach()\u001b[39m.\u001b[39mcpu()))\n",
      "Cell \u001b[1;32mIn[64], line 23\u001b[0m, in \u001b[0;36mtrain_epoch\u001b[1;34m(model, criterion, optim, scheduler)\u001b[0m\n\u001b[0;32m     21\u001b[0m \u001b[39mwith\u001b[39;00m torch\u001b[39m.\u001b[39mno_grad():\n\u001b[0;32m     22\u001b[0m     \u001b[39mfor\u001b[39;00m x,y \u001b[39min\u001b[39;00m validDL:\n\u001b[1;32m---> 23\u001b[0m         x, y \u001b[39m=\u001b[39m x\u001b[39m.\u001b[39;49mto(CFG\u001b[39m.\u001b[39;49mdevice), y\u001b[39m.\u001b[39mto(CFG\u001b[39m.\u001b[39mdevice)\n\u001b[0;32m     24\u001b[0m         pred \u001b[39m=\u001b[39m model(x)\u001b[39m.\u001b[39mdetach()\n\u001b[0;32m     25\u001b[0m         loss_bce \u001b[39m=\u001b[39m criterion_bce(pred, y)\n",
      "\u001b[1;31mKeyboardInterrupt\u001b[0m: "
     ]
    },
    {
     "ename": "",
     "evalue": "",
     "output_type": "error",
     "traceback": [
      "\u001b[1;31mThe Kernel crashed while executing code in the the current cell or a previous cell. Please review the code in the cell(s) to identify a possible cause of the failure. Click <a href='https://aka.ms/vscodeJupyterKernelCrash'>here</a> for more info. View Jupyter <a href='command:jupyter.viewOutput'>log</a> for further details."
     ]
    }
   ],
   "source": [
    "for i in range(200):\n",
    "    a = random.randint(1,100)\n",
    "    b= random.randint(1,100)\n",
    "\n",
    "    criterion = TverskyLoss(a/100, b/100)\n",
    "    run_model(criterion=criterion, name=f\"UNET4-{i}\", nEpochs=2)\n",
    "    with open(f\"Models/UNET4-{i}/info.txt\", \"w\") as file:\n",
    "        file.write(f'A={a}, B={b}')\n",
    "        file.close()"
   ]
  },
  {
   "cell_type": "code",
   "execution_count": null,
   "metadata": {},
   "outputs": [],
   "source": [
    "losses = {}\n",
    "for i in glob(\"Models/**\"):\n",
    "    if os.path.exists(f\"{i}\\logs.csv\"):\n",
    "        file_loss = min(pd.read_csv(f\"{i}\\logs.csv\")[\"validation\"])\n",
    "        losses[split(i)[-1]] = file_loss"
   ]
  },
  {
   "cell_type": "code",
   "execution_count": null,
   "metadata": {},
   "outputs": [
    {
     "name": "stdout",
     "output_type": "stream",
     "text": [
      "UNET2-2\n"
     ]
    }
   ],
   "source": [
    "for i in losses:\n",
    "    if losses[i] == min(losses.values()):\n",
    "        print(i)\n",
    "        best = f\"Models/{i}/model.pt\""
   ]
  },
  {
   "cell_type": "code",
   "execution_count": null,
   "metadata": {},
   "outputs": [],
   "source": [
    "# model = UNET().to(CFG.device)\n",
    "# model.load_state_dict(torch.load(best))"
   ]
  },
  {
   "cell_type": "code",
   "execution_count": null,
   "metadata": {},
   "outputs": [
    {
     "ename": "NameError",
     "evalue": "name 'TverskyLoss' is not defined",
     "output_type": "error",
     "traceback": [
      "\u001b[1;31m---------------------------------------------------------------------------\u001b[0m",
      "\u001b[1;31mNameError\u001b[0m                                 Traceback (most recent call last)",
      "Cell \u001b[1;32mIn[1], line 3\u001b[0m\n\u001b[0;32m      1\u001b[0m TRAIN \u001b[39m=\u001b[39m \u001b[39mTrue\u001b[39;00m\n\u001b[0;32m      2\u001b[0m \u001b[39mif\u001b[39;00m TRAIN:\n\u001b[1;32m----> 3\u001b[0m     criterion \u001b[39m=\u001b[39m TverskyLoss(\u001b[39m0.3\u001b[39m, \u001b[39m0.8\u001b[39m)\n\u001b[0;32m      4\u001b[0m     run_model(model \u001b[39m=\u001b[39m model, criterion\u001b[39m=\u001b[39mcriterion, name\u001b[39m=\u001b[39m\u001b[39m\"\u001b[39m\u001b[39mFine Tuned UNET2\u001b[39m\u001b[39m\"\u001b[39m)\n",
      "\u001b[1;31mNameError\u001b[0m: name 'TverskyLoss' is not defined"
     ]
    }
   ],
   "source": [
    "TRAIN = False\n",
    "if TRAIN:\n",
    "    criterion = TverskyLoss(0.3, 0.8)\n",
    "    run_model(model = model, criterion=criterion, name=\"Fine Tuned UNET2\")"
   ]
  },
  {
   "attachments": {},
   "cell_type": "markdown",
   "metadata": {},
   "source": [
    "# Inference"
   ]
  },
  {
   "cell_type": "code",
   "execution_count": null,
   "metadata": {},
   "outputs": [],
   "source": [
    "def run_inference(img_num = None, th=97):\n",
    "    if not img_num:\n",
    "        img_num = random.randint(1, len(test))\n",
    "\n",
    "    print(f\"Image Number: {img_num}\")\n",
    "\n",
    "    img = test[img_num][0]\n",
    "    label = test[img_num][1]\n",
    "\n",
    "    inference_img = torch.Tensor(img).to(CFG.device).reshape(1,1,512,512)\n",
    "    model.eval()\n",
    "    inference = model(inference_img)\n",
    "    inf = inference.squeeze().detach().cpu().numpy()\n",
    "    inf2 = (inf-inf.min())/inf.max()\n",
    "    th = np.percentile(inf2.flatten(), th)\n",
    "\n",
    "    fig,ax = plt.subplots(1,4,figsize=(15,15))\n",
    "\n",
    "    ax[0].imshow(img.transpose(1,2,0), cmap='gray')\n",
    "    ax[0].axis(False)\n",
    "    ax[0].set_title(\"Image\", fontsize=10)\n",
    "\n",
    "    ax[1].imshow(inf2>th, cmap='gray')\n",
    "    ax[1].axis(False)\n",
    "    ax[1].set_title(\"Prediction\", fontsize=10)\n",
    "\n",
    "    ax[2].imshow(label.squeeze(), cmap='gray')\n",
    "    ax[2].axis(False)\n",
    "    ax[2].set_title(\"Label\", fontsize=10)\n",
    "\n",
    "    pred = (inf2>th)\n",
    "    \n",
    "    overlay = (img*0.1).squeeze()\n",
    "    overlay = np.stack([overlay, overlay, overlay]).transpose(1,2,0)\n",
    "    overlay[:,:,0] = overlay[:,:,0] + (label.squeeze() * img.squeeze()).squeeze()  # Red\n",
    "    overlay[:,:,2] = overlay[:,:,2] + (pred.squeeze() * label.squeeze()).squeeze() # Green\n",
    "    ax[3].imshow(overlay)\n",
    "    ax[3].axis(False)\n",
    "    ax[3].set_title(\"Accuracy\", fontsize=10)\n",
    "    plt.show()"
   ]
  },
  {
   "cell_type": "code",
   "execution_count": null,
   "metadata": {},
   "outputs": [
    {
     "name": "stdout",
     "output_type": "stream",
     "text": [
      "Image Number: 348\n"
     ]
    },
    {
     "name": "stderr",
     "output_type": "stream",
     "text": [
      "Clipping input data to the valid range for imshow with RGB data ([0..1] for floats or [0..255] for integers).\n"
     ]
    },
    {
     "data": {
      "image/png": "[encoded data removed]",
      "text/plain": [
       "<Figure size 1500x1500 with 4 Axes>"
      ]
     },
     "metadata": {},
     "output_type": "display_data"
    }
   ],
   "source": [
    "run_inference(348, th=99)"
   ]
  },
  {
   "attachments": {},
   "cell_type": "markdown",
   "metadata": {},
   "source": [
    "# Save Model"
   ]
  },
  {
   "attachments": {},
   "cell_type": "markdown",
   "metadata": {},
   "source": [
    "Create folder \n",
    "\n",
    "\n",
    "Models\\\\model_name\\\\\n",
    "\n",
    "For Each Training\n",
    "Models\\\\baseline_0\\\\baseline_0.pt"
   ]
  },
  {
   "cell_type": "code",
   "execution_count": null,
   "metadata": {},
   "outputs": [
    {
     "ename": "AttributeError",
     "evalue": "type object 'CFG' has no attribute 'model_name'",
     "output_type": "error",
     "traceback": [
      "\u001b[1;31m---------------------------------------------------------------------------\u001b[0m",
      "\u001b[1;31mAttributeError\u001b[0m                            Traceback (most recent call last)",
      "Cell \u001b[1;32mIn[47], line 2\u001b[0m\n\u001b[0;32m      1\u001b[0m \u001b[39mif\u001b[39;00m CFG\u001b[39m.\u001b[39mtrain_new:\n\u001b[1;32m----> 2\u001b[0m     os\u001b[39m.\u001b[39mmkdir(\u001b[39mf\u001b[39m\u001b[39m\"\u001b[39m\u001b[39mModels/\u001b[39m\u001b[39m{\u001b[39;00mCFG\u001b[39m.\u001b[39;49mmodel_name\u001b[39m}\u001b[39;00m\u001b[39m\"\u001b[39m)\n\u001b[0;32m      3\u001b[0m     os\u001b[39m.\u001b[39mmkdir(\u001b[39mf\u001b[39m\u001b[39m\"\u001b[39m\u001b[39mModels/\u001b[39m\u001b[39m{\u001b[39;00mCFG\u001b[39m.\u001b[39mmodel_name\u001b[39m}\u001b[39;00m\u001b[39m/logs\u001b[39m\u001b[39m\"\u001b[39m)\n",
      "\u001b[1;31mAttributeError\u001b[0m: type object 'CFG' has no attribute 'model_name'"
     ]
    }
   ],
   "source": [
    "if CFG.train_new:\n",
    "    os.mkdir(f\"Models/{CFG.model_name}\")\n",
    "    os.mkdir(f\"Models/{CFG.model_name}/logs\")"
   ]
  },
  {
   "cell_type": "code",
   "execution_count": null,
   "metadata": {},
   "outputs": [
    {
     "ename": "TypeError",
     "evalue": "Object of type Tensor is not JSON serializable",
     "output_type": "error",
     "traceback": [
      "\u001b[1;31m---------------------------------------------------------------------------\u001b[0m",
      "\u001b[1;31mTypeError\u001b[0m                                 Traceback (most recent call last)",
      "Cell \u001b[1;32mIn[80], line 4\u001b[0m\n\u001b[0;32m      2\u001b[0m log_num \u001b[39m=\u001b[39m \u001b[39mlen\u001b[39m(os\u001b[39m.\u001b[39mlistdir(\u001b[39mf\u001b[39m\u001b[39m\"\u001b[39m\u001b[39mModels/\u001b[39m\u001b[39m{\u001b[39;00mCFG\u001b[39m.\u001b[39mmodel_name\u001b[39m}\u001b[39;00m\u001b[39m/logs\u001b[39m\u001b[39m\"\u001b[39m))\n\u001b[0;32m      3\u001b[0m \u001b[39mwith\u001b[39;00m \u001b[39mopen\u001b[39m(\u001b[39mf\u001b[39m\u001b[39m\"\u001b[39m\u001b[39mModels/\u001b[39m\u001b[39m{\u001b[39;00mCFG\u001b[39m.\u001b[39mmodel_name\u001b[39m}\u001b[39;00m\u001b[39m/logs/log_\u001b[39m\u001b[39m{\u001b[39;00mlog_num\u001b[39m}\u001b[39;00m\u001b[39m\"\u001b[39m, \u001b[39m\"\u001b[39m\u001b[39mw\u001b[39m\u001b[39m\"\u001b[39m) \u001b[39mas\u001b[39;00m out_path:\n\u001b[1;32m----> 4\u001b[0m     json\u001b[39m.\u001b[39;49mdump(history, out_path)\n",
      "File \u001b[1;32mc:\\Users\\chewr\\anaconda3\\envs\\tf\\lib\\json\\__init__.py:179\u001b[0m, in \u001b[0;36mdump\u001b[1;34m(obj, fp, skipkeys, ensure_ascii, check_circular, allow_nan, cls, indent, separators, default, sort_keys, **kw)\u001b[0m\n\u001b[0;32m    173\u001b[0m     iterable \u001b[39m=\u001b[39m \u001b[39mcls\u001b[39m(skipkeys\u001b[39m=\u001b[39mskipkeys, ensure_ascii\u001b[39m=\u001b[39mensure_ascii,\n\u001b[0;32m    174\u001b[0m         check_circular\u001b[39m=\u001b[39mcheck_circular, allow_nan\u001b[39m=\u001b[39mallow_nan, indent\u001b[39m=\u001b[39mindent,\n\u001b[0;32m    175\u001b[0m         separators\u001b[39m=\u001b[39mseparators,\n\u001b[0;32m    176\u001b[0m         default\u001b[39m=\u001b[39mdefault, sort_keys\u001b[39m=\u001b[39msort_keys, \u001b[39m*\u001b[39m\u001b[39m*\u001b[39mkw)\u001b[39m.\u001b[39miterencode(obj)\n\u001b[0;32m    177\u001b[0m \u001b[39m# could accelerate with writelines in some versions of Python, at\u001b[39;00m\n\u001b[0;32m    178\u001b[0m \u001b[39m# a debuggability cost\u001b[39;00m\n\u001b[1;32m--> 179\u001b[0m \u001b[39mfor\u001b[39;00m chunk \u001b[39min\u001b[39;00m iterable:\n\u001b[0;32m    180\u001b[0m     fp\u001b[39m.\u001b[39mwrite(chunk)\n",
      "File \u001b[1;32mc:\\Users\\chewr\\anaconda3\\envs\\tf\\lib\\json\\encoder.py:431\u001b[0m, in \u001b[0;36m_make_iterencode.<locals>._iterencode\u001b[1;34m(o, _current_indent_level)\u001b[0m\n\u001b[0;32m    429\u001b[0m     \u001b[39myield from\u001b[39;00m _iterencode_list(o, _current_indent_level)\n\u001b[0;32m    430\u001b[0m \u001b[39melif\u001b[39;00m \u001b[39misinstance\u001b[39m(o, \u001b[39mdict\u001b[39m):\n\u001b[1;32m--> 431\u001b[0m     \u001b[39myield from\u001b[39;00m _iterencode_dict(o, _current_indent_level)\n\u001b[0;32m    432\u001b[0m \u001b[39melse\u001b[39;00m:\n\u001b[0;32m    433\u001b[0m     \u001b[39mif\u001b[39;00m markers \u001b[39mis\u001b[39;00m \u001b[39mnot\u001b[39;00m \u001b[39mNone\u001b[39;00m:\n",
      "File \u001b[1;32mc:\\Users\\chewr\\anaconda3\\envs\\tf\\lib\\json\\encoder.py:405\u001b[0m, in \u001b[0;36m_make_iterencode.<locals>._iterencode_dict\u001b[1;34m(dct, _current_indent_level)\u001b[0m\n\u001b[0;32m    403\u001b[0m         \u001b[39melse\u001b[39;00m:\n\u001b[0;32m    404\u001b[0m             chunks \u001b[39m=\u001b[39m _iterencode(value, _current_indent_level)\n\u001b[1;32m--> 405\u001b[0m         \u001b[39myield from\u001b[39;00m chunks\n\u001b[0;32m    406\u001b[0m \u001b[39mif\u001b[39;00m newline_indent \u001b[39mis\u001b[39;00m \u001b[39mnot\u001b[39;00m \u001b[39mNone\u001b[39;00m:\n\u001b[0;32m    407\u001b[0m     _current_indent_level \u001b[39m-\u001b[39m\u001b[39m=\u001b[39m \u001b[39m1\u001b[39m\n",
      "File \u001b[1;32mc:\\Users\\chewr\\anaconda3\\envs\\tf\\lib\\json\\encoder.py:325\u001b[0m, in \u001b[0;36m_make_iterencode.<locals>._iterencode_list\u001b[1;34m(lst, _current_indent_level)\u001b[0m\n\u001b[0;32m    323\u001b[0m         \u001b[39melse\u001b[39;00m:\n\u001b[0;32m    324\u001b[0m             chunks \u001b[39m=\u001b[39m _iterencode(value, _current_indent_level)\n\u001b[1;32m--> 325\u001b[0m         \u001b[39myield from\u001b[39;00m chunks\n\u001b[0;32m    326\u001b[0m \u001b[39mif\u001b[39;00m newline_indent \u001b[39mis\u001b[39;00m \u001b[39mnot\u001b[39;00m \u001b[39mNone\u001b[39;00m:\n\u001b[0;32m    327\u001b[0m     _current_indent_level \u001b[39m-\u001b[39m\u001b[39m=\u001b[39m \u001b[39m1\u001b[39m\n",
      "File \u001b[1;32mc:\\Users\\chewr\\anaconda3\\envs\\tf\\lib\\json\\encoder.py:438\u001b[0m, in \u001b[0;36m_make_iterencode.<locals>._iterencode\u001b[1;34m(o, _current_indent_level)\u001b[0m\n\u001b[0;32m    436\u001b[0m         \u001b[39mraise\u001b[39;00m \u001b[39mValueError\u001b[39;00m(\u001b[39m\"\u001b[39m\u001b[39mCircular reference detected\u001b[39m\u001b[39m\"\u001b[39m)\n\u001b[0;32m    437\u001b[0m     markers[markerid] \u001b[39m=\u001b[39m o\n\u001b[1;32m--> 438\u001b[0m o \u001b[39m=\u001b[39m _default(o)\n\u001b[0;32m    439\u001b[0m \u001b[39myield from\u001b[39;00m _iterencode(o, _current_indent_level)\n\u001b[0;32m    440\u001b[0m \u001b[39mif\u001b[39;00m markers \u001b[39mis\u001b[39;00m \u001b[39mnot\u001b[39;00m \u001b[39mNone\u001b[39;00m:\n",
      "File \u001b[1;32mc:\\Users\\chewr\\anaconda3\\envs\\tf\\lib\\json\\encoder.py:179\u001b[0m, in \u001b[0;36mJSONEncoder.default\u001b[1;34m(self, o)\u001b[0m\n\u001b[0;32m    160\u001b[0m \u001b[39mdef\u001b[39;00m \u001b[39mdefault\u001b[39m(\u001b[39mself\u001b[39m, o):\n\u001b[0;32m    161\u001b[0m \u001b[39m    \u001b[39m\u001b[39m\"\"\"Implement this method in a subclass such that it returns\u001b[39;00m\n\u001b[0;32m    162\u001b[0m \u001b[39m    a serializable object for ``o``, or calls the base implementation\u001b[39;00m\n\u001b[0;32m    163\u001b[0m \u001b[39m    (to raise a ``TypeError``).\u001b[39;00m\n\u001b[1;32m   (...)\u001b[0m\n\u001b[0;32m    177\u001b[0m \n\u001b[0;32m    178\u001b[0m \u001b[39m    \"\"\"\u001b[39;00m\n\u001b[1;32m--> 179\u001b[0m     \u001b[39mraise\u001b[39;00m \u001b[39mTypeError\u001b[39;00m(\u001b[39mf\u001b[39m\u001b[39m'\u001b[39m\u001b[39mObject of type \u001b[39m\u001b[39m{\u001b[39;00mo\u001b[39m.\u001b[39m\u001b[39m__class__\u001b[39m\u001b[39m.\u001b[39m\u001b[39m__name__\u001b[39m\u001b[39m}\u001b[39;00m\u001b[39m \u001b[39m\u001b[39m'\u001b[39m\n\u001b[0;32m    180\u001b[0m                     \u001b[39mf\u001b[39m\u001b[39m'\u001b[39m\u001b[39mis not JSON serializable\u001b[39m\u001b[39m'\u001b[39m)\n",
      "\u001b[1;31mTypeError\u001b[0m: Object of type Tensor is not JSON serializable"
     ]
    }
   ],
   "source": [
    "# Save History as JSON\n",
    "log_num = len(os.listdir(f\"Models/{CFG.model_name}/logs\"))\n",
    "with open(f\"Models/{CFG.model_name}/logs/log_{log_num}\", \"w\") as out_path:\n",
    "    json.dump(history, out_path)"
   ]
  },
  {
   "cell_type": "code",
   "execution_count": null,
   "metadata": {},
   "outputs": [],
   "source": [
    "torch.save(model, f\"Models/baseline/{CFG.model_name}.pt\")"
   ]
  },
  {
   "cell_type": "code",
   "execution_count": null,
   "metadata": {},
   "outputs": [
    {
     "data": {
      "text/plain": [
       "'baseline_1'"
      ]
     },
     "execution_count": 29,
     "metadata": {},
     "output_type": "execute_result"
    }
   ],
   "source": [
    "CFG.model_name"
   ]
  },
  {
   "attachments": {},
   "cell_type": "markdown",
   "metadata": {},
   "source": [
    "# Notes"
   ]
  },
  {
   "attachments": {},
   "cell_type": "markdown",
   "metadata": {},
   "source": [
    "* Dropout\n",
    "* Pixel Level Accuracy\n",
    "* Single Conv in Block (Save Memory)\n",
    "* Check Zoom\n",
    "* 3D UNET"
   ]
  }
 ],
 "metadata": {
  "kernelspec": {
   "display_name": "tf",
   "language": "python",
   "name": "python3"
  },
  "language_info": {
   "codemirror_mode": {
    "name": "ipython",
    "version": 3
   },
   "file_extension": ".py",
   "mimetype": "text/x-python",
   "name": "python",
   "nbconvert_exporter": "python",
   "pygments_lexer": "ipython3",
   "version": "3.10.9"
  },
  "orig_nbformat": 4
 },
 "nbformat": 4,
 "nbformat_minor": 2
}
