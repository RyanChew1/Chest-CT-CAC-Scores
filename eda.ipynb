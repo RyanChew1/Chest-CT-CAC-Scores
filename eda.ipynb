{
 "cells": [
  {
   "attachments": {},
   "cell_type": "markdown",
   "metadata": {},
   "source": [
    "# **COCA Coronary Calcium and Chest CT - Exploratory Data Analysis**"
   ]
  },
  {
   "attachments": {},
   "cell_type": "markdown",
   "metadata": {},
   "source": [
    "## Sources:\n",
    "\n",
    "Data - https://stanfordaimi.azurewebsites.net/datasets/e8ca74dc-8dd4-4340-815a-60b41f6cb2aa"
   ]
  },
  {
   "attachments": {},
   "cell_type": "markdown",
   "metadata": {},
   "source": [
    "# Import Dependencies"
   ]
  },
  {
   "cell_type": "code",
   "execution_count": 161,
   "metadata": {},
   "outputs": [],
   "source": [
    "# File Support\n",
    "try: \n",
    "    import pydicom as dcm\n",
    "except:\n",
    "    # Use try except for Google Colab\n",
    "    !pip install pydicom\n",
    "from pydicom.data import get_testdata_files\n",
    "import xml\n",
    "import xml.etree.ElementTree as ET \n",
    "\n",
    "# Base\n",
    "import numpy as np\n",
    "import pandas as pd\n",
    "import random\n",
    "\n",
    "# Visualization\n",
    "import matplotlib.pyplot as plt\n",
    "import seaborn as sns\n",
    "from PIL import Image\n",
    "\n",
    "# SK-learn\n",
    "import sklearn\n",
    "\n",
    "# Files\n",
    "import os\n",
    "from os.path import join\n",
    "from glob import glob"
   ]
  },
  {
   "attachments": {},
   "cell_type": "markdown",
   "metadata": {},
   "source": [
    "# Config"
   ]
  },
  {
   "cell_type": "code",
   "execution_count": 162,
   "metadata": {},
   "outputs": [],
   "source": [
    "class CFG:\n",
    "    random_seed = 42\n",
    "    gated = True\n",
    "    path = \"Coronary CT Data\\Gated_release_final\" if gated else \"Coronary CT Data/deidentified_nongated\""
   ]
  },
  {
   "attachments": {},
   "cell_type": "markdown",
   "metadata": {},
   "source": [
    "## Reproducibility"
   ]
  },
  {
   "cell_type": "code",
   "execution_count": 163,
   "metadata": {},
   "outputs": [
    {
     "name": "stdout",
     "output_type": "stream",
     "text": [
      "Seed: 42\n"
     ]
    }
   ],
   "source": [
    "def set_seed(seed=CFG.random_seed):\n",
    "    print(f\"Seed: {seed}\")\n",
    "    random.seed(seed)\n",
    "    np.random.seed(seed)\n",
    "    # torch.manual_seed(seed)\n",
    "\n",
    "set_seed()"
   ]
  },
  {
   "attachments": {},
   "cell_type": "markdown",
   "metadata": {},
   "source": [
    "# Load Data"
   ]
  },
  {
   "cell_type": "code",
   "execution_count": 164,
   "metadata": {},
   "outputs": [],
   "source": [
    "def read_dicom(path):\n",
    "    return dcm.dcmread(path).pixel_array"
   ]
  },
  {
   "cell_type": "code",
   "execution_count": 165,
   "metadata": {},
   "outputs": [
    {
     "name": "stdout",
     "output_type": "stream",
     "text": [
      "40113 images\n",
      "451 patients\n"
     ]
    }
   ],
   "source": [
    "image_paths = glob(f\"{CFG.path}/**/**/**/*.dcm\")\n",
    "label_paths = glob(f\"{CFG.path}/**/**.xml\") # Fix\n",
    "print(f\"{len(image_paths)} images\")\n",
    "print(f\"{len(label_paths)} patients\") # Fix"
   ]
  },
  {
   "cell_type": "code",
   "execution_count": 166,
   "metadata": {},
   "outputs": [
    {
     "data": {
      "text/plain": [
       "'Coronary CT Data\\\\Gated_release_final\\\\calcium_xml\\\\0.xml'"
      ]
     },
     "execution_count": 166,
     "metadata": {},
     "output_type": "execute_result"
    }
   ],
   "source": [
    "label_paths[0]"
   ]
  },
  {
   "cell_type": "code",
   "execution_count": 167,
   "metadata": {},
   "outputs": [],
   "source": [
    "arr = read_dicom(image_paths[0])"
   ]
  },
  {
   "cell_type": "code",
   "execution_count": 168,
   "metadata": {},
   "outputs": [],
   "source": [
    "arr2 = read_dicom(image_paths[70])"
   ]
  },
  {
   "cell_type": "code",
   "execution_count": 260,
   "metadata": {},
   "outputs": [
    {
     "data": {
      "text/plain": [
       "{'ImageIndex': '34',\n",
       " 'NumberOfROIs': '1',\n",
       " 'ROIs': [{'Area': '0.029283028095960617',\n",
       "   'Center': '(-30.509375, -248.681641, -183.250000)',\n",
       "   'Dev': '23.731674194335938',\n",
       "   'IndexInImage': '0',\n",
       "   'Length': '0.97119766473770142',\n",
       "   'Max': '206',\n",
       "   'Mean': '160.76922607421875',\n",
       "   'Min': '131',\n",
       "   'Name': 'Right Coronary Artery',\n",
       "   'NumberOfPoints': '20',\n",
       "   'Point_mm': 'Point_px',\n",
       "   'Total': '2090',\n",
       "   'Type': '20',\n",
       "   'point_mm': ['(-30.697357, -249.156250, -183.250000)',\n",
       "    '(-30.699219, -249.154388, -183.250000)',\n",
       "    '(-31.173828, -249.154388, -183.250000)',\n",
       "    '(-31.648438, -249.154388, -183.250000)',\n",
       "    '(-32.123047, -249.154388, -183.250000)',\n",
       "    '(-32.595795, -248.681641, -183.250000)',\n",
       "    '(-32.123047, -248.208893, -183.250000)',\n",
       "    '(-31.648438, -248.208893, -183.250000)',\n",
       "    '(-31.173828, -248.208893, -183.250000)',\n",
       "    '(-30.699219, -248.208893, -183.250000)',\n",
       "    '(-30.697357, -248.207031, -183.250000)',\n",
       "    '(-30.224609, -247.734283, -183.250000)',\n",
       "    '(-29.750000, -247.734283, -183.250000)',\n",
       "    '(-29.275391, -247.734283, -183.250000)',\n",
       "    '(-28.802643, -248.207031, -183.250000)',\n",
       "    '(-28.802643, -248.681641, -183.250000)',\n",
       "    '(-28.802643, -249.156250, -183.250000)',\n",
       "    '(-29.275391, -249.628998, -183.250000)',\n",
       "    '(-29.750000, -249.628998, -183.250000)',\n",
       "    '(-30.224609, -249.628998, -183.250000)'],\n",
       "   'point_px': ['(126.003922, 144.000000)',\n",
       "    '(126.000000, 144.003922)',\n",
       "    '(125.000000, 144.003922)',\n",
       "    '(124.000000, 144.003922)',\n",
       "    '(123.000000, 144.003922)',\n",
       "    '(122.003922, 145.000000)',\n",
       "    '(123.000000, 145.996078)',\n",
       "    '(124.000000, 145.996078)',\n",
       "    '(125.000000, 145.996078)',\n",
       "    '(126.000000, 145.996078)',\n",
       "    '(126.003922, 146.000000)',\n",
       "    '(127.000000, 146.996078)',\n",
       "    '(128.000000, 146.996078)',\n",
       "    '(129.000000, 146.996078)',\n",
       "    '(129.996078, 146.000000)',\n",
       "    '(129.996078, 145.000000)',\n",
       "    '(129.996078, 144.000000)',\n",
       "    '(129.000000, 143.003922)',\n",
       "    '(128.000000, 143.003922)',\n",
       "    '(127.000000, 143.003922)']}]}"
      ]
     },
     "execution_count": 260,
     "metadata": {},
     "output_type": "execute_result"
    }
   ],
   "source": [
    "def parseXML(xmlfile): \n",
    "    # create element tree object \n",
    "    tree = ET.parse(xmlfile) \n",
    "\n",
    "    all_images = []\n",
    "\n",
    "    images = tree.find(\"dict\").find(\"array\")\n",
    "    images = images.findall(\"dict\")\n",
    "\n",
    "    # Images\n",
    "    for image in images:\n",
    "        image_data = {}\n",
    "        arr = [i.text for i in image if i.tag not in [\"array\", \"dict\"]]\n",
    "        \n",
    "        for i in range(len(arr)//2):\n",
    "            image_data[arr[2*i]] = arr[2*i+1]\n",
    "\n",
    "        image_data['ROIs'] = []\n",
    "\n",
    "        # ROI\n",
    "        all_roi = image.find(\"array\").findall('dict')\n",
    "        for roi in all_roi:\n",
    "            roi_data = {}\n",
    "            arr = [i.text for i in roi if i.tag not in [\"array\", \"dict\"]]\n",
    "        \n",
    "            for i in range(len(arr)//2):\n",
    "                roi_data[arr[2*i]] = arr[2*i+1]\n",
    "\n",
    "            all_points = roi.findall('array')\n",
    "            roi_data['point_mm'] = [i.text for i in all_points[0].findall(\"string\")]\n",
    "            roi_data['point_px'] = [i.text for i in all_points[1].findall(\"string\")]\n",
    "            \n",
    "            image_data['ROIs'].append(roi_data)\n",
    "        all_images.append(image_data)\n",
    "\n",
    "    return all_images\n",
    "\n",
    "    \n",
    "parseXML(label_paths[0])[0]"
   ]
  }
 ],
 "metadata": {
  "kernelspec": {
   "display_name": "tf",
   "language": "python",
   "name": "python3"
  },
  "language_info": {
   "codemirror_mode": {
    "name": "ipython",
    "version": 3
   },
   "file_extension": ".py",
   "mimetype": "text/x-python",
   "name": "python",
   "nbconvert_exporter": "python",
   "pygments_lexer": "ipython3",
   "version": "3.9.16"
  },
  "orig_nbformat": 4
 },
 "nbformat": 4,
 "nbformat_minor": 2
}
